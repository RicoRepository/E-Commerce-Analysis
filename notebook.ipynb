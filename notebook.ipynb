{
  "cells": [
    {
      "cell_type": "markdown",
      "metadata": {
        "id": "XEjztrlaFNCg"
      },
      "source": [
        "# Proyek Analisis Data: E-Commerce Public Dataset\n",
        "- **Nama:** Bernardinus Rico Dewanto\n",
        "- **Email:** dewantobernardinus@gmail.com\n",
        "- **ID Dicoding:** bernardinus_rico"
      ]
    },
    {
      "cell_type": "markdown",
      "metadata": {
        "id": "MTaJvwJq1Lqq"
      },
      "source": [
        "# Overview"
      ]
    },
    {
      "cell_type": "markdown",
      "metadata": {
        "id": "uywThfhc15_2"
      },
      "source": [
        "E-commerce adalah proses membeli dan menjual barang atau jasa melalui internet. Ini mencakup berbagai aktivitas yang terjadi secara online, termasuk:\n",
        "1. B2C (Business-to-Consumer):\n",
        "Model ini melibatkan transaksi antara perusahaan dan konsumen. Contoh yang paling umum adalah toko online seperti Amazon, eBay, atau Tokopedia.\n",
        "2. B2B (Business-to-Business):\n",
        "Dalam model ini, transaksi dilakukan antara dua bisnis. Misalnya, perusahaan yang menjual produk atau jasa kepada perusahaan lain, seperti pemasok bahan baku.\n",
        "3. C2C (Consumer-to-Consumer):\n",
        "Model ini melibatkan transaksi antara konsumen, sering kali melalui platform yang memfasilitasi perdagangan, seperti OLX atau marketplace lainnya.\n",
        "4. C2B (Consumer-to-Business):\n",
        "Dalam model ini, konsumen menawarkan produk atau jasa kepada perusahaan. Contoh termasuk freelancer yang menawarkan layanan mereka di platform seperti Upwork.\n",
        "\n",
        "Fitur E-commerce :\n",
        "- Website atau Platform Online.\n",
        "- Pembayaran Digital\n",
        "- Logistik dan Pengiriman.\n",
        "- Layanan Pelanggan melalui chat, email, atau telepon.\n",
        "\n",
        "Manfaat E-commerce\n",
        "- Akses Global.\n",
        "- Pembeli dapat berbelanja kapan saja dan di mana saja tanpa harus mengunjungi toko fisik.\n",
        "- Beragam Pilihan."
      ]
    },
    {
      "cell_type": "markdown",
      "metadata": {
        "id": "Pa0QM7fh2yMX"
      },
      "source": [
        "### Permasalahan\n",
        "Pada dataset e-commerce ini, dataset memiliki beberapa bagian yang terdiri dari data customers, geolocation, order_items, order_payments, order_review, orders, product_category, products, users.\n",
        "\n",
        "Dalam konsistensi perusahaan untuk memberikan pelayanan yang terbaik kepada user/pelanggan, **perusahaan akan terus berinovasi dengan meningkatkan pelayanan** pada website dan memperkenalkan fitur-fitur baru yang memudahkan navigasi serta interaksi. Selain itu, perusahaan juga akan fokus pada personalisasi pengalaman pengguna dengan memberikan rekomendasi produk yang relevan berdasarkan riwayat pembelian dan preferensi mereka.  Dengan demikian, masyarakat pengguna E-commerce akan lebih nyaman dalam bertransaksi.\n",
        "\n",
        "Untuk menjawab permasalahan tersebut saya akan memberikan referensi sebagai berikut :\n",
        "1. Produk apa yang paling banyak dan sedikit terjual?\n",
        "2. Wilayah yang paling sering melakukan transaksi\n",
        "3. Bagaimana tingkatan review yang diberikan oleh pelanggan ke suatu produk?"
      ]
    },
    {
      "cell_type": "markdown",
      "metadata": {
        "id": "xR2hEH-a3LJ5"
      },
      "source": [
        "### stakeholder\n",
        "E-Commerce yang terletak di Brazil"
      ]
    },
    {
      "cell_type": "markdown",
      "metadata": {
        "id": "Pz2u4O-NJ-3_"
      },
      "source": [
        "# Import Library"
      ]
    },
    {
      "cell_type": "code",
      "execution_count": 1,
      "metadata": {
        "id": "NxillRL6KBtD"
      },
      "outputs": [],
      "source": [
        "# Importing libraries\n",
        "import numpy as np\n",
        "import pandas as pd\n",
        "import matplotlib.pyplot as plt\n",
        "import urllib\n",
        "import matplotlib.image as mpimg\n",
        "from scipy import stats"
      ]
    },
    {
      "cell_type": "markdown",
      "metadata": {
        "id": "cJZO1fQBJ6lO"
      },
      "source": [
        "# Data Wrangling"
      ]
    },
    {
      "cell_type": "markdown",
      "metadata": {
        "id": "GU8DZxZgKgH6"
      },
      "source": [
        "### Gathering Data"
      ]
    },
    {
      "cell_type": "code",
      "execution_count": 100,
      "metadata": {
        "id": "GR4QzlBgfvdn"
      },
      "outputs": [],
      "source": [
        "customers = pd.read_csv(r\"C:\\Users\\Anonymus\\Documents\\E-commerce\\data\\customers.csv\")\n",
        "geolocation = pd.read_csv(r\"C:\\Users\\Anonymus\\Documents\\E-commerce\\data\\geolocation.csv\")\n",
        "items = pd.read_csv(r\"C:\\Users\\Anonymus\\Documents\\E-commerce\\data\\order_items.csv\")\n",
        "payments = pd.read_csv(r\"C:\\Users\\Anonymus\\Documents\\E-commerce\\data\\order_payments.csv\")\n",
        "reviews = pd.read_csv(r\"C:\\Users\\Anonymus\\Documents\\E-commerce\\data\\order_reviews.csv\")\n",
        "orders = pd.read_csv(r\"C:\\Users\\Anonymus\\Documents\\E-commerce\\data\\orders.csv\", encoding='utf-8')\n",
        "category = pd.read_csv(r\"C:\\Users\\Anonymus\\Documents\\E-commerce\\data\\product_category_name_translation.csv\", encoding='utf-8')\n",
        "products = pd.read_csv(r\"C:\\Users\\Anonymus\\Documents\\E-commerce\\data\\products.csv\", encoding='utf-8')\n",
        "sellers = pd.read_csv(r\"C:\\Users\\Anonymus\\Documents\\E-commerce\\data\\sellers.csv\", encoding='utf-8')"
      ]
    },
    {
      "cell_type": "code",
      "execution_count": 3,
      "metadata": {
        "colab": {
          "base_uri": "https://localhost:8080/",
          "height": 331
        },
        "id": "sbFe0RUQLcy3",
        "outputId": "5b282bb5-7f74-44a2-bcbe-1553b0d11cba"
      },
      "outputs": [
        {
          "name": "stdout",
          "output_type": "stream",
          "text": [
            "Preview orders\n"
          ]
        },
        {
          "data": {
            "text/html": [
              "<div>\n",
              "<style scoped>\n",
              "    .dataframe tbody tr th:only-of-type {\n",
              "        vertical-align: middle;\n",
              "    }\n",
              "\n",
              "    .dataframe tbody tr th {\n",
              "        vertical-align: top;\n",
              "    }\n",
              "\n",
              "    .dataframe thead th {\n",
              "        text-align: right;\n",
              "    }\n",
              "</style>\n",
              "<table border=\"1\" class=\"dataframe\">\n",
              "  <thead>\n",
              "    <tr style=\"text-align: right;\">\n",
              "      <th></th>\n",
              "      <th>order_id</th>\n",
              "      <th>customer_id</th>\n",
              "      <th>order_status</th>\n",
              "      <th>order_purchase_timestamp</th>\n",
              "      <th>order_approved_at</th>\n",
              "      <th>order_delivered_carrier_date</th>\n",
              "      <th>order_delivered_customer_date</th>\n",
              "      <th>order_estimated_delivery_date</th>\n",
              "    </tr>\n",
              "  </thead>\n",
              "  <tbody>\n",
              "    <tr>\n",
              "      <th>0</th>\n",
              "      <td>e481f51cbdc54678b7cc49136f2d6af7</td>\n",
              "      <td>9ef432eb6251297304e76186b10a928d</td>\n",
              "      <td>delivered</td>\n",
              "      <td>2017-10-02 10:56:33</td>\n",
              "      <td>2017-10-02 11:07:15</td>\n",
              "      <td>2017-10-04 19:55:00</td>\n",
              "      <td>2017-10-10 21:25:13</td>\n",
              "      <td>2017-10-18 00:00:00</td>\n",
              "    </tr>\n",
              "    <tr>\n",
              "      <th>1</th>\n",
              "      <td>53cdb2fc8bc7dce0b6741e2150273451</td>\n",
              "      <td>b0830fb4747a6c6d20dea0b8c802d7ef</td>\n",
              "      <td>delivered</td>\n",
              "      <td>2018-07-24 20:41:37</td>\n",
              "      <td>2018-07-26 03:24:27</td>\n",
              "      <td>2018-07-26 14:31:00</td>\n",
              "      <td>2018-08-07 15:27:45</td>\n",
              "      <td>2018-08-13 00:00:00</td>\n",
              "    </tr>\n",
              "    <tr>\n",
              "      <th>2</th>\n",
              "      <td>47770eb9100c2d0c44946d9cf07ec65d</td>\n",
              "      <td>41ce2a54c0b03bf3443c3d931a367089</td>\n",
              "      <td>delivered</td>\n",
              "      <td>2018-08-08 08:38:49</td>\n",
              "      <td>2018-08-08 08:55:23</td>\n",
              "      <td>2018-08-08 13:50:00</td>\n",
              "      <td>2018-08-17 18:06:29</td>\n",
              "      <td>2018-09-04 00:00:00</td>\n",
              "    </tr>\n",
              "    <tr>\n",
              "      <th>3</th>\n",
              "      <td>949d5b44dbf5de918fe9c16f97b45f8a</td>\n",
              "      <td>f88197465ea7920adcdbec7375364d82</td>\n",
              "      <td>delivered</td>\n",
              "      <td>2017-11-18 19:28:06</td>\n",
              "      <td>2017-11-18 19:45:59</td>\n",
              "      <td>2017-11-22 13:39:59</td>\n",
              "      <td>2017-12-02 00:28:42</td>\n",
              "      <td>2017-12-15 00:00:00</td>\n",
              "    </tr>\n",
              "    <tr>\n",
              "      <th>4</th>\n",
              "      <td>ad21c59c0840e6cb83a9ceb5573f8159</td>\n",
              "      <td>8ab97904e6daea8866dbdbc4fb7aad2c</td>\n",
              "      <td>delivered</td>\n",
              "      <td>2018-02-13 21:18:39</td>\n",
              "      <td>2018-02-13 22:20:29</td>\n",
              "      <td>2018-02-14 19:46:34</td>\n",
              "      <td>2018-02-16 18:17:02</td>\n",
              "      <td>2018-02-26 00:00:00</td>\n",
              "    </tr>\n",
              "  </tbody>\n",
              "</table>\n",
              "</div>"
            ],
            "text/plain": [
              "                           order_id                       customer_id  \\\n",
              "0  e481f51cbdc54678b7cc49136f2d6af7  9ef432eb6251297304e76186b10a928d   \n",
              "1  53cdb2fc8bc7dce0b6741e2150273451  b0830fb4747a6c6d20dea0b8c802d7ef   \n",
              "2  47770eb9100c2d0c44946d9cf07ec65d  41ce2a54c0b03bf3443c3d931a367089   \n",
              "3  949d5b44dbf5de918fe9c16f97b45f8a  f88197465ea7920adcdbec7375364d82   \n",
              "4  ad21c59c0840e6cb83a9ceb5573f8159  8ab97904e6daea8866dbdbc4fb7aad2c   \n",
              "\n",
              "  order_status order_purchase_timestamp    order_approved_at  \\\n",
              "0    delivered      2017-10-02 10:56:33  2017-10-02 11:07:15   \n",
              "1    delivered      2018-07-24 20:41:37  2018-07-26 03:24:27   \n",
              "2    delivered      2018-08-08 08:38:49  2018-08-08 08:55:23   \n",
              "3    delivered      2017-11-18 19:28:06  2017-11-18 19:45:59   \n",
              "4    delivered      2018-02-13 21:18:39  2018-02-13 22:20:29   \n",
              "\n",
              "  order_delivered_carrier_date order_delivered_customer_date  \\\n",
              "0          2017-10-04 19:55:00           2017-10-10 21:25:13   \n",
              "1          2018-07-26 14:31:00           2018-08-07 15:27:45   \n",
              "2          2018-08-08 13:50:00           2018-08-17 18:06:29   \n",
              "3          2017-11-22 13:39:59           2017-12-02 00:28:42   \n",
              "4          2018-02-14 19:46:34           2018-02-16 18:17:02   \n",
              "\n",
              "  order_estimated_delivery_date  \n",
              "0           2017-10-18 00:00:00  \n",
              "1           2018-08-13 00:00:00  \n",
              "2           2018-09-04 00:00:00  \n",
              "3           2017-12-15 00:00:00  \n",
              "4           2018-02-26 00:00:00  "
            ]
          },
          "execution_count": 3,
          "metadata": {},
          "output_type": "execute_result"
        }
      ],
      "source": [
        "data = {'orders': orders,\n",
        "        'items': items,\n",
        "        'products': products,\n",
        "        'payments': payments,\n",
        "        'reviews': reviews,\n",
        "        'customers': customers,\n",
        "        'sellers': sellers,\n",
        "        'geo': geolocation,\n",
        "        'category': category}\n",
        "print('Preview orders')\n",
        "data['orders'].head()"
      ]
    },
    {
      "cell_type": "code",
      "execution_count": 4,
      "metadata": {
        "colab": {
          "base_uri": "https://localhost:8080/",
          "height": 224
        },
        "id": "rR4a_ywmMP9f",
        "outputId": "8f5e061d-7382-4d4e-9d8a-3c4ca1305534"
      },
      "outputs": [
        {
          "name": "stdout",
          "output_type": "stream",
          "text": [
            "Preview items\n"
          ]
        },
        {
          "data": {
            "text/html": [
              "<div>\n",
              "<style scoped>\n",
              "    .dataframe tbody tr th:only-of-type {\n",
              "        vertical-align: middle;\n",
              "    }\n",
              "\n",
              "    .dataframe tbody tr th {\n",
              "        vertical-align: top;\n",
              "    }\n",
              "\n",
              "    .dataframe thead th {\n",
              "        text-align: right;\n",
              "    }\n",
              "</style>\n",
              "<table border=\"1\" class=\"dataframe\">\n",
              "  <thead>\n",
              "    <tr style=\"text-align: right;\">\n",
              "      <th></th>\n",
              "      <th>order_id</th>\n",
              "      <th>order_item_id</th>\n",
              "      <th>product_id</th>\n",
              "      <th>seller_id</th>\n",
              "      <th>shipping_limit_date</th>\n",
              "      <th>price</th>\n",
              "      <th>freight_value</th>\n",
              "    </tr>\n",
              "  </thead>\n",
              "  <tbody>\n",
              "    <tr>\n",
              "      <th>0</th>\n",
              "      <td>00010242fe8c5a6d1ba2dd792cb16214</td>\n",
              "      <td>1</td>\n",
              "      <td>4244733e06e7ecb4970a6e2683c13e61</td>\n",
              "      <td>48436dade18ac8b2bce089ec2a041202</td>\n",
              "      <td>2017-09-19 09:45:35</td>\n",
              "      <td>58.90</td>\n",
              "      <td>13.29</td>\n",
              "    </tr>\n",
              "    <tr>\n",
              "      <th>1</th>\n",
              "      <td>00018f77f2f0320c557190d7a144bdd3</td>\n",
              "      <td>1</td>\n",
              "      <td>e5f2d52b802189ee658865ca93d83a8f</td>\n",
              "      <td>dd7ddc04e1b6c2c614352b383efe2d36</td>\n",
              "      <td>2017-05-03 11:05:13</td>\n",
              "      <td>239.90</td>\n",
              "      <td>19.93</td>\n",
              "    </tr>\n",
              "    <tr>\n",
              "      <th>2</th>\n",
              "      <td>000229ec398224ef6ca0657da4fc703e</td>\n",
              "      <td>1</td>\n",
              "      <td>c777355d18b72b67abbeef9df44fd0fd</td>\n",
              "      <td>5b51032eddd242adc84c38acab88f23d</td>\n",
              "      <td>2018-01-18 14:48:30</td>\n",
              "      <td>199.00</td>\n",
              "      <td>17.87</td>\n",
              "    </tr>\n",
              "    <tr>\n",
              "      <th>3</th>\n",
              "      <td>00024acbcdf0a6daa1e931b038114c75</td>\n",
              "      <td>1</td>\n",
              "      <td>7634da152a4610f1595efa32f14722fc</td>\n",
              "      <td>9d7a1d34a5052409006425275ba1c2b4</td>\n",
              "      <td>2018-08-15 10:10:18</td>\n",
              "      <td>12.99</td>\n",
              "      <td>12.79</td>\n",
              "    </tr>\n",
              "    <tr>\n",
              "      <th>4</th>\n",
              "      <td>00042b26cf59d7ce69dfabb4e55b4fd9</td>\n",
              "      <td>1</td>\n",
              "      <td>ac6c3623068f30de03045865e4e10089</td>\n",
              "      <td>df560393f3a51e74553ab94004ba5c87</td>\n",
              "      <td>2017-02-13 13:57:51</td>\n",
              "      <td>199.90</td>\n",
              "      <td>18.14</td>\n",
              "    </tr>\n",
              "  </tbody>\n",
              "</table>\n",
              "</div>"
            ],
            "text/plain": [
              "                           order_id  order_item_id  \\\n",
              "0  00010242fe8c5a6d1ba2dd792cb16214              1   \n",
              "1  00018f77f2f0320c557190d7a144bdd3              1   \n",
              "2  000229ec398224ef6ca0657da4fc703e              1   \n",
              "3  00024acbcdf0a6daa1e931b038114c75              1   \n",
              "4  00042b26cf59d7ce69dfabb4e55b4fd9              1   \n",
              "\n",
              "                         product_id                         seller_id  \\\n",
              "0  4244733e06e7ecb4970a6e2683c13e61  48436dade18ac8b2bce089ec2a041202   \n",
              "1  e5f2d52b802189ee658865ca93d83a8f  dd7ddc04e1b6c2c614352b383efe2d36   \n",
              "2  c777355d18b72b67abbeef9df44fd0fd  5b51032eddd242adc84c38acab88f23d   \n",
              "3  7634da152a4610f1595efa32f14722fc  9d7a1d34a5052409006425275ba1c2b4   \n",
              "4  ac6c3623068f30de03045865e4e10089  df560393f3a51e74553ab94004ba5c87   \n",
              "\n",
              "   shipping_limit_date   price  freight_value  \n",
              "0  2017-09-19 09:45:35   58.90          13.29  \n",
              "1  2017-05-03 11:05:13  239.90          19.93  \n",
              "2  2018-01-18 14:48:30  199.00          17.87  \n",
              "3  2018-08-15 10:10:18   12.99          12.79  \n",
              "4  2017-02-13 13:57:51  199.90          18.14  "
            ]
          },
          "execution_count": 4,
          "metadata": {},
          "output_type": "execute_result"
        }
      ],
      "source": [
        "print('Preview items')\n",
        "data['items'].head()"
      ]
    },
    {
      "cell_type": "code",
      "execution_count": 5,
      "metadata": {
        "colab": {
          "base_uri": "https://localhost:8080/",
          "height": 261
        },
        "id": "qSws8iTHMT73",
        "outputId": "1db8cea6-606e-48e2-8183-3ec02257c519"
      },
      "outputs": [
        {
          "name": "stdout",
          "output_type": "stream",
          "text": [
            "Preview products \n",
            "\n"
          ]
        },
        {
          "data": {
            "text/html": [
              "<div>\n",
              "<style scoped>\n",
              "    .dataframe tbody tr th:only-of-type {\n",
              "        vertical-align: middle;\n",
              "    }\n",
              "\n",
              "    .dataframe tbody tr th {\n",
              "        vertical-align: top;\n",
              "    }\n",
              "\n",
              "    .dataframe thead th {\n",
              "        text-align: right;\n",
              "    }\n",
              "</style>\n",
              "<table border=\"1\" class=\"dataframe\">\n",
              "  <thead>\n",
              "    <tr style=\"text-align: right;\">\n",
              "      <th></th>\n",
              "      <th>product_id</th>\n",
              "      <th>product_category_name</th>\n",
              "      <th>product_name_lenght</th>\n",
              "      <th>product_description_lenght</th>\n",
              "      <th>product_photos_qty</th>\n",
              "      <th>product_weight_g</th>\n",
              "      <th>product_length_cm</th>\n",
              "      <th>product_height_cm</th>\n",
              "      <th>product_width_cm</th>\n",
              "    </tr>\n",
              "  </thead>\n",
              "  <tbody>\n",
              "    <tr>\n",
              "      <th>0</th>\n",
              "      <td>1e9e8ef04dbcff4541ed26657ea517e5</td>\n",
              "      <td>perfumaria</td>\n",
              "      <td>40.0</td>\n",
              "      <td>287.0</td>\n",
              "      <td>1.0</td>\n",
              "      <td>225.0</td>\n",
              "      <td>16.0</td>\n",
              "      <td>10.0</td>\n",
              "      <td>14.0</td>\n",
              "    </tr>\n",
              "    <tr>\n",
              "      <th>1</th>\n",
              "      <td>3aa071139cb16b67ca9e5dea641aaa2f</td>\n",
              "      <td>artes</td>\n",
              "      <td>44.0</td>\n",
              "      <td>276.0</td>\n",
              "      <td>1.0</td>\n",
              "      <td>1000.0</td>\n",
              "      <td>30.0</td>\n",
              "      <td>18.0</td>\n",
              "      <td>20.0</td>\n",
              "    </tr>\n",
              "    <tr>\n",
              "      <th>2</th>\n",
              "      <td>96bd76ec8810374ed1b65e291975717f</td>\n",
              "      <td>esporte_lazer</td>\n",
              "      <td>46.0</td>\n",
              "      <td>250.0</td>\n",
              "      <td>1.0</td>\n",
              "      <td>154.0</td>\n",
              "      <td>18.0</td>\n",
              "      <td>9.0</td>\n",
              "      <td>15.0</td>\n",
              "    </tr>\n",
              "    <tr>\n",
              "      <th>3</th>\n",
              "      <td>cef67bcfe19066a932b7673e239eb23d</td>\n",
              "      <td>bebes</td>\n",
              "      <td>27.0</td>\n",
              "      <td>261.0</td>\n",
              "      <td>1.0</td>\n",
              "      <td>371.0</td>\n",
              "      <td>26.0</td>\n",
              "      <td>4.0</td>\n",
              "      <td>26.0</td>\n",
              "    </tr>\n",
              "    <tr>\n",
              "      <th>4</th>\n",
              "      <td>9dc1a7de274444849c219cff195d0b71</td>\n",
              "      <td>utilidades_domesticas</td>\n",
              "      <td>37.0</td>\n",
              "      <td>402.0</td>\n",
              "      <td>4.0</td>\n",
              "      <td>625.0</td>\n",
              "      <td>20.0</td>\n",
              "      <td>17.0</td>\n",
              "      <td>13.0</td>\n",
              "    </tr>\n",
              "  </tbody>\n",
              "</table>\n",
              "</div>"
            ],
            "text/plain": [
              "                         product_id  product_category_name  \\\n",
              "0  1e9e8ef04dbcff4541ed26657ea517e5             perfumaria   \n",
              "1  3aa071139cb16b67ca9e5dea641aaa2f                  artes   \n",
              "2  96bd76ec8810374ed1b65e291975717f          esporte_lazer   \n",
              "3  cef67bcfe19066a932b7673e239eb23d                  bebes   \n",
              "4  9dc1a7de274444849c219cff195d0b71  utilidades_domesticas   \n",
              "\n",
              "   product_name_lenght  product_description_lenght  product_photos_qty  \\\n",
              "0                 40.0                       287.0                 1.0   \n",
              "1                 44.0                       276.0                 1.0   \n",
              "2                 46.0                       250.0                 1.0   \n",
              "3                 27.0                       261.0                 1.0   \n",
              "4                 37.0                       402.0                 4.0   \n",
              "\n",
              "   product_weight_g  product_length_cm  product_height_cm  product_width_cm  \n",
              "0             225.0               16.0               10.0              14.0  \n",
              "1            1000.0               30.0               18.0              20.0  \n",
              "2             154.0               18.0                9.0              15.0  \n",
              "3             371.0               26.0                4.0              26.0  \n",
              "4             625.0               20.0               17.0              13.0  "
            ]
          },
          "execution_count": 5,
          "metadata": {},
          "output_type": "execute_result"
        }
      ],
      "source": [
        "print('Preview products \\n')\n",
        "data['products'].head()"
      ]
    },
    {
      "cell_type": "code",
      "execution_count": 6,
      "metadata": {
        "colab": {
          "base_uri": "https://localhost:8080/",
          "height": 279
        },
        "id": "Jmnban0gMV_P",
        "outputId": "2bc8be0a-bb2f-4130-f65f-19c2589db349"
      },
      "outputs": [
        {
          "name": "stdout",
          "output_type": "stream",
          "text": [
            "Preview reviews\n"
          ]
        },
        {
          "data": {
            "text/html": [
              "<div>\n",
              "<style scoped>\n",
              "    .dataframe tbody tr th:only-of-type {\n",
              "        vertical-align: middle;\n",
              "    }\n",
              "\n",
              "    .dataframe tbody tr th {\n",
              "        vertical-align: top;\n",
              "    }\n",
              "\n",
              "    .dataframe thead th {\n",
              "        text-align: right;\n",
              "    }\n",
              "</style>\n",
              "<table border=\"1\" class=\"dataframe\">\n",
              "  <thead>\n",
              "    <tr style=\"text-align: right;\">\n",
              "      <th></th>\n",
              "      <th>review_id</th>\n",
              "      <th>order_id</th>\n",
              "      <th>review_score</th>\n",
              "      <th>review_comment_title</th>\n",
              "      <th>review_comment_message</th>\n",
              "      <th>review_creation_date</th>\n",
              "      <th>review_answer_timestamp</th>\n",
              "    </tr>\n",
              "  </thead>\n",
              "  <tbody>\n",
              "    <tr>\n",
              "      <th>0</th>\n",
              "      <td>7bc2406110b926393aa56f80a40eba40</td>\n",
              "      <td>73fc7af87114b39712e6da79b0a377eb</td>\n",
              "      <td>4</td>\n",
              "      <td>NaN</td>\n",
              "      <td>NaN</td>\n",
              "      <td>2018-01-18 00:00:00</td>\n",
              "      <td>2018-01-18 21:46:59</td>\n",
              "    </tr>\n",
              "    <tr>\n",
              "      <th>1</th>\n",
              "      <td>80e641a11e56f04c1ad469d5645fdfde</td>\n",
              "      <td>a548910a1c6147796b98fdf73dbeba33</td>\n",
              "      <td>5</td>\n",
              "      <td>NaN</td>\n",
              "      <td>NaN</td>\n",
              "      <td>2018-03-10 00:00:00</td>\n",
              "      <td>2018-03-11 03:05:13</td>\n",
              "    </tr>\n",
              "    <tr>\n",
              "      <th>2</th>\n",
              "      <td>228ce5500dc1d8e020d8d1322874b6f0</td>\n",
              "      <td>f9e4b658b201a9f2ecdecbb34bed034b</td>\n",
              "      <td>5</td>\n",
              "      <td>NaN</td>\n",
              "      <td>NaN</td>\n",
              "      <td>2018-02-17 00:00:00</td>\n",
              "      <td>2018-02-18 14:36:24</td>\n",
              "    </tr>\n",
              "    <tr>\n",
              "      <th>3</th>\n",
              "      <td>e64fb393e7b32834bb789ff8bb30750e</td>\n",
              "      <td>658677c97b385a9be170737859d3511b</td>\n",
              "      <td>5</td>\n",
              "      <td>NaN</td>\n",
              "      <td>Recebi bem antes do prazo estipulado.</td>\n",
              "      <td>2017-04-21 00:00:00</td>\n",
              "      <td>2017-04-21 22:02:06</td>\n",
              "    </tr>\n",
              "    <tr>\n",
              "      <th>4</th>\n",
              "      <td>f7c4243c7fe1938f181bec41a392bdeb</td>\n",
              "      <td>8e6bfb81e283fa7e4f11123a3fb894f1</td>\n",
              "      <td>5</td>\n",
              "      <td>NaN</td>\n",
              "      <td>Parabéns lojas lannister adorei comprar pela I...</td>\n",
              "      <td>2018-03-01 00:00:00</td>\n",
              "      <td>2018-03-02 10:26:53</td>\n",
              "    </tr>\n",
              "  </tbody>\n",
              "</table>\n",
              "</div>"
            ],
            "text/plain": [
              "                          review_id                          order_id  \\\n",
              "0  7bc2406110b926393aa56f80a40eba40  73fc7af87114b39712e6da79b0a377eb   \n",
              "1  80e641a11e56f04c1ad469d5645fdfde  a548910a1c6147796b98fdf73dbeba33   \n",
              "2  228ce5500dc1d8e020d8d1322874b6f0  f9e4b658b201a9f2ecdecbb34bed034b   \n",
              "3  e64fb393e7b32834bb789ff8bb30750e  658677c97b385a9be170737859d3511b   \n",
              "4  f7c4243c7fe1938f181bec41a392bdeb  8e6bfb81e283fa7e4f11123a3fb894f1   \n",
              "\n",
              "   review_score review_comment_title  \\\n",
              "0             4                  NaN   \n",
              "1             5                  NaN   \n",
              "2             5                  NaN   \n",
              "3             5                  NaN   \n",
              "4             5                  NaN   \n",
              "\n",
              "                              review_comment_message review_creation_date  \\\n",
              "0                                                NaN  2018-01-18 00:00:00   \n",
              "1                                                NaN  2018-03-10 00:00:00   \n",
              "2                                                NaN  2018-02-17 00:00:00   \n",
              "3              Recebi bem antes do prazo estipulado.  2017-04-21 00:00:00   \n",
              "4  Parabéns lojas lannister adorei comprar pela I...  2018-03-01 00:00:00   \n",
              "\n",
              "  review_answer_timestamp  \n",
              "0     2018-01-18 21:46:59  \n",
              "1     2018-03-11 03:05:13  \n",
              "2     2018-02-18 14:36:24  \n",
              "3     2017-04-21 22:02:06  \n",
              "4     2018-03-02 10:26:53  "
            ]
          },
          "execution_count": 6,
          "metadata": {},
          "output_type": "execute_result"
        }
      ],
      "source": [
        "print('Preview reviews')\n",
        "data['reviews'].head()"
      ]
    },
    {
      "cell_type": "code",
      "execution_count": 7,
      "metadata": {
        "colab": {
          "base_uri": "https://localhost:8080/",
          "height": 224
        },
        "id": "LjT80E03MYRA",
        "outputId": "682dd4d1-9b30-4ee4-a15c-59753f5b2cb3"
      },
      "outputs": [
        {
          "name": "stdout",
          "output_type": "stream",
          "text": [
            "Preview sellers\n"
          ]
        },
        {
          "data": {
            "text/html": [
              "<div>\n",
              "<style scoped>\n",
              "    .dataframe tbody tr th:only-of-type {\n",
              "        vertical-align: middle;\n",
              "    }\n",
              "\n",
              "    .dataframe tbody tr th {\n",
              "        vertical-align: top;\n",
              "    }\n",
              "\n",
              "    .dataframe thead th {\n",
              "        text-align: right;\n",
              "    }\n",
              "</style>\n",
              "<table border=\"1\" class=\"dataframe\">\n",
              "  <thead>\n",
              "    <tr style=\"text-align: right;\">\n",
              "      <th></th>\n",
              "      <th>seller_id</th>\n",
              "      <th>seller_zip_code_prefix</th>\n",
              "      <th>seller_city</th>\n",
              "      <th>seller_state</th>\n",
              "    </tr>\n",
              "  </thead>\n",
              "  <tbody>\n",
              "    <tr>\n",
              "      <th>0</th>\n",
              "      <td>3442f8959a84dea7ee197c632cb2df15</td>\n",
              "      <td>13023</td>\n",
              "      <td>campinas</td>\n",
              "      <td>SP</td>\n",
              "    </tr>\n",
              "    <tr>\n",
              "      <th>1</th>\n",
              "      <td>d1b65fc7debc3361ea86b5f14c68d2e2</td>\n",
              "      <td>13844</td>\n",
              "      <td>mogi guacu</td>\n",
              "      <td>SP</td>\n",
              "    </tr>\n",
              "    <tr>\n",
              "      <th>2</th>\n",
              "      <td>ce3ad9de960102d0677a81f5d0bb7b2d</td>\n",
              "      <td>20031</td>\n",
              "      <td>rio de janeiro</td>\n",
              "      <td>RJ</td>\n",
              "    </tr>\n",
              "    <tr>\n",
              "      <th>3</th>\n",
              "      <td>c0f3eea2e14555b6faeea3dd58c1b1c3</td>\n",
              "      <td>4195</td>\n",
              "      <td>sao paulo</td>\n",
              "      <td>SP</td>\n",
              "    </tr>\n",
              "    <tr>\n",
              "      <th>4</th>\n",
              "      <td>51a04a8a6bdcb23deccc82b0b80742cf</td>\n",
              "      <td>12914</td>\n",
              "      <td>braganca paulista</td>\n",
              "      <td>SP</td>\n",
              "    </tr>\n",
              "  </tbody>\n",
              "</table>\n",
              "</div>"
            ],
            "text/plain": [
              "                          seller_id  seller_zip_code_prefix  \\\n",
              "0  3442f8959a84dea7ee197c632cb2df15                   13023   \n",
              "1  d1b65fc7debc3361ea86b5f14c68d2e2                   13844   \n",
              "2  ce3ad9de960102d0677a81f5d0bb7b2d                   20031   \n",
              "3  c0f3eea2e14555b6faeea3dd58c1b1c3                    4195   \n",
              "4  51a04a8a6bdcb23deccc82b0b80742cf                   12914   \n",
              "\n",
              "         seller_city seller_state  \n",
              "0           campinas           SP  \n",
              "1         mogi guacu           SP  \n",
              "2     rio de janeiro           RJ  \n",
              "3          sao paulo           SP  \n",
              "4  braganca paulista           SP  "
            ]
          },
          "execution_count": 7,
          "metadata": {},
          "output_type": "execute_result"
        }
      ],
      "source": [
        "print('Preview sellers')\n",
        "data['sellers'].head()"
      ]
    },
    {
      "cell_type": "code",
      "execution_count": 8,
      "metadata": {
        "colab": {
          "base_uri": "https://localhost:8080/",
          "height": 224
        },
        "id": "HdJZpbdnMfM4",
        "outputId": "41797981-bb37-4d06-ea3f-da6e39cc6f9f"
      },
      "outputs": [
        {
          "name": "stdout",
          "output_type": "stream",
          "text": [
            "Preview customers\n"
          ]
        },
        {
          "data": {
            "text/html": [
              "<div>\n",
              "<style scoped>\n",
              "    .dataframe tbody tr th:only-of-type {\n",
              "        vertical-align: middle;\n",
              "    }\n",
              "\n",
              "    .dataframe tbody tr th {\n",
              "        vertical-align: top;\n",
              "    }\n",
              "\n",
              "    .dataframe thead th {\n",
              "        text-align: right;\n",
              "    }\n",
              "</style>\n",
              "<table border=\"1\" class=\"dataframe\">\n",
              "  <thead>\n",
              "    <tr style=\"text-align: right;\">\n",
              "      <th></th>\n",
              "      <th>customer_id</th>\n",
              "      <th>customer_unique_id</th>\n",
              "      <th>customer_zip_code_prefix</th>\n",
              "      <th>customer_city</th>\n",
              "      <th>customer_state</th>\n",
              "    </tr>\n",
              "  </thead>\n",
              "  <tbody>\n",
              "    <tr>\n",
              "      <th>0</th>\n",
              "      <td>06b8999e2fba1a1fbc88172c00ba8bc7</td>\n",
              "      <td>861eff4711a542e4b93843c6dd7febb0</td>\n",
              "      <td>14409</td>\n",
              "      <td>franca</td>\n",
              "      <td>SP</td>\n",
              "    </tr>\n",
              "    <tr>\n",
              "      <th>1</th>\n",
              "      <td>18955e83d337fd6b2def6b18a428ac77</td>\n",
              "      <td>290c77bc529b7ac935b93aa66c333dc3</td>\n",
              "      <td>9790</td>\n",
              "      <td>sao bernardo do campo</td>\n",
              "      <td>SP</td>\n",
              "    </tr>\n",
              "    <tr>\n",
              "      <th>2</th>\n",
              "      <td>4e7b3e00288586ebd08712fdd0374a03</td>\n",
              "      <td>060e732b5b29e8181a18229c7b0b2b5e</td>\n",
              "      <td>1151</td>\n",
              "      <td>sao paulo</td>\n",
              "      <td>SP</td>\n",
              "    </tr>\n",
              "    <tr>\n",
              "      <th>3</th>\n",
              "      <td>b2b6027bc5c5109e529d4dc6358b12c3</td>\n",
              "      <td>259dac757896d24d7702b9acbbff3f3c</td>\n",
              "      <td>8775</td>\n",
              "      <td>mogi das cruzes</td>\n",
              "      <td>SP</td>\n",
              "    </tr>\n",
              "    <tr>\n",
              "      <th>4</th>\n",
              "      <td>4f2d8ab171c80ec8364f7c12e35b23ad</td>\n",
              "      <td>345ecd01c38d18a9036ed96c73b8d066</td>\n",
              "      <td>13056</td>\n",
              "      <td>campinas</td>\n",
              "      <td>SP</td>\n",
              "    </tr>\n",
              "  </tbody>\n",
              "</table>\n",
              "</div>"
            ],
            "text/plain": [
              "                        customer_id                customer_unique_id  \\\n",
              "0  06b8999e2fba1a1fbc88172c00ba8bc7  861eff4711a542e4b93843c6dd7febb0   \n",
              "1  18955e83d337fd6b2def6b18a428ac77  290c77bc529b7ac935b93aa66c333dc3   \n",
              "2  4e7b3e00288586ebd08712fdd0374a03  060e732b5b29e8181a18229c7b0b2b5e   \n",
              "3  b2b6027bc5c5109e529d4dc6358b12c3  259dac757896d24d7702b9acbbff3f3c   \n",
              "4  4f2d8ab171c80ec8364f7c12e35b23ad  345ecd01c38d18a9036ed96c73b8d066   \n",
              "\n",
              "   customer_zip_code_prefix          customer_city customer_state  \n",
              "0                     14409                 franca             SP  \n",
              "1                      9790  sao bernardo do campo             SP  \n",
              "2                      1151              sao paulo             SP  \n",
              "3                      8775        mogi das cruzes             SP  \n",
              "4                     13056               campinas             SP  "
            ]
          },
          "execution_count": 8,
          "metadata": {},
          "output_type": "execute_result"
        }
      ],
      "source": [
        "print('Preview customers')\n",
        "data['customers'].head()"
      ]
    },
    {
      "cell_type": "code",
      "execution_count": 9,
      "metadata": {
        "colab": {
          "base_uri": "https://localhost:8080/",
          "height": 241
        },
        "id": "zhGy1aSvMhzv",
        "outputId": "0b1efa33-7941-40a6-fbdd-4fd87e192e5f"
      },
      "outputs": [
        {
          "name": "stdout",
          "output_type": "stream",
          "text": [
            "Preview geolocation \n",
            "\n"
          ]
        },
        {
          "data": {
            "text/html": [
              "<div>\n",
              "<style scoped>\n",
              "    .dataframe tbody tr th:only-of-type {\n",
              "        vertical-align: middle;\n",
              "    }\n",
              "\n",
              "    .dataframe tbody tr th {\n",
              "        vertical-align: top;\n",
              "    }\n",
              "\n",
              "    .dataframe thead th {\n",
              "        text-align: right;\n",
              "    }\n",
              "</style>\n",
              "<table border=\"1\" class=\"dataframe\">\n",
              "  <thead>\n",
              "    <tr style=\"text-align: right;\">\n",
              "      <th></th>\n",
              "      <th>geolocation_zip_code_prefix</th>\n",
              "      <th>geolocation_lat</th>\n",
              "      <th>geolocation_lng</th>\n",
              "      <th>geolocation_city</th>\n",
              "      <th>geolocation_state</th>\n",
              "    </tr>\n",
              "  </thead>\n",
              "  <tbody>\n",
              "    <tr>\n",
              "      <th>0</th>\n",
              "      <td>1037</td>\n",
              "      <td>-23.545621</td>\n",
              "      <td>-46.639292</td>\n",
              "      <td>sao paulo</td>\n",
              "      <td>SP</td>\n",
              "    </tr>\n",
              "    <tr>\n",
              "      <th>1</th>\n",
              "      <td>1046</td>\n",
              "      <td>-23.546081</td>\n",
              "      <td>-46.644820</td>\n",
              "      <td>sao paulo</td>\n",
              "      <td>SP</td>\n",
              "    </tr>\n",
              "    <tr>\n",
              "      <th>2</th>\n",
              "      <td>1046</td>\n",
              "      <td>-23.546129</td>\n",
              "      <td>-46.642951</td>\n",
              "      <td>sao paulo</td>\n",
              "      <td>SP</td>\n",
              "    </tr>\n",
              "    <tr>\n",
              "      <th>3</th>\n",
              "      <td>1041</td>\n",
              "      <td>-23.544392</td>\n",
              "      <td>-46.639499</td>\n",
              "      <td>sao paulo</td>\n",
              "      <td>SP</td>\n",
              "    </tr>\n",
              "    <tr>\n",
              "      <th>4</th>\n",
              "      <td>1035</td>\n",
              "      <td>-23.541578</td>\n",
              "      <td>-46.641607</td>\n",
              "      <td>sao paulo</td>\n",
              "      <td>SP</td>\n",
              "    </tr>\n",
              "  </tbody>\n",
              "</table>\n",
              "</div>"
            ],
            "text/plain": [
              "   geolocation_zip_code_prefix  geolocation_lat  geolocation_lng  \\\n",
              "0                         1037       -23.545621       -46.639292   \n",
              "1                         1046       -23.546081       -46.644820   \n",
              "2                         1046       -23.546129       -46.642951   \n",
              "3                         1041       -23.544392       -46.639499   \n",
              "4                         1035       -23.541578       -46.641607   \n",
              "\n",
              "  geolocation_city geolocation_state  \n",
              "0        sao paulo                SP  \n",
              "1        sao paulo                SP  \n",
              "2        sao paulo                SP  \n",
              "3        sao paulo                SP  \n",
              "4        sao paulo                SP  "
            ]
          },
          "execution_count": 9,
          "metadata": {},
          "output_type": "execute_result"
        }
      ],
      "source": [
        "print('Preview geolocation \\n')\n",
        "data['geo'].head()"
      ]
    },
    {
      "cell_type": "code",
      "execution_count": 10,
      "metadata": {
        "colab": {
          "base_uri": "https://localhost:8080/",
          "height": 241
        },
        "id": "j_LF01jxMkK_",
        "outputId": "537e1e60-b69e-497f-a01e-b475c68d1e7c"
      },
      "outputs": [
        {
          "name": "stdout",
          "output_type": "stream",
          "text": [
            "Preview category \n",
            "\n"
          ]
        },
        {
          "data": {
            "text/html": [
              "<div>\n",
              "<style scoped>\n",
              "    .dataframe tbody tr th:only-of-type {\n",
              "        vertical-align: middle;\n",
              "    }\n",
              "\n",
              "    .dataframe tbody tr th {\n",
              "        vertical-align: top;\n",
              "    }\n",
              "\n",
              "    .dataframe thead th {\n",
              "        text-align: right;\n",
              "    }\n",
              "</style>\n",
              "<table border=\"1\" class=\"dataframe\">\n",
              "  <thead>\n",
              "    <tr style=\"text-align: right;\">\n",
              "      <th></th>\n",
              "      <th>product_category_name</th>\n",
              "      <th>product_category_name_english</th>\n",
              "    </tr>\n",
              "  </thead>\n",
              "  <tbody>\n",
              "    <tr>\n",
              "      <th>0</th>\n",
              "      <td>beleza_saude</td>\n",
              "      <td>health_beauty</td>\n",
              "    </tr>\n",
              "    <tr>\n",
              "      <th>1</th>\n",
              "      <td>informatica_acessorios</td>\n",
              "      <td>computers_accessories</td>\n",
              "    </tr>\n",
              "    <tr>\n",
              "      <th>2</th>\n",
              "      <td>automotivo</td>\n",
              "      <td>auto</td>\n",
              "    </tr>\n",
              "    <tr>\n",
              "      <th>3</th>\n",
              "      <td>cama_mesa_banho</td>\n",
              "      <td>bed_bath_table</td>\n",
              "    </tr>\n",
              "    <tr>\n",
              "      <th>4</th>\n",
              "      <td>moveis_decoracao</td>\n",
              "      <td>furniture_decor</td>\n",
              "    </tr>\n",
              "  </tbody>\n",
              "</table>\n",
              "</div>"
            ],
            "text/plain": [
              "    product_category_name product_category_name_english\n",
              "0            beleza_saude                 health_beauty\n",
              "1  informatica_acessorios         computers_accessories\n",
              "2              automotivo                          auto\n",
              "3         cama_mesa_banho                bed_bath_table\n",
              "4        moveis_decoracao               furniture_decor"
            ]
          },
          "execution_count": 10,
          "metadata": {},
          "output_type": "execute_result"
        }
      ],
      "source": [
        "print('Preview category \\n')\n",
        "data['category'].head()"
      ]
    },
    {
      "cell_type": "code",
      "execution_count": 11,
      "metadata": {
        "colab": {
          "base_uri": "https://localhost:8080/",
          "height": 241
        },
        "id": "Pp1q8l-RMlz0",
        "outputId": "4bc4f639-c7de-482b-e472-ab7e7a5d1a7b"
      },
      "outputs": [
        {
          "name": "stdout",
          "output_type": "stream",
          "text": [
            "Preview payments \n",
            "\n"
          ]
        },
        {
          "data": {
            "text/html": [
              "<div>\n",
              "<style scoped>\n",
              "    .dataframe tbody tr th:only-of-type {\n",
              "        vertical-align: middle;\n",
              "    }\n",
              "\n",
              "    .dataframe tbody tr th {\n",
              "        vertical-align: top;\n",
              "    }\n",
              "\n",
              "    .dataframe thead th {\n",
              "        text-align: right;\n",
              "    }\n",
              "</style>\n",
              "<table border=\"1\" class=\"dataframe\">\n",
              "  <thead>\n",
              "    <tr style=\"text-align: right;\">\n",
              "      <th></th>\n",
              "      <th>order_id</th>\n",
              "      <th>payment_sequential</th>\n",
              "      <th>payment_type</th>\n",
              "      <th>payment_installments</th>\n",
              "      <th>payment_value</th>\n",
              "    </tr>\n",
              "  </thead>\n",
              "  <tbody>\n",
              "    <tr>\n",
              "      <th>0</th>\n",
              "      <td>b81ef226f3fe1789b1e8b2acac839d17</td>\n",
              "      <td>1</td>\n",
              "      <td>credit_card</td>\n",
              "      <td>8</td>\n",
              "      <td>99.33</td>\n",
              "    </tr>\n",
              "    <tr>\n",
              "      <th>1</th>\n",
              "      <td>a9810da82917af2d9aefd1278f1dcfa0</td>\n",
              "      <td>1</td>\n",
              "      <td>credit_card</td>\n",
              "      <td>1</td>\n",
              "      <td>24.39</td>\n",
              "    </tr>\n",
              "    <tr>\n",
              "      <th>2</th>\n",
              "      <td>25e8ea4e93396b6fa0d3dd708e76c1bd</td>\n",
              "      <td>1</td>\n",
              "      <td>credit_card</td>\n",
              "      <td>1</td>\n",
              "      <td>65.71</td>\n",
              "    </tr>\n",
              "    <tr>\n",
              "      <th>3</th>\n",
              "      <td>ba78997921bbcdc1373bb41e913ab953</td>\n",
              "      <td>1</td>\n",
              "      <td>credit_card</td>\n",
              "      <td>8</td>\n",
              "      <td>107.78</td>\n",
              "    </tr>\n",
              "    <tr>\n",
              "      <th>4</th>\n",
              "      <td>42fdf880ba16b47b59251dd489d4441a</td>\n",
              "      <td>1</td>\n",
              "      <td>credit_card</td>\n",
              "      <td>2</td>\n",
              "      <td>128.45</td>\n",
              "    </tr>\n",
              "  </tbody>\n",
              "</table>\n",
              "</div>"
            ],
            "text/plain": [
              "                           order_id  payment_sequential payment_type  \\\n",
              "0  b81ef226f3fe1789b1e8b2acac839d17                   1  credit_card   \n",
              "1  a9810da82917af2d9aefd1278f1dcfa0                   1  credit_card   \n",
              "2  25e8ea4e93396b6fa0d3dd708e76c1bd                   1  credit_card   \n",
              "3  ba78997921bbcdc1373bb41e913ab953                   1  credit_card   \n",
              "4  42fdf880ba16b47b59251dd489d4441a                   1  credit_card   \n",
              "\n",
              "   payment_installments  payment_value  \n",
              "0                     8          99.33  \n",
              "1                     1          24.39  \n",
              "2                     1          65.71  \n",
              "3                     8         107.78  \n",
              "4                     2         128.45  "
            ]
          },
          "execution_count": 11,
          "metadata": {},
          "output_type": "execute_result"
        }
      ],
      "source": [
        "print('Preview payments \\n')\n",
        "data['payments'].head()"
      ]
    },
    {
      "cell_type": "markdown",
      "metadata": {
        "id": "xE8RvoHcLR8Q"
      },
      "source": [
        "### Assesing Data"
      ]
    },
    {
      "cell_type": "markdown",
      "metadata": {
        "id": "mZFIFXTmP2-m"
      },
      "source": [
        "#### Cek data types"
      ]
    },
    {
      "cell_type": "code",
      "execution_count": 12,
      "metadata": {
        "colab": {
          "base_uri": "https://localhost:8080/"
        },
        "id": "jPLq25T5P1WW",
        "outputId": "d0bb4d88-798a-48c5-9949-14496b735bb1"
      },
      "outputs": [
        {
          "name": "stdout",
          "output_type": "stream",
          "text": [
            "<class 'pandas.core.frame.DataFrame'>\n",
            "RangeIndex: 99441 entries, 0 to 99440\n",
            "Data columns (total 8 columns):\n",
            " #   Column                         Non-Null Count  Dtype \n",
            "---  ------                         --------------  ----- \n",
            " 0   order_id                       99441 non-null  object\n",
            " 1   customer_id                    99441 non-null  object\n",
            " 2   order_status                   99441 non-null  object\n",
            " 3   order_purchase_timestamp       99441 non-null  object\n",
            " 4   order_approved_at              99281 non-null  object\n",
            " 5   order_delivered_carrier_date   97658 non-null  object\n",
            " 6   order_delivered_customer_date  96476 non-null  object\n",
            " 7   order_estimated_delivery_date  99441 non-null  object\n",
            "dtypes: object(8)\n",
            "memory usage: 6.1+ MB\n",
            "orders \n",
            " None \n",
            "\n",
            "<class 'pandas.core.frame.DataFrame'>\n",
            "RangeIndex: 112650 entries, 0 to 112649\n",
            "Data columns (total 7 columns):\n",
            " #   Column               Non-Null Count   Dtype  \n",
            "---  ------               --------------   -----  \n",
            " 0   order_id             112650 non-null  object \n",
            " 1   order_item_id        112650 non-null  int64  \n",
            " 2   product_id           112650 non-null  object \n",
            " 3   seller_id            112650 non-null  object \n",
            " 4   shipping_limit_date  112650 non-null  object \n",
            " 5   price                112650 non-null  float64\n",
            " 6   freight_value        112650 non-null  float64\n",
            "dtypes: float64(2), int64(1), object(4)\n",
            "memory usage: 6.0+ MB\n",
            "items \n",
            " None \n",
            "\n",
            "<class 'pandas.core.frame.DataFrame'>\n",
            "RangeIndex: 32951 entries, 0 to 32950\n",
            "Data columns (total 9 columns):\n",
            " #   Column                      Non-Null Count  Dtype  \n",
            "---  ------                      --------------  -----  \n",
            " 0   product_id                  32951 non-null  object \n",
            " 1   product_category_name       32341 non-null  object \n",
            " 2   product_name_lenght         32341 non-null  float64\n",
            " 3   product_description_lenght  32341 non-null  float64\n",
            " 4   product_photos_qty          32341 non-null  float64\n",
            " 5   product_weight_g            32949 non-null  float64\n",
            " 6   product_length_cm           32949 non-null  float64\n",
            " 7   product_height_cm           32949 non-null  float64\n",
            " 8   product_width_cm            32949 non-null  float64\n",
            "dtypes: float64(7), object(2)\n",
            "memory usage: 2.3+ MB\n",
            "products \n",
            " None \n",
            "\n",
            "<class 'pandas.core.frame.DataFrame'>\n",
            "RangeIndex: 103886 entries, 0 to 103885\n",
            "Data columns (total 5 columns):\n",
            " #   Column                Non-Null Count   Dtype  \n",
            "---  ------                --------------   -----  \n",
            " 0   order_id              103886 non-null  object \n",
            " 1   payment_sequential    103886 non-null  int64  \n",
            " 2   payment_type          103886 non-null  object \n",
            " 3   payment_installments  103886 non-null  int64  \n",
            " 4   payment_value         103886 non-null  float64\n",
            "dtypes: float64(1), int64(2), object(2)\n",
            "memory usage: 4.0+ MB\n",
            "payments \n",
            " None \n",
            "\n",
            "<class 'pandas.core.frame.DataFrame'>\n",
            "RangeIndex: 99224 entries, 0 to 99223\n",
            "Data columns (total 7 columns):\n",
            " #   Column                   Non-Null Count  Dtype \n",
            "---  ------                   --------------  ----- \n",
            " 0   review_id                99224 non-null  object\n",
            " 1   order_id                 99224 non-null  object\n",
            " 2   review_score             99224 non-null  int64 \n",
            " 3   review_comment_title     11568 non-null  object\n",
            " 4   review_comment_message   40977 non-null  object\n",
            " 5   review_creation_date     99224 non-null  object\n",
            " 6   review_answer_timestamp  99224 non-null  object\n",
            "dtypes: int64(1), object(6)\n",
            "memory usage: 5.3+ MB\n",
            "reviews \n",
            " None \n",
            "\n",
            "<class 'pandas.core.frame.DataFrame'>\n",
            "RangeIndex: 99441 entries, 0 to 99440\n",
            "Data columns (total 5 columns):\n",
            " #   Column                    Non-Null Count  Dtype \n",
            "---  ------                    --------------  ----- \n",
            " 0   customer_id               99441 non-null  object\n",
            " 1   customer_unique_id        99441 non-null  object\n",
            " 2   customer_zip_code_prefix  99441 non-null  int64 \n",
            " 3   customer_city             99441 non-null  object\n",
            " 4   customer_state            99441 non-null  object\n",
            "dtypes: int64(1), object(4)\n",
            "memory usage: 3.8+ MB\n",
            "customers \n",
            " None \n",
            "\n",
            "<class 'pandas.core.frame.DataFrame'>\n",
            "RangeIndex: 3095 entries, 0 to 3094\n",
            "Data columns (total 4 columns):\n",
            " #   Column                  Non-Null Count  Dtype \n",
            "---  ------                  --------------  ----- \n",
            " 0   seller_id               3095 non-null   object\n",
            " 1   seller_zip_code_prefix  3095 non-null   int64 \n",
            " 2   seller_city             3095 non-null   object\n",
            " 3   seller_state            3095 non-null   object\n",
            "dtypes: int64(1), object(3)\n",
            "memory usage: 96.8+ KB\n",
            "sellers \n",
            " None \n",
            "\n",
            "<class 'pandas.core.frame.DataFrame'>\n",
            "RangeIndex: 1000163 entries, 0 to 1000162\n",
            "Data columns (total 5 columns):\n",
            " #   Column                       Non-Null Count    Dtype  \n",
            "---  ------                       --------------    -----  \n",
            " 0   geolocation_zip_code_prefix  1000163 non-null  int64  \n",
            " 1   geolocation_lat              1000163 non-null  float64\n",
            " 2   geolocation_lng              1000163 non-null  float64\n",
            " 3   geolocation_city             1000163 non-null  object \n",
            " 4   geolocation_state            1000163 non-null  object \n",
            "dtypes: float64(2), int64(1), object(2)\n",
            "memory usage: 38.2+ MB\n",
            "geo \n",
            " None \n",
            "\n",
            "<class 'pandas.core.frame.DataFrame'>\n",
            "RangeIndex: 71 entries, 0 to 70\n",
            "Data columns (total 2 columns):\n",
            " #   Column                         Non-Null Count  Dtype \n",
            "---  ------                         --------------  ----- \n",
            " 0   product_category_name          71 non-null     object\n",
            " 1   product_category_name_english  71 non-null     object\n",
            "dtypes: object(2)\n",
            "memory usage: 1.2+ KB\n",
            "category \n",
            " None \n",
            "\n"
          ]
        }
      ],
      "source": [
        "data = {'orders': orders,\n",
        "        'items': items,\n",
        "        'products': products,\n",
        "        'payments': payments,\n",
        "        'reviews': reviews,\n",
        "        'customers': customers,\n",
        "        'sellers': sellers,\n",
        "        'geo': geolocation,\n",
        "        'category': category}\n",
        "\n",
        "for df_name, df in data.items():\n",
        "    print(df_name, '\\n', df.info(), '\\n')"
      ]
    },
    {
      "cell_type": "markdown",
      "metadata": {
        "id": "JUVKlJSpP8XD"
      },
      "source": [
        "#### cek missing value"
      ]
    },
    {
      "cell_type": "code",
      "execution_count": 13,
      "metadata": {
        "colab": {
          "base_uri": "https://localhost:8080/"
        },
        "id": "H-xlsxwd7Yt_",
        "outputId": "cb9f9928-4284-4a3f-9a9e-63e5b9599686"
      },
      "outputs": [
        {
          "name": "stdout",
          "output_type": "stream",
          "text": [
            "Dataset 'orders' memiliki missing value pada kolom:\n",
            "order_approved_at                 160\n",
            "order_delivered_carrier_date     1783\n",
            "order_delivered_customer_date    2965\n",
            "dtype: int64\n",
            "--------------------------------------------------\n",
            "Dataset 'products' memiliki missing value pada kolom:\n",
            "product_category_name         610\n",
            "product_name_lenght           610\n",
            "product_description_lenght    610\n",
            "product_photos_qty            610\n",
            "product_weight_g                2\n",
            "product_length_cm               2\n",
            "product_height_cm               2\n",
            "product_width_cm                2\n",
            "dtype: int64\n",
            "--------------------------------------------------\n",
            "Dataset 'reviews' memiliki missing value pada kolom:\n",
            "review_comment_title      87656\n",
            "review_comment_message    58247\n",
            "dtype: int64\n",
            "--------------------------------------------------\n"
          ]
        }
      ],
      "source": [
        "# Initialize a dictionary to store null value counts for each DataFrame\n",
        "null_counts = {}\n",
        "\n",
        "# Calculate and store the null value counts for each DataFrame\n",
        "data = {'orders': orders,\n",
        "        'items': items,\n",
        "        'products': products,\n",
        "        'payments': payments,\n",
        "        'reviews': reviews,\n",
        "        'customers': customers,\n",
        "        'sellers': sellers,\n",
        "        'geo': geolocation,\n",
        "        'category': category}\n",
        "\n",
        "for name, df in data.items():\n",
        "    # Memeriksa kolom yang memiliki nilai hilang dan jumlahnya\n",
        "    missing_values = df.isnull().sum()\n",
        "\n",
        "    # Memfilter hanya kolom yang memiliki nilai hilang\n",
        "    missing_columns = missing_values[missing_values > 0]\n",
        "\n",
        "    if not missing_columns.empty:\n",
        "        # Mencetak nama Dataset dan kolom dengan jumlah nilai hilang\n",
        "        print(f\"Dataset '{name}' memiliki missing value pada kolom:\")\n",
        "        print(missing_columns)\n",
        "        print(\"-\" * 50)"
      ]
    },
    {
      "cell_type": "code",
      "execution_count": 14,
      "metadata": {
        "colab": {
          "base_uri": "https://localhost:8080/"
        },
        "id": "tv0P-3LEMxoA",
        "outputId": "5d0a24b4-5dc8-4b3c-e801-66c3847694c3"
      },
      "outputs": [
        {
          "name": "stdout",
          "output_type": "stream",
          "text": [
            "customers \n",
            " customer_id                 0\n",
            "customer_unique_id          0\n",
            "customer_zip_code_prefix    0\n",
            "customer_city               0\n",
            "customer_state              0\n",
            "dtype: int64\n",
            "\n",
            " geolocation \n",
            " geolocation_zip_code_prefix    0\n",
            "geolocation_lat                0\n",
            "geolocation_lng                0\n",
            "geolocation_city               0\n",
            "geolocation_state              0\n",
            "dtype: int64\n",
            "\n",
            " items \n",
            " order_id               0\n",
            "order_item_id          0\n",
            "product_id             0\n",
            "seller_id              0\n",
            "shipping_limit_date    0\n",
            "price                  0\n",
            "freight_value          0\n",
            "dtype: int64\n",
            "\n",
            " payments \n",
            " order_id                0\n",
            "payment_sequential      0\n",
            "payment_type            0\n",
            "payment_installments    0\n",
            "payment_value           0\n",
            "dtype: int64\n",
            "\n",
            " reviews \n",
            " review_id                      0\n",
            "order_id                       0\n",
            "review_score                   0\n",
            "review_comment_title       87656\n",
            "review_comment_message     58247\n",
            "review_creation_date           0\n",
            "review_answer_timestamp        0\n",
            "dtype: int64\n",
            "\n",
            " orders \n",
            " order_id                            0\n",
            "customer_id                         0\n",
            "order_status                        0\n",
            "order_purchase_timestamp            0\n",
            "order_approved_at                 160\n",
            "order_delivered_carrier_date     1783\n",
            "order_delivered_customer_date    2965\n",
            "order_estimated_delivery_date       0\n",
            "dtype: int64\n",
            "\n",
            " category \n",
            " product_category_name            0\n",
            "product_category_name_english    0\n",
            "dtype: int64\n",
            "\n",
            " products \n",
            " product_id                      0\n",
            "product_category_name         610\n",
            "product_name_lenght           610\n",
            "product_description_lenght    610\n",
            "product_photos_qty            610\n",
            "product_weight_g                2\n",
            "product_length_cm               2\n",
            "product_height_cm               2\n",
            "product_width_cm                2\n",
            "dtype: int64\n",
            "\n",
            " sellers \n",
            " seller_id                 0\n",
            "seller_zip_code_prefix    0\n",
            "seller_city               0\n",
            "seller_state              0\n",
            "dtype: int64\n"
          ]
        }
      ],
      "source": [
        "# cek missing value (cara 2)\n",
        "print('customers \\n', customers.isnull().sum())\n",
        "print('\\n geolocation \\n', geolocation.isnull().sum())\n",
        "print('\\n items \\n', items.isnull().sum())\n",
        "print('\\n payments \\n', payments.isnull().sum())\n",
        "print('\\n reviews \\n', reviews.isnull().sum())\n",
        "print('\\n orders \\n', orders.isnull().sum())\n",
        "print('\\n category \\n', category.isnull().sum())\n",
        "print('\\n products \\n', products.isnull().sum())\n",
        "print('\\n sellers \\n', sellers.isnull().sum())"
      ]
    },
    {
      "cell_type": "markdown",
      "metadata": {
        "id": "3mP1122SP_jj"
      },
      "source": [
        "#### cek data duplicate"
      ]
    },
    {
      "cell_type": "code",
      "execution_count": 15,
      "metadata": {
        "colab": {
          "base_uri": "https://localhost:8080/"
        },
        "id": "3WuH97kkP_a8",
        "outputId": "3f9449c9-f519-4b25-cdca-36868d6e5839"
      },
      "outputs": [
        {
          "name": "stdout",
          "output_type": "stream",
          "text": [
            "customers \n",
            " 0\n",
            "\n",
            " geolocation \n",
            " 261831\n",
            "\n",
            " items \n",
            " 0\n",
            "\n",
            " payments \n",
            " 0\n",
            "\n",
            " reviews \n",
            " 0\n",
            "\n",
            " orders \n",
            " 0\n",
            "\n",
            " category \n",
            " 0\n",
            "\n",
            " products \n",
            " 0\n",
            "\n",
            " sellers \n",
            " 0\n"
          ]
        }
      ],
      "source": [
        "print('customers \\n', customers.duplicated().sum())\n",
        "print('\\n geolocation \\n', geolocation.duplicated().sum())\n",
        "print('\\n items \\n', items.duplicated().sum())\n",
        "print('\\n payments \\n', payments.duplicated().sum())\n",
        "print('\\n reviews \\n', reviews.duplicated().sum())\n",
        "print('\\n orders \\n', orders.duplicated().sum())\n",
        "print('\\n category \\n', category.duplicated().sum())\n",
        "print('\\n products \\n', products.duplicated().sum())\n",
        "print('\\n sellers \\n', sellers.duplicated().sum())"
      ]
    },
    {
      "cell_type": "markdown",
      "metadata": {
        "id": "b1-ZZLRzQWGV"
      },
      "source": [
        "### Data Cleaning"
      ]
    },
    {
      "cell_type": "markdown",
      "metadata": {
        "id": "OlDu2dP0Qjn_"
      },
      "source": [
        "#### handle data duplicate"
      ]
    },
    {
      "cell_type": "code",
      "execution_count": 16,
      "metadata": {
        "colab": {
          "base_uri": "https://localhost:8080/",
          "height": 206
        },
        "id": "_HWeSFMaQ7OL",
        "outputId": "4abd3b4c-dcea-4746-f786-6e3de6151b01"
      },
      "outputs": [
        {
          "data": {
            "text/html": [
              "<div>\n",
              "<style scoped>\n",
              "    .dataframe tbody tr th:only-of-type {\n",
              "        vertical-align: middle;\n",
              "    }\n",
              "\n",
              "    .dataframe tbody tr th {\n",
              "        vertical-align: top;\n",
              "    }\n",
              "\n",
              "    .dataframe thead th {\n",
              "        text-align: right;\n",
              "    }\n",
              "</style>\n",
              "<table border=\"1\" class=\"dataframe\">\n",
              "  <thead>\n",
              "    <tr style=\"text-align: right;\">\n",
              "      <th></th>\n",
              "      <th>geolocation_zip_code_prefix</th>\n",
              "      <th>geolocation_lat</th>\n",
              "      <th>geolocation_lng</th>\n",
              "      <th>geolocation_city</th>\n",
              "      <th>geolocation_state</th>\n",
              "    </tr>\n",
              "  </thead>\n",
              "  <tbody>\n",
              "    <tr>\n",
              "      <th>0</th>\n",
              "      <td>1037</td>\n",
              "      <td>-23.545621</td>\n",
              "      <td>-46.639292</td>\n",
              "      <td>sao paulo</td>\n",
              "      <td>SP</td>\n",
              "    </tr>\n",
              "    <tr>\n",
              "      <th>1</th>\n",
              "      <td>1046</td>\n",
              "      <td>-23.546081</td>\n",
              "      <td>-46.644820</td>\n",
              "      <td>sao paulo</td>\n",
              "      <td>SP</td>\n",
              "    </tr>\n",
              "    <tr>\n",
              "      <th>2</th>\n",
              "      <td>1046</td>\n",
              "      <td>-23.546129</td>\n",
              "      <td>-46.642951</td>\n",
              "      <td>sao paulo</td>\n",
              "      <td>SP</td>\n",
              "    </tr>\n",
              "    <tr>\n",
              "      <th>3</th>\n",
              "      <td>1041</td>\n",
              "      <td>-23.544392</td>\n",
              "      <td>-46.639499</td>\n",
              "      <td>sao paulo</td>\n",
              "      <td>SP</td>\n",
              "    </tr>\n",
              "    <tr>\n",
              "      <th>4</th>\n",
              "      <td>1035</td>\n",
              "      <td>-23.541578</td>\n",
              "      <td>-46.641607</td>\n",
              "      <td>sao paulo</td>\n",
              "      <td>SP</td>\n",
              "    </tr>\n",
              "  </tbody>\n",
              "</table>\n",
              "</div>"
            ],
            "text/plain": [
              "   geolocation_zip_code_prefix  geolocation_lat  geolocation_lng  \\\n",
              "0                         1037       -23.545621       -46.639292   \n",
              "1                         1046       -23.546081       -46.644820   \n",
              "2                         1046       -23.546129       -46.642951   \n",
              "3                         1041       -23.544392       -46.639499   \n",
              "4                         1035       -23.541578       -46.641607   \n",
              "\n",
              "  geolocation_city geolocation_state  \n",
              "0        sao paulo                SP  \n",
              "1        sao paulo                SP  \n",
              "2        sao paulo                SP  \n",
              "3        sao paulo                SP  \n",
              "4        sao paulo                SP  "
            ]
          },
          "execution_count": 16,
          "metadata": {},
          "output_type": "execute_result"
        }
      ],
      "source": [
        "data['geo'].head()"
      ]
    },
    {
      "cell_type": "code",
      "execution_count": 17,
      "metadata": {
        "colab": {
          "base_uri": "https://localhost:8080/",
          "height": 490
        },
        "id": "oFzizrIeRJIt",
        "outputId": "b779871c-1c6e-41de-d25c-39ec91f85931"
      },
      "outputs": [
        {
          "data": {
            "text/plain": [
              "geolocation_zip_code_prefix  geolocation_lat  geolocation_lng  geolocation_city  geolocation_state\n",
              "88220                        -27.102099       -48.629613       itapema           SC                   False\n",
              "6414                         -23.495901       -46.874687       barueri           SP                   False\n",
              "                             -23.490618       -46.869004       barueri           SP                   False\n",
              "5145                         -23.506049       -46.717377       sao paulo         SP                   False\n",
              "22620                        -23.005514       -43.375964       rio de janeiro    RJ                   False\n",
              "                                                                                                      ...  \n",
              "99980                        -28.389732       -51.850755       david canabarro   RS                    True\n",
              "                             -28.389520       -51.840998       david canabarro   RS                    True\n",
              "                             -28.389218       -51.846012       david canabarro   RS                    True\n",
              "                             -28.388932       -51.846871       david canabarro   RS                    True\n",
              "                             -28.388846       -51.843801       david canabarro   RS                    True\n",
              "Name: count, Length: 738332, dtype: bool"
            ]
          },
          "execution_count": 17,
          "metadata": {},
          "output_type": "execute_result"
        }
      ],
      "source": [
        "data['geo'].value_counts().duplicated()"
      ]
    },
    {
      "cell_type": "code",
      "execution_count": 18,
      "metadata": {
        "id": "i8BtzdcbM6f3"
      },
      "outputs": [],
      "source": [
        "# remove duplicate data\n",
        "data['geo'].drop_duplicates(inplace=True)"
      ]
    },
    {
      "cell_type": "code",
      "execution_count": 19,
      "metadata": {
        "colab": {
          "base_uri": "https://localhost:8080/"
        },
        "id": "zVkSoYJTSMFT",
        "outputId": "ea442bdf-7357-406c-eb1f-c5acee6b9b69"
      },
      "outputs": [
        {
          "data": {
            "text/plain": [
              "np.int64(0)"
            ]
          },
          "execution_count": 19,
          "metadata": {},
          "output_type": "execute_result"
        }
      ],
      "source": [
        "data['geo'].duplicated().sum()"
      ]
    },
    {
      "cell_type": "markdown",
      "metadata": {
        "id": "_4cA8E9vQmtR"
      },
      "source": [
        "### handle missing value"
      ]
    },
    {
      "cell_type": "markdown",
      "metadata": {
        "id": "_LWDOvz9Sei_"
      },
      "source": [
        "Missing value terdapat pada dataset 'reviews', 'products', dan 'orders'"
      ]
    },
    {
      "cell_type": "markdown",
      "metadata": {
        "id": "yYBwuqynV1Qo"
      },
      "source": [
        "#### 'orders'"
      ]
    },
    {
      "cell_type": "code",
      "execution_count": 20,
      "metadata": {
        "colab": {
          "base_uri": "https://localhost:8080/"
        },
        "id": "HZUIXeM8STca",
        "outputId": "34368e2c-9f4b-4648-afb3-2d91310971d0"
      },
      "outputs": [
        {
          "name": "stdout",
          "output_type": "stream",
          "text": [
            "order_status\n",
            "delivered      96478\n",
            "shipped         1107\n",
            "canceled         625\n",
            "unavailable      609\n",
            "invoiced         314\n",
            "processing       301\n",
            "created            5\n",
            "approved           2\n",
            "Name: count, dtype: int64\n"
          ]
        }
      ],
      "source": [
        "# Memilih orders yang hanya delivered\n",
        "print(data['orders']['order_status'].value_counts())"
      ]
    },
    {
      "cell_type": "code",
      "execution_count": 21,
      "metadata": {
        "colab": {
          "base_uri": "https://localhost:8080/"
        },
        "id": "B-dx0Y5uTMol",
        "outputId": "c260febd-3240-4e4c-cb2a-95d7f424f87c"
      },
      "outputs": [
        {
          "name": "stdout",
          "output_type": "stream",
          "text": [
            "Taking only delivered orders we still get 97.02% of data.\n"
          ]
        }
      ],
      "source": [
        "# Hitung jumlah pesanan yang berstatus 'delivered'\n",
        "delivered_orders = data['orders'].order_status.value_counts()['delivered']\n",
        "\n",
        "# Hitung persentase pesanan yang 'delivered'\n",
        "delivered_percentage = round((delivered_orders / len(data['orders'])) * 100, 2)\n",
        "\n",
        "# Tampilkan hasil dengan f-string\n",
        "print(f'Taking only delivered orders we still get {delivered_percentage}% of data.')"
      ]
    },
    {
      "cell_type": "code",
      "execution_count": 22,
      "metadata": {
        "id": "Hohd9xhLSTv5"
      },
      "outputs": [],
      "source": [
        "# Pertama, ambil semua 'order_id' di mana status pesanan tidak 'delivered'\n",
        "delivered = data['orders']['order_id'][data['orders']['order_status'] != 'delivered'].values\n",
        "\n",
        "# filter setiap dataframe lain di mana 'order_id' adalah foreign\n",
        "for key, dataframe in data.items():\n",
        "    # Periksa apakah kolom 'order_id' ada di dataframe tersebut\n",
        "    if 'order_id' in dataframe.columns:\n",
        "        # Hapus baris yang 'order_id'-nya ada di daftar 'delivered'\n",
        "        rows_to_drop = dataframe['order_id'].isin(delivered)\n",
        "        dataframe.drop(dataframe[rows_to_drop].index, inplace=True)"
      ]
    },
    {
      "cell_type": "code",
      "execution_count": 23,
      "metadata": {
        "colab": {
          "base_uri": "https://localhost:8080/"
        },
        "id": "-AyR3UkYUIFc",
        "outputId": "3eb73782-7ee6-4b45-d09b-4b7954a50ae8"
      },
      "outputs": [
        {
          "name": "stdout",
          "output_type": "stream",
          "text": [
            "order_approved_at (%): 0.01\n",
            "order_delivered_carrier_date (%): 0.00\n",
            "order_delivered_customer_date (%): 0.01\n",
            "product_category_name (%): 1.85\n",
            "product_name_lenght (%): 1.85\n",
            "product_description_lenght (%): 1.85\n",
            "product_photos_qty (%): 1.85\n",
            "product_weight_g (%): 0.01\n",
            "product_length_cm (%): 0.01\n",
            "product_height_cm (%): 0.01\n",
            "product_width_cm (%): 0.01\n",
            "review_comment_title (%): 88.37\n",
            "review_comment_message (%): 59.42\n"
          ]
        }
      ],
      "source": [
        "# Memeriksa nilai NaN di setiap dataset\n",
        "for dataset_name, dataset in data.items():\n",
        "    for column in dataset.columns:\n",
        "        # Jika kolom memiliki nilai NaN, cetak nama kolom dan persentase NaN\n",
        "        nan_count = dataset[column].isnull().sum()\n",
        "        if nan_count > 0:\n",
        "            nan_percentage = (nan_count / len(dataset)) * 100\n",
        "            print(f'{column} (%): {nan_percentage:.2f}')"
      ]
    },
    {
      "cell_type": "code",
      "execution_count": 24,
      "metadata": {
        "colab": {
          "base_uri": "https://localhost:8080/"
        },
        "id": "tIKa3YudSUAI",
        "outputId": "198caa14-a156-4e61-d911-84482164c0c9"
      },
      "outputs": [
        {
          "name": "stdout",
          "output_type": "stream",
          "text": [
            "There are only 8 orders that are missing delivery dates.\n"
          ]
        }
      ],
      "source": [
        "# Tangani NaN di data orders\n",
        "# Perhatikan bahwa NaN dalam daftar orders tidak terlalu banyak (setelah diambil hanya yang delivered sebelumnya)\n",
        "# yang penting adalah 'order_delivered_customer_date'.\n",
        "missing_delivery_dates = data['orders'].order_delivered_customer_date.isnull().sum()\n",
        "\n",
        "# Tampilkan jumlah pesanan yang tidak memiliki tanggal pengiriman\n",
        "print(f'There are only {missing_delivery_dates} orders that are missing delivery dates.')"
      ]
    },
    {
      "cell_type": "code",
      "execution_count": 25,
      "metadata": {
        "id": "43ud35iZU5WW"
      },
      "outputs": [],
      "source": [
        "# Kita bisa menghapusnya dengan cara yang sama seperti sebelumnya\n",
        "# Pertama, ambil semua 'order_id' yang tidak memiliki 'order_delivered_customer_date'\n",
        "null_deliveries = data['orders']['order_id'][data['orders']['order_delivered_customer_date'].isnull()].values\n",
        "\n",
        "# Sekarang filter setiap dataframe lain di mana 'order_id' adalah kunci asing\n",
        "for dataset_name, dataframe in data.items():\n",
        "    # Periksa apakah kolom 'order_id' ada di dataframe tersebut\n",
        "    if 'order_id' in dataframe.columns:\n",
        "        # Hapus baris di mana 'order_id'-nya ada dalam daftar 'null_deliveries'\n",
        "        rows_to_drop = dataframe['order_id'].isin(null_deliveries)\n",
        "        dataframe.drop(dataframe[rows_to_drop].index, inplace=True)"
      ]
    },
    {
      "cell_type": "code",
      "execution_count": 26,
      "metadata": {
        "id": "eI8cKIIJViBO"
      },
      "outputs": [],
      "source": [
        "# Saya lebih tertarik pada apakah pesanan dikirim tepat waktu daripada tanggal pengirimannya\n",
        "data['orders']['delivered_on_time'] = np.where(\n",
        "    data['orders']['order_delivered_customer_date'] < data['orders']['order_estimated_delivery_date'],\n",
        "    'On Time',\n",
        "    'Late')"
      ]
    },
    {
      "cell_type": "code",
      "execution_count": 27,
      "metadata": {
        "colab": {
          "base_uri": "https://localhost:8080/"
        },
        "id": "YGiaaJmPdX7I",
        "outputId": "df254b5a-3028-4e1d-9485-1727ddfa86fa"
      },
      "outputs": [
        {
          "name": "stderr",
          "output_type": "stream",
          "text": [
            "C:\\Users\\Anonymus\\AppData\\Local\\Temp\\ipykernel_18732\\2505909173.py:2: FutureWarning: A value is trying to be set on a copy of a DataFrame or Series through chained assignment using an inplace method.\n",
            "The behavior will change in pandas 3.0. This inplace method will never work because the intermediate object on which we are setting values always behaves as a copy.\n",
            "\n",
            "For example, when doing 'df[col].method(value, inplace=True)', try using 'df.method({col: value}, inplace=True)' or df[col] = df[col].method(value) instead, to perform the operation inplace on the original object.\n",
            "\n",
            "\n",
            "  data['orders']['order_approved_at'].fillna(value='0', inplace=True)\n"
          ]
        }
      ],
      "source": [
        "#fillna\n",
        "data['orders']['order_approved_at'].fillna(value='0', inplace=True)"
      ]
    },
    {
      "cell_type": "markdown",
      "metadata": {
        "id": "PjTyfn94V45D"
      },
      "source": [
        "#### 'reviews'"
      ]
    },
    {
      "cell_type": "code",
      "execution_count": 28,
      "metadata": {
        "colab": {
          "base_uri": "https://localhost:8080/"
        },
        "id": "x-i2JVgQV6kQ",
        "outputId": "0e93a007-2f0b-4973-8da7-28dbabfb9a64"
      },
      "outputs": [
        {
          "name": "stdout",
          "output_type": "stream",
          "text": [
            "Review columns: ['review_id' 'order_id' 'review_score' 'review_comment_title'\n",
            " 'review_comment_message' 'review_creation_date' 'review_answer_timestamp']\n"
          ]
        }
      ],
      "source": [
        "# Tampilkan nama kolom di dataframe reviews\n",
        "print('Review columns:', data['reviews'].columns.values)\n",
        "\n",
        "# Kolom review_comment_title memiliki 88% nilai NaN, jadi saya akan menghapusnya.\n",
        "# Nilai NaN untuk data review berarti data tersebut memang tidak ada.\n",
        "\n",
        "# Kolom yang akan dihapus\n",
        "review_drop_cols = ['review_comment_title']\n",
        "data['reviews'].drop(columns=review_drop_cols, inplace=True)"
      ]
    },
    {
      "cell_type": "code",
      "execution_count": 29,
      "metadata": {
        "colab": {
          "base_uri": "https://localhost:8080/",
          "height": 273
        },
        "id": "AsyzvXXvXUjE",
        "outputId": "48a1eb44-3e57-490b-c25c-1f1464a40fcb"
      },
      "outputs": [
        {
          "data": {
            "text/plain": [
              "review_id                      0\n",
              "order_id                       0\n",
              "review_score                   0\n",
              "review_comment_message     57259\n",
              "review_creation_date           0\n",
              "review_answer_timestamp        0\n",
              "dtype: int64"
            ]
          },
          "execution_count": 29,
          "metadata": {},
          "output_type": "execute_result"
        }
      ],
      "source": [
        "data['reviews'].isnull().sum()"
      ]
    },
    {
      "cell_type": "code",
      "execution_count": 30,
      "metadata": {
        "id": "jETMo9OCXaAJ"
      },
      "outputs": [],
      "source": [
        "# Mungkin jika kita sedang membahas sentiment classifier kita akan fokus ke data ini.\n",
        "# Namun, disini saya tidak terlalu tertarik dengan comment.\n",
        "# dari yang saya liat, Review_comment_mesaage NaN kalau seseorang tidak komentar.\n",
        "# saya tidak ingin menghapusnya, jadi saya isi review_comment_message yang Nan dengan 0, dan yang leave komentar dengan 1\n",
        "data['reviews']['review_comment_message'] = np.where(data['reviews']['review_comment_message'].isnull(), 0, 1)"
      ]
    },
    {
      "cell_type": "markdown",
      "metadata": {
        "id": "pqClzUOwYtWx"
      },
      "source": [
        "#### 'products'"
      ]
    },
    {
      "cell_type": "code",
      "execution_count": 31,
      "metadata": {
        "colab": {
          "base_uri": "https://localhost:8080/"
        },
        "id": "SOCR8NYkW0z4",
        "outputId": "5802f2d9-c4fb-4172-ddba-f2b8faf6d24c"
      },
      "outputs": [
        {
          "name": "stdout",
          "output_type": "stream",
          "text": [
            "Product cols:  ['product_id' 'product_category_name' 'product_name_lenght'\n",
            " 'product_description_lenght' 'product_photos_qty' 'product_weight_g'\n",
            " 'product_length_cm' 'product_height_cm' 'product_width_cm']\n"
          ]
        }
      ],
      "source": [
        "print('Product cols: ' , data['products'].columns.values)"
      ]
    },
    {
      "cell_type": "code",
      "execution_count": 32,
      "metadata": {
        "colab": {
          "base_uri": "https://localhost:8080/"
        },
        "id": "mfHSsgLLZnV3",
        "outputId": "050e142f-3d40-4777-b7c1-3627bb11dc00"
      },
      "outputs": [
        {
          "data": {
            "text/plain": [
              "Index(['product_id', 'product_category_name', 'product_name_lenght',\n",
              "       'product_description_lenght', 'product_photos_qty', 'product_weight_g',\n",
              "       'product_length_cm', 'product_height_cm', 'product_width_cm'],\n",
              "      dtype='object')"
            ]
          },
          "execution_count": 32,
          "metadata": {},
          "output_type": "execute_result"
        }
      ],
      "source": [
        "products.columns"
      ]
    },
    {
      "cell_type": "markdown",
      "metadata": {
        "id": "yCPLmuGja0_E"
      },
      "source": [
        "product_weight_g                2\n",
        "product_length_cm               2\n",
        "product_height_cm               2\n",
        "product_width_cm   "
      ]
    },
    {
      "cell_type": "code",
      "execution_count": 33,
      "metadata": {
        "id": "RQdKBIJxZufw"
      },
      "outputs": [],
      "source": [
        "# saya tidak bisa memikirkan yang harus dilakukan terhadap kolom missing di produc\n",
        "product_drop_cols = ['product_name_lenght',\n",
        "                     'product_description_lenght',\n",
        "                     'product_weight_g',\n",
        "                     'product_length_cm',\n",
        "                     'product_height_cm',\n",
        "                     'product_width_cm']\n",
        "\n",
        "data['products'].drop(product_drop_cols, axis= 1, inplace= True)"
      ]
    },
    {
      "cell_type": "code",
      "execution_count": 34,
      "metadata": {
        "colab": {
          "base_uri": "https://localhost:8080/"
        },
        "id": "Xz8nXYKIZnOB",
        "outputId": "d3fdd23e-d864-48f1-cb58-17c209add4d0"
      },
      "outputs": [
        {
          "name": "stderr",
          "output_type": "stream",
          "text": [
            "C:\\Users\\Anonymus\\AppData\\Local\\Temp\\ipykernel_18732\\2223570612.py:5: FutureWarning: A value is trying to be set on a copy of a DataFrame or Series through chained assignment using an inplace method.\n",
            "The behavior will change in pandas 3.0. This inplace method will never work because the intermediate object on which we are setting values always behaves as a copy.\n",
            "\n",
            "For example, when doing 'df[col].method(value, inplace=True)', try using 'df.method({col: value}, inplace=True)' or df[col] = df[col].method(value) instead, to perform the operation inplace on the original object.\n",
            "\n",
            "\n",
            "  data['products']['product_category_name'].fillna(value='outro', inplace=True)\n",
            "C:\\Users\\Anonymus\\AppData\\Local\\Temp\\ipykernel_18732\\2223570612.py:6: FutureWarning: A value is trying to be set on a copy of a DataFrame or Series through chained assignment using an inplace method.\n",
            "The behavior will change in pandas 3.0. This inplace method will never work because the intermediate object on which we are setting values always behaves as a copy.\n",
            "\n",
            "For example, when doing 'df[col].method(value, inplace=True)', try using 'df.method({col: value}, inplace=True)' or df[col] = df[col].method(value) instead, to perform the operation inplace on the original object.\n",
            "\n",
            "\n",
            "  data['products']['product_photos_qty'].fillna(value=0, inplace=True)\n"
          ]
        }
      ],
      "source": [
        "#fillna dilakukan.\n",
        "# setelah melihat di dataset 'products' yang cukup banyak rownya, saya pikir aman untukk fillna\n",
        "# products_category_name dengan outro dan\n",
        "# product_photos_qty dengan 0. product_photos_qty tidak mungkin bernilai 0\n",
        "data['products']['product_category_name'].fillna(value='outro', inplace=True)\n",
        "data['products']['product_photos_qty'].fillna(value=0, inplace=True)"
      ]
    },
    {
      "cell_type": "code",
      "execution_count": 35,
      "metadata": {
        "colab": {
          "base_uri": "https://localhost:8080/"
        },
        "id": "dUx6aotRcYaN",
        "outputId": "522a4219-91af-41fb-98c7-ee2aaefa9da8"
      },
      "outputs": [
        {
          "name": "stdout",
          "output_type": "stream",
          "text": [
            "\n",
            " reviews \n",
            " review_id                  0\n",
            "order_id                   0\n",
            "review_score               0\n",
            "review_comment_message     0\n",
            "review_creation_date       0\n",
            "review_answer_timestamp    0\n",
            "dtype: int64\n",
            "\n",
            " orders \n",
            " order_id                         0\n",
            "customer_id                      0\n",
            "order_status                     0\n",
            "order_purchase_timestamp         0\n",
            "order_approved_at                0\n",
            "order_delivered_carrier_date     1\n",
            "order_delivered_customer_date    0\n",
            "order_estimated_delivery_date    0\n",
            "delivered_on_time                0\n",
            "dtype: int64\n",
            "\n",
            " products \n",
            " product_id               0\n",
            "product_category_name    0\n",
            "product_photos_qty       0\n",
            "dtype: int64\n"
          ]
        }
      ],
      "source": [
        "print('\\n reviews \\n', reviews.isnull().sum())\n",
        "print('\\n orders \\n', orders.isnull().sum())\n",
        "print('\\n products \\n', products.isnull().sum())"
      ]
    },
    {
      "cell_type": "markdown",
      "metadata": {
        "id": "GWscWnHUbtM-"
      },
      "source": [
        "# Exploratory Data Analysis (EDA)"
      ]
    },
    {
      "cell_type": "code",
      "execution_count": 36,
      "metadata": {
        "colab": {
          "base_uri": "https://localhost:8080/"
        },
        "id": "pN_nugIYw0SR",
        "outputId": "a8963ff7-4d08-43f6-f168-e7f677e72fb3"
      },
      "outputs": [
        {
          "name": "stdout",
          "output_type": "stream",
          "text": [
            "orders memiliki kolom 'order_id'\n",
            "items memiliki kolom 'order_id'\n",
            "\n",
            "payments memiliki kolom 'order_id'\n",
            "reviews memiliki kolom 'order_id'\n",
            "\n",
            "\n",
            "\n",
            "\n"
          ]
        }
      ],
      "source": [
        "# Memeriksa apakah setiap DataFrame memiliki kolom 'order_id'\n",
        "for name, df in data.items():\n",
        "    if 'order_id' in df.columns:\n",
        "        print(f\"{name} memiliki kolom 'order_id'\")\n",
        "    else:\n",
        "        print(\"\")"
      ]
    },
    {
      "cell_type": "code",
      "execution_count": 37,
      "metadata": {
        "colab": {
          "base_uri": "https://localhost:8080/"
        },
        "id": "-QIuTArpxX3y",
        "outputId": "e1a94e0e-ebac-4626-82c6-648cd764d513"
      },
      "outputs": [
        {
          "name": "stdout",
          "output_type": "stream",
          "text": [
            "\n",
            "items memiliki kolom 'seller_id'\n",
            "\n",
            "\n",
            "\n",
            "\n",
            "sellers memiliki kolom 'seller_id'\n",
            "\n",
            "\n"
          ]
        }
      ],
      "source": [
        "# Memeriksa apakah setiap DataFrame memiliki kolom 'seller_id'\n",
        "for name, df in data.items():\n",
        "    if 'seller_id' in df.columns:\n",
        "        print(f\"{name} memiliki kolom 'seller_id'\")\n",
        "    else:\n",
        "        print(\"\")"
      ]
    },
    {
      "cell_type": "markdown",
      "metadata": {
        "id": "R4z_o5RCp8ws"
      },
      "source": [
        "### Explore customer"
      ]
    },
    {
      "cell_type": "code",
      "execution_count": 38,
      "metadata": {
        "colab": {
          "base_uri": "https://localhost:8080/",
          "height": 490
        },
        "id": "dJBxefGdp8Wl",
        "outputId": "6da9ed62-c745-4bb1-f7c7-c44396342c9a"
      },
      "outputs": [
        {
          "data": {
            "text/plain": [
              "customer_city\n",
              "sao paulo         15540\n",
              "rio de janeiro     6882\n",
              "belo horizonte     2773\n",
              "brasilia           2131\n",
              "curitiba           1521\n",
              "                  ...  \n",
              "agisse                1\n",
              "vieiras               1\n",
              "bertopolis            1\n",
              "abadiania             1\n",
              "xexeu                 1\n",
              "Name: customer_id, Length: 4119, dtype: int64"
            ]
          },
          "execution_count": 38,
          "metadata": {},
          "output_type": "execute_result"
        }
      ],
      "source": [
        "data['customers'].groupby(by=\"customer_city\").customer_id.nunique().sort_values(ascending=False)"
      ]
    },
    {
      "cell_type": "markdown",
      "metadata": {
        "id": "BbkCZf3bqNa-"
      },
      "source": [
        "customer_id (jumlah akun) paling banyak terletak di Sao Paolo dengan jumlah 15540"
      ]
    },
    {
      "cell_type": "code",
      "execution_count": 39,
      "metadata": {
        "colab": {
          "base_uri": "https://localhost:8080/",
          "height": 962
        },
        "id": "WU0_E8LuqL9K",
        "outputId": "ce74cd4c-4605-45ef-badc-75a5164a9900"
      },
      "outputs": [
        {
          "data": {
            "text/plain": [
              "customer_state\n",
              "SP    41746\n",
              "RJ    12852\n",
              "MG    11635\n",
              "RS     5466\n",
              "PR     5045\n",
              "SC     3637\n",
              "BA     3380\n",
              "DF     2140\n",
              "ES     2033\n",
              "GO     2020\n",
              "PE     1652\n",
              "CE     1336\n",
              "PA      975\n",
              "MT      907\n",
              "MA      747\n",
              "MS      715\n",
              "PB      536\n",
              "PI      495\n",
              "RN      485\n",
              "AL      413\n",
              "SE      350\n",
              "TO      280\n",
              "RO      253\n",
              "AM      148\n",
              "AC       81\n",
              "AP       68\n",
              "RR       46\n",
              "Name: customer_id, dtype: int64"
            ]
          },
          "execution_count": 39,
          "metadata": {},
          "output_type": "execute_result"
        }
      ],
      "source": [
        "data['customers'].groupby(by=\"customer_state\").customer_id.nunique().sort_values(ascending=False)"
      ]
    },
    {
      "cell_type": "code",
      "execution_count": 40,
      "metadata": {
        "colab": {
          "base_uri": "https://localhost:8080/"
        },
        "id": "8Whaby0ErILd",
        "outputId": "9ee6a2f0-ac86-45f2-d0e5-d546e8b74d6d"
      },
      "outputs": [
        {
          "name": "stdout",
          "output_type": "stream",
          "text": [
            "   customer_state  City Count\n",
            "0              AC           8\n",
            "1              AL          68\n",
            "2              AM           5\n",
            "3              AP           6\n",
            "4              BA         353\n",
            "5              CE         161\n",
            "6              DF           6\n",
            "7              ES          95\n",
            "8              GO         178\n",
            "9              MA         122\n",
            "10             MG         745\n",
            "11             MS          67\n",
            "12             MT         101\n",
            "13             PA          89\n",
            "14             PB          92\n",
            "15             PE         152\n",
            "16             PI          72\n",
            "17             PR         364\n",
            "18             RJ         149\n",
            "19             RN          90\n",
            "20             RO          35\n",
            "21             RR           2\n",
            "22             RS         379\n",
            "23             SC         240\n",
            "24             SE          46\n",
            "25             SP         629\n",
            "26             TO          56\n"
          ]
        }
      ],
      "source": [
        "#menghitung berapa banyak jumlah city di dalam suatu state\n",
        "\n",
        "state_city_counts = data['customers'].groupby('customer_state')['customer_city'].nunique().reset_index(name='City Count')\n",
        "# Menampilkan hasil\n",
        "print(state_city_counts)"
      ]
    },
    {
      "cell_type": "markdown",
      "metadata": {
        "id": "BQaGQWO4li81"
      },
      "source": [
        "### Explore Orders"
      ]
    },
    {
      "cell_type": "code",
      "execution_count": 41,
      "metadata": {
        "colab": {
          "base_uri": "https://localhost:8080/"
        },
        "id": "sRPvt-DlligF",
        "outputId": "559686b7-fc8a-4b02-b43c-fc5dc6bc71ad"
      },
      "outputs": [
        {
          "data": {
            "text/plain": [
              "Index(['order_id', 'customer_id', 'order_status', 'order_purchase_timestamp',\n",
              "       'order_approved_at', 'order_delivered_carrier_date',\n",
              "       'order_delivered_customer_date', 'order_estimated_delivery_date',\n",
              "       'delivered_on_time'],\n",
              "      dtype='object')"
            ]
          },
          "execution_count": 41,
          "metadata": {},
          "output_type": "execute_result"
        }
      ],
      "source": [
        "data['orders'].columns"
      ]
    },
    {
      "cell_type": "code",
      "execution_count": 42,
      "metadata": {
        "id": "tsjCoac3eBfg"
      },
      "outputs": [],
      "source": [
        "# menghitung persebaran (waktu lama)\n",
        "# Mengubah kolom date menjadi tipe datetime\n",
        "data['orders']['order_delivered_customer_date'] = pd.to_datetime(data['orders']['order_delivered_customer_date'], errors='coerce')\n",
        "data['orders']['order_delivered_carrier_date'] = pd.to_datetime(data['orders']['order_delivered_carrier_date'], errors='coerce')\n",
        "\n",
        "delivery_time = orders[\"order_delivered_customer_date\"] - orders[\"order_delivered_carrier_date\"]\n",
        "delivery_time = delivery_time.apply(lambda x: x.total_seconds())\n",
        "orders[\"delivery_time\"] = round(delivery_time/86400)"
      ]
    },
    {
      "cell_type": "code",
      "execution_count": 43,
      "metadata": {
        "colab": {
          "base_uri": "https://localhost:8080/",
          "height": 1000
        },
        "id": "P1qg3Z3raj8c",
        "outputId": "255d23b6-35ac-415e-ffa7-1e3f7e28c533"
      },
      "outputs": [
        {
          "data": {
            "image/png": "[encoded data removed]",
            "text/plain": [
              "<Figure size 640x480 with 1 Axes>"
            ]
          },
          "metadata": {},
          "output_type": "display_data"
        }
      ],
      "source": [
        "# Membuat histogram\n",
        "plt.hist(orders['delivery_time'],\n",
        "         bins=8,  # Jumlah interval/bins\n",
        "         alpha=0.7,  # Transparansi warna\n",
        "         color='blue',  # Warna histogram\n",
        "         edgecolor='black')  # Warna tepi bin\n",
        "\n",
        "# Menambahkan label dan judul\n",
        "plt.title('Histogram of Delivery Time', fontsize=16)\n",
        "plt.xlabel('Delivery Time (days)', fontsize=14)\n",
        "plt.ylabel('Frequency', fontsize=14)\n",
        "\n",
        "# Menampilkan grid\n",
        "plt.grid(axis='y', alpha=0.75)\n",
        "\n",
        "# Menampilkan histogram\n",
        "plt.show()"
      ]
    },
    {
      "cell_type": "code",
      "execution_count": 44,
      "metadata": {
        "colab": {
          "base_uri": "https://localhost:8080/"
        },
        "id": "eGGVDdOEbB9U",
        "outputId": "a7c0dbe3-9d14-4282-a69c-ee07e5c0b1da"
      },
      "outputs": [
        {
          "name": "stdout",
          "output_type": "stream",
          "text": [
            "Total delivery_count yang lebih besar dari 50: 30808\n"
          ]
        }
      ],
      "source": [
        "total_delivery_above_50 = orders[orders['delivery_time'] > 50]['delivery_time'].sum()\n",
        "print(\"Total delivery_count yang lebih besar dari 50:\", int(total_delivery_above_50))"
      ]
    },
    {
      "cell_type": "markdown",
      "metadata": {
        "id": "gh2cK8FX4Js3"
      },
      "source": [
        "### Explore Customers and Orders"
      ]
    },
    {
      "cell_type": "code",
      "execution_count": 45,
      "metadata": {
        "colab": {
          "base_uri": "https://localhost:8080/"
        },
        "id": "BobnMMHNpbB0",
        "outputId": "ff2e7288-c471-45c6-8488-e04e1e6e737b"
      },
      "outputs": [
        {
          "name": "stdout",
          "output_type": "stream",
          "text": [
            "orders memiliki kolom 'customer_id'\n",
            "\n",
            "\n",
            "\n",
            "\n",
            "customers memiliki kolom 'customer_id'\n",
            "\n",
            "\n",
            "\n"
          ]
        }
      ],
      "source": [
        "# Memeriksa apakah setiap DataFrame memiliki kolom 'customer_id'\n",
        "for name, df in data.items():\n",
        "    if 'customer_id' in df.columns:\n",
        "        print(f\"{name} memiliki kolom 'customer_id'\")\n",
        "    else:\n",
        "        print(\"\")"
      ]
    },
    {
      "cell_type": "code",
      "execution_count": 46,
      "metadata": {
        "colab": {
          "base_uri": "https://localhost:8080/",
          "height": 167
        },
        "id": "BSfigQCU3cjv",
        "outputId": "fe607257-ae38-4c69-dee6-1370e54f1411"
      },
      "outputs": [
        {
          "data": {
            "text/html": [
              "<div>\n",
              "<style scoped>\n",
              "    .dataframe tbody tr th:only-of-type {\n",
              "        vertical-align: middle;\n",
              "    }\n",
              "\n",
              "    .dataframe tbody tr th {\n",
              "        vertical-align: top;\n",
              "    }\n",
              "\n",
              "    .dataframe thead th {\n",
              "        text-align: right;\n",
              "    }\n",
              "</style>\n",
              "<table border=\"1\" class=\"dataframe\">\n",
              "  <thead>\n",
              "    <tr style=\"text-align: right;\">\n",
              "      <th></th>\n",
              "      <th>order_id</th>\n",
              "      <th>customer_id</th>\n",
              "      <th>order_status</th>\n",
              "      <th>order_purchase_timestamp</th>\n",
              "      <th>order_approved_at</th>\n",
              "      <th>order_delivered_carrier_date</th>\n",
              "      <th>order_delivered_customer_date</th>\n",
              "      <th>order_estimated_delivery_date</th>\n",
              "      <th>delivered_on_time</th>\n",
              "      <th>delivery_time</th>\n",
              "    </tr>\n",
              "  </thead>\n",
              "  <tbody>\n",
              "    <tr>\n",
              "      <th>26647</th>\n",
              "      <td>6355eaa9ea0d6a5946978835f89effbb</td>\n",
              "      <td>387183c2d8b0450043d97f07d42fd8d0</td>\n",
              "      <td>delivered</td>\n",
              "      <td>2017-06-09 11:12:56</td>\n",
              "      <td>2017-06-10 02:43:36</td>\n",
              "      <td>2017-06-12 14:52:07</td>\n",
              "      <td>2017-06-19 21:13:36</td>\n",
              "      <td>2017-07-04 00:00:00</td>\n",
              "      <td>On Time</td>\n",
              "      <td>7.0</td>\n",
              "    </tr>\n",
              "    <tr>\n",
              "      <th>16329</th>\n",
              "      <td>3c7f51d2d4719b8f3b5af55c167b2fb4</td>\n",
              "      <td>3c2c0a8240bf76896722b75881b676d1</td>\n",
              "      <td>delivered</td>\n",
              "      <td>2018-05-18 15:43:20</td>\n",
              "      <td>2018-05-19 12:31:41</td>\n",
              "      <td>2018-05-22 09:33:00</td>\n",
              "      <td>2018-06-08 14:55:34</td>\n",
              "      <td>2018-06-22 00:00:00</td>\n",
              "      <td>On Time</td>\n",
              "      <td>17.0</td>\n",
              "    </tr>\n",
              "  </tbody>\n",
              "</table>\n",
              "</div>"
            ],
            "text/plain": [
              "                               order_id                       customer_id  \\\n",
              "26647  6355eaa9ea0d6a5946978835f89effbb  387183c2d8b0450043d97f07d42fd8d0   \n",
              "16329  3c7f51d2d4719b8f3b5af55c167b2fb4  3c2c0a8240bf76896722b75881b676d1   \n",
              "\n",
              "      order_status order_purchase_timestamp    order_approved_at  \\\n",
              "26647    delivered      2017-06-09 11:12:56  2017-06-10 02:43:36   \n",
              "16329    delivered      2018-05-18 15:43:20  2018-05-19 12:31:41   \n",
              "\n",
              "      order_delivered_carrier_date order_delivered_customer_date  \\\n",
              "26647          2017-06-12 14:52:07           2017-06-19 21:13:36   \n",
              "16329          2018-05-22 09:33:00           2018-06-08 14:55:34   \n",
              "\n",
              "      order_estimated_delivery_date delivered_on_time  delivery_time  \n",
              "26647           2017-07-04 00:00:00           On Time            7.0  \n",
              "16329           2018-06-22 00:00:00           On Time           17.0  "
            ]
          },
          "execution_count": 46,
          "metadata": {},
          "output_type": "execute_result"
        }
      ],
      "source": [
        "orders.sample(2)"
      ]
    },
    {
      "cell_type": "code",
      "execution_count": 47,
      "metadata": {
        "colab": {
          "base_uri": "https://localhost:8080/",
          "height": 112
        },
        "id": "HmjG5Re03eQQ",
        "outputId": "edecb646-493b-4f9f-8925-728dbcc8ec26"
      },
      "outputs": [
        {
          "data": {
            "text/html": [
              "<div>\n",
              "<style scoped>\n",
              "    .dataframe tbody tr th:only-of-type {\n",
              "        vertical-align: middle;\n",
              "    }\n",
              "\n",
              "    .dataframe tbody tr th {\n",
              "        vertical-align: top;\n",
              "    }\n",
              "\n",
              "    .dataframe thead th {\n",
              "        text-align: right;\n",
              "    }\n",
              "</style>\n",
              "<table border=\"1\" class=\"dataframe\">\n",
              "  <thead>\n",
              "    <tr style=\"text-align: right;\">\n",
              "      <th></th>\n",
              "      <th>customer_id</th>\n",
              "      <th>customer_unique_id</th>\n",
              "      <th>customer_zip_code_prefix</th>\n",
              "      <th>customer_city</th>\n",
              "      <th>customer_state</th>\n",
              "    </tr>\n",
              "  </thead>\n",
              "  <tbody>\n",
              "    <tr>\n",
              "      <th>48944</th>\n",
              "      <td>8ef0c4ed92f36f086327ceed339112fe</td>\n",
              "      <td>415ea804893f5617329ab4c9ff036e17</td>\n",
              "      <td>89490</td>\n",
              "      <td>tres barras</td>\n",
              "      <td>SC</td>\n",
              "    </tr>\n",
              "    <tr>\n",
              "      <th>71965</th>\n",
              "      <td>5f2d3a20b81937d3ef88d622b2f92035</td>\n",
              "      <td>4b0248ab9516b1c3c69cb1b9f5157014</td>\n",
              "      <td>71530</td>\n",
              "      <td>brasilia</td>\n",
              "      <td>DF</td>\n",
              "    </tr>\n",
              "  </tbody>\n",
              "</table>\n",
              "</div>"
            ],
            "text/plain": [
              "                            customer_id                customer_unique_id  \\\n",
              "48944  8ef0c4ed92f36f086327ceed339112fe  415ea804893f5617329ab4c9ff036e17   \n",
              "71965  5f2d3a20b81937d3ef88d622b2f92035  4b0248ab9516b1c3c69cb1b9f5157014   \n",
              "\n",
              "       customer_zip_code_prefix customer_city customer_state  \n",
              "48944                     89490   tres barras             SC  \n",
              "71965                     71530      brasilia             DF  "
            ]
          },
          "execution_count": 47,
          "metadata": {},
          "output_type": "execute_result"
        }
      ],
      "source": [
        "customers.sample(2)"
      ]
    },
    {
      "cell_type": "code",
      "execution_count": 48,
      "metadata": {
        "colab": {
          "base_uri": "https://localhost:8080/",
          "height": 313
        },
        "id": "AWW4Bw4w3VOH",
        "outputId": "8978bfa7-91e8-468a-d179-5a4267660b21"
      },
      "outputs": [
        {
          "data": {
            "text/html": [
              "<div>\n",
              "<style scoped>\n",
              "    .dataframe tbody tr th:only-of-type {\n",
              "        vertical-align: middle;\n",
              "    }\n",
              "\n",
              "    .dataframe tbody tr th {\n",
              "        vertical-align: top;\n",
              "    }\n",
              "\n",
              "    .dataframe thead th {\n",
              "        text-align: right;\n",
              "    }\n",
              "</style>\n",
              "<table border=\"1\" class=\"dataframe\">\n",
              "  <thead>\n",
              "    <tr style=\"text-align: right;\">\n",
              "      <th></th>\n",
              "      <th>customer_id</th>\n",
              "      <th>customer_unique_id</th>\n",
              "      <th>customer_zip_code_prefix</th>\n",
              "      <th>customer_city</th>\n",
              "      <th>customer_state</th>\n",
              "      <th>order_id</th>\n",
              "      <th>order_status</th>\n",
              "      <th>order_purchase_timestamp</th>\n",
              "      <th>order_approved_at</th>\n",
              "      <th>order_delivered_carrier_date</th>\n",
              "      <th>order_delivered_customer_date</th>\n",
              "      <th>order_estimated_delivery_date</th>\n",
              "      <th>delivered_on_time</th>\n",
              "      <th>delivery_time</th>\n",
              "    </tr>\n",
              "  </thead>\n",
              "  <tbody>\n",
              "    <tr>\n",
              "      <th>0</th>\n",
              "      <td>06b8999e2fba1a1fbc88172c00ba8bc7</td>\n",
              "      <td>861eff4711a542e4b93843c6dd7febb0</td>\n",
              "      <td>14409</td>\n",
              "      <td>franca</td>\n",
              "      <td>SP</td>\n",
              "      <td>00e7ee1b050b8499577073aeb2a297a1</td>\n",
              "      <td>delivered</td>\n",
              "      <td>2017-05-16 15:05:35</td>\n",
              "      <td>2017-05-16 15:22:12</td>\n",
              "      <td>2017-05-23 10:47:57</td>\n",
              "      <td>2017-05-25 10:35:35</td>\n",
              "      <td>2017-06-05 00:00:00</td>\n",
              "      <td>On Time</td>\n",
              "      <td>2.0</td>\n",
              "    </tr>\n",
              "    <tr>\n",
              "      <th>1</th>\n",
              "      <td>18955e83d337fd6b2def6b18a428ac77</td>\n",
              "      <td>290c77bc529b7ac935b93aa66c333dc3</td>\n",
              "      <td>9790</td>\n",
              "      <td>sao bernardo do campo</td>\n",
              "      <td>SP</td>\n",
              "      <td>29150127e6685892b6eab3eec79f59c7</td>\n",
              "      <td>delivered</td>\n",
              "      <td>2018-01-12 20:48:24</td>\n",
              "      <td>2018-01-12 20:58:32</td>\n",
              "      <td>2018-01-15 17:14:59</td>\n",
              "      <td>2018-01-29 12:41:19</td>\n",
              "      <td>2018-02-06 00:00:00</td>\n",
              "      <td>On Time</td>\n",
              "      <td>14.0</td>\n",
              "    </tr>\n",
              "    <tr>\n",
              "      <th>2</th>\n",
              "      <td>4e7b3e00288586ebd08712fdd0374a03</td>\n",
              "      <td>060e732b5b29e8181a18229c7b0b2b5e</td>\n",
              "      <td>1151</td>\n",
              "      <td>sao paulo</td>\n",
              "      <td>SP</td>\n",
              "      <td>b2059ed67ce144a36e2aa97d2c9e9ad2</td>\n",
              "      <td>delivered</td>\n",
              "      <td>2018-05-19 16:07:45</td>\n",
              "      <td>2018-05-20 16:19:10</td>\n",
              "      <td>2018-06-11 14:31:00</td>\n",
              "      <td>2018-06-14 17:58:51</td>\n",
              "      <td>2018-06-13 00:00:00</td>\n",
              "      <td>Late</td>\n",
              "      <td>3.0</td>\n",
              "    </tr>\n",
              "    <tr>\n",
              "      <th>3</th>\n",
              "      <td>b2b6027bc5c5109e529d4dc6358b12c3</td>\n",
              "      <td>259dac757896d24d7702b9acbbff3f3c</td>\n",
              "      <td>8775</td>\n",
              "      <td>mogi das cruzes</td>\n",
              "      <td>SP</td>\n",
              "      <td>951670f92359f4fe4a63112aa7306eba</td>\n",
              "      <td>delivered</td>\n",
              "      <td>2018-03-13 16:06:38</td>\n",
              "      <td>2018-03-13 17:29:19</td>\n",
              "      <td>2018-03-27 23:22:42</td>\n",
              "      <td>2018-03-28 16:04:25</td>\n",
              "      <td>2018-04-10 00:00:00</td>\n",
              "      <td>On Time</td>\n",
              "      <td>1.0</td>\n",
              "    </tr>\n",
              "    <tr>\n",
              "      <th>4</th>\n",
              "      <td>4f2d8ab171c80ec8364f7c12e35b23ad</td>\n",
              "      <td>345ecd01c38d18a9036ed96c73b8d066</td>\n",
              "      <td>13056</td>\n",
              "      <td>campinas</td>\n",
              "      <td>SP</td>\n",
              "      <td>6b7d50bd145f6fc7f33cebabd7e49d0f</td>\n",
              "      <td>delivered</td>\n",
              "      <td>2018-07-29 09:51:30</td>\n",
              "      <td>2018-07-29 10:10:09</td>\n",
              "      <td>2018-07-30 15:16:00</td>\n",
              "      <td>2018-08-09 20:55:48</td>\n",
              "      <td>2018-08-15 00:00:00</td>\n",
              "      <td>On Time</td>\n",
              "      <td>10.0</td>\n",
              "    </tr>\n",
              "  </tbody>\n",
              "</table>\n",
              "</div>"
            ],
            "text/plain": [
              "                        customer_id                customer_unique_id  \\\n",
              "0  06b8999e2fba1a1fbc88172c00ba8bc7  861eff4711a542e4b93843c6dd7febb0   \n",
              "1  18955e83d337fd6b2def6b18a428ac77  290c77bc529b7ac935b93aa66c333dc3   \n",
              "2  4e7b3e00288586ebd08712fdd0374a03  060e732b5b29e8181a18229c7b0b2b5e   \n",
              "3  b2b6027bc5c5109e529d4dc6358b12c3  259dac757896d24d7702b9acbbff3f3c   \n",
              "4  4f2d8ab171c80ec8364f7c12e35b23ad  345ecd01c38d18a9036ed96c73b8d066   \n",
              "\n",
              "   customer_zip_code_prefix          customer_city customer_state  \\\n",
              "0                     14409                 franca             SP   \n",
              "1                      9790  sao bernardo do campo             SP   \n",
              "2                      1151              sao paulo             SP   \n",
              "3                      8775        mogi das cruzes             SP   \n",
              "4                     13056               campinas             SP   \n",
              "\n",
              "                           order_id order_status order_purchase_timestamp  \\\n",
              "0  00e7ee1b050b8499577073aeb2a297a1    delivered      2017-05-16 15:05:35   \n",
              "1  29150127e6685892b6eab3eec79f59c7    delivered      2018-01-12 20:48:24   \n",
              "2  b2059ed67ce144a36e2aa97d2c9e9ad2    delivered      2018-05-19 16:07:45   \n",
              "3  951670f92359f4fe4a63112aa7306eba    delivered      2018-03-13 16:06:38   \n",
              "4  6b7d50bd145f6fc7f33cebabd7e49d0f    delivered      2018-07-29 09:51:30   \n",
              "\n",
              "     order_approved_at order_delivered_carrier_date  \\\n",
              "0  2017-05-16 15:22:12          2017-05-23 10:47:57   \n",
              "1  2018-01-12 20:58:32          2018-01-15 17:14:59   \n",
              "2  2018-05-20 16:19:10          2018-06-11 14:31:00   \n",
              "3  2018-03-13 17:29:19          2018-03-27 23:22:42   \n",
              "4  2018-07-29 10:10:09          2018-07-30 15:16:00   \n",
              "\n",
              "  order_delivered_customer_date order_estimated_delivery_date  \\\n",
              "0           2017-05-25 10:35:35           2017-06-05 00:00:00   \n",
              "1           2018-01-29 12:41:19           2018-02-06 00:00:00   \n",
              "2           2018-06-14 17:58:51           2018-06-13 00:00:00   \n",
              "3           2018-03-28 16:04:25           2018-04-10 00:00:00   \n",
              "4           2018-08-09 20:55:48           2018-08-15 00:00:00   \n",
              "\n",
              "  delivered_on_time  delivery_time  \n",
              "0           On Time            2.0  \n",
              "1           On Time           14.0  \n",
              "2              Late            3.0  \n",
              "3           On Time            1.0  \n",
              "4           On Time           10.0  "
            ]
          },
          "execution_count": 48,
          "metadata": {},
          "output_type": "execute_result"
        }
      ],
      "source": [
        "customers_df = pd.merge(\n",
        "    left=customers,\n",
        "    right=orders,\n",
        "    how=\"left\",\n",
        "    left_on=\"customer_id\",\n",
        "    right_on=\"customer_id\"\n",
        ")\n",
        "customers_df.head(5)"
      ]
    },
    {
      "cell_type": "markdown",
      "metadata": {
        "id": "UAjYo7XP-qlh"
      },
      "source": [
        "### Explore Reviews"
      ]
    },
    {
      "cell_type": "code",
      "execution_count": 49,
      "metadata": {
        "colab": {
          "base_uri": "https://localhost:8080/",
          "height": 112
        },
        "id": "MjQMU2eT-s63",
        "outputId": "1c69276a-f067-41f8-8fea-e56fd1266345"
      },
      "outputs": [
        {
          "data": {
            "text/html": [
              "<div>\n",
              "<style scoped>\n",
              "    .dataframe tbody tr th:only-of-type {\n",
              "        vertical-align: middle;\n",
              "    }\n",
              "\n",
              "    .dataframe tbody tr th {\n",
              "        vertical-align: top;\n",
              "    }\n",
              "\n",
              "    .dataframe thead th {\n",
              "        text-align: right;\n",
              "    }\n",
              "</style>\n",
              "<table border=\"1\" class=\"dataframe\">\n",
              "  <thead>\n",
              "    <tr style=\"text-align: right;\">\n",
              "      <th></th>\n",
              "      <th>review_id</th>\n",
              "      <th>order_id</th>\n",
              "      <th>review_score</th>\n",
              "      <th>review_comment_message</th>\n",
              "      <th>review_creation_date</th>\n",
              "      <th>review_answer_timestamp</th>\n",
              "    </tr>\n",
              "  </thead>\n",
              "  <tbody>\n",
              "    <tr>\n",
              "      <th>85433</th>\n",
              "      <td>e97ee3ce4184d0679e369fe1452976fc</td>\n",
              "      <td>663ea079977e933b9c2c27fe78b93629</td>\n",
              "      <td>4</td>\n",
              "      <td>0</td>\n",
              "      <td>2018-08-31 00:00:00</td>\n",
              "      <td>2018-09-04 11:40:01</td>\n",
              "    </tr>\n",
              "    <tr>\n",
              "      <th>20275</th>\n",
              "      <td>68513ed14b72ea332f524b7bd5b6d230</td>\n",
              "      <td>1a0a36c1032d171afbfdb82012107bf6</td>\n",
              "      <td>5</td>\n",
              "      <td>0</td>\n",
              "      <td>2017-09-29 00:00:00</td>\n",
              "      <td>2017-09-30 14:40:27</td>\n",
              "    </tr>\n",
              "  </tbody>\n",
              "</table>\n",
              "</div>"
            ],
            "text/plain": [
              "                              review_id                          order_id  \\\n",
              "85433  e97ee3ce4184d0679e369fe1452976fc  663ea079977e933b9c2c27fe78b93629   \n",
              "20275  68513ed14b72ea332f524b7bd5b6d230  1a0a36c1032d171afbfdb82012107bf6   \n",
              "\n",
              "       review_score  review_comment_message review_creation_date  \\\n",
              "85433             4                       0  2018-08-31 00:00:00   \n",
              "20275             5                       0  2017-09-29 00:00:00   \n",
              "\n",
              "      review_answer_timestamp  \n",
              "85433     2018-09-04 11:40:01  \n",
              "20275     2017-09-30 14:40:27  "
            ]
          },
          "execution_count": 49,
          "metadata": {},
          "output_type": "execute_result"
        }
      ],
      "source": [
        "reviews.sample(2)"
      ]
    },
    {
      "cell_type": "code",
      "execution_count": 50,
      "metadata": {
        "colab": {
          "base_uri": "https://localhost:8080/"
        },
        "id": "NF4G5JhP_puZ",
        "outputId": "cdbac858-cbab-43ec-97cb-00f1c4e50372"
      },
      "outputs": [
        {
          "name": "stdout",
          "output_type": "stream",
          "text": [
            "orders memiliki kolom 'order_id'\n",
            "items memiliki kolom 'order_id'\n",
            "\n",
            "payments memiliki kolom 'order_id'\n",
            "reviews memiliki kolom 'order_id'\n",
            "\n",
            "\n",
            "\n",
            "\n"
          ]
        }
      ],
      "source": [
        "# Memeriksa apakah setiap DataFrame memiliki kolom 'order_id'\n",
        "for name, df in data.items():\n",
        "    if 'order_id' in df.columns:\n",
        "        print(f\"{name} memiliki kolom 'order_id'\")\n",
        "    else:\n",
        "        print(\"\")"
      ]
    },
    {
      "cell_type": "code",
      "execution_count": 51,
      "metadata": {
        "colab": {
          "base_uri": "https://localhost:8080/",
          "height": 167
        },
        "id": "uIX9Ufc7_SnX",
        "outputId": "3e767e22-aeff-48ab-db35-8f035ab7004b"
      },
      "outputs": [
        {
          "data": {
            "text/html": [
              "<div>\n",
              "<style scoped>\n",
              "    .dataframe tbody tr th:only-of-type {\n",
              "        vertical-align: middle;\n",
              "    }\n",
              "\n",
              "    .dataframe tbody tr th {\n",
              "        vertical-align: top;\n",
              "    }\n",
              "\n",
              "    .dataframe thead th {\n",
              "        text-align: right;\n",
              "    }\n",
              "</style>\n",
              "<table border=\"1\" class=\"dataframe\">\n",
              "  <thead>\n",
              "    <tr style=\"text-align: right;\">\n",
              "      <th></th>\n",
              "      <th>customer_id</th>\n",
              "      <th>customer_unique_id</th>\n",
              "      <th>customer_zip_code_prefix</th>\n",
              "      <th>customer_city</th>\n",
              "      <th>customer_state</th>\n",
              "      <th>order_id</th>\n",
              "      <th>order_status</th>\n",
              "      <th>order_purchase_timestamp</th>\n",
              "      <th>order_approved_at</th>\n",
              "      <th>order_delivered_carrier_date</th>\n",
              "      <th>order_delivered_customer_date</th>\n",
              "      <th>order_estimated_delivery_date</th>\n",
              "      <th>delivered_on_time</th>\n",
              "      <th>delivery_time</th>\n",
              "      <th>review_id</th>\n",
              "      <th>review_score</th>\n",
              "      <th>review_comment_message</th>\n",
              "      <th>review_creation_date</th>\n",
              "      <th>review_answer_timestamp</th>\n",
              "    </tr>\n",
              "  </thead>\n",
              "  <tbody>\n",
              "    <tr>\n",
              "      <th>98777</th>\n",
              "      <td>f9e3d57a81a5390d5c19d3d6796ab7f1</td>\n",
              "      <td>a5854c79718864cb7023094de2c0f8f8</td>\n",
              "      <td>22630</td>\n",
              "      <td>rio de janeiro</td>\n",
              "      <td>RJ</td>\n",
              "      <td>987f3d9ad096993454ef3c2c4d9f7a68</td>\n",
              "      <td>delivered</td>\n",
              "      <td>2017-06-18 23:14:38</td>\n",
              "      <td>2017-06-18 23:30:12</td>\n",
              "      <td>2017-06-30 09:51:26</td>\n",
              "      <td>2017-07-07 20:07:40</td>\n",
              "      <td>2017-07-11 00:00:00</td>\n",
              "      <td>On Time</td>\n",
              "      <td>7.0</td>\n",
              "      <td>dc5f9d1bb234554a1a66a3b64a4e99ec</td>\n",
              "      <td>3.0</td>\n",
              "      <td>1.0</td>\n",
              "      <td>2017-07-08 00:00:00</td>\n",
              "      <td>2017-07-12 01:31:33</td>\n",
              "    </tr>\n",
              "    <tr>\n",
              "      <th>89647</th>\n",
              "      <td>d2fdd1d3725bccaa0900e360a985398f</td>\n",
              "      <td>d130666a33d3681209c5c752fe56ee10</td>\n",
              "      <td>80620</td>\n",
              "      <td>curitiba</td>\n",
              "      <td>PR</td>\n",
              "      <td>NaN</td>\n",
              "      <td>NaN</td>\n",
              "      <td>NaN</td>\n",
              "      <td>NaN</td>\n",
              "      <td>NaT</td>\n",
              "      <td>NaT</td>\n",
              "      <td>NaN</td>\n",
              "      <td>NaN</td>\n",
              "      <td>NaN</td>\n",
              "      <td>NaN</td>\n",
              "      <td>NaN</td>\n",
              "      <td>NaN</td>\n",
              "      <td>NaN</td>\n",
              "      <td>NaN</td>\n",
              "    </tr>\n",
              "  </tbody>\n",
              "</table>\n",
              "</div>"
            ],
            "text/plain": [
              "                            customer_id                customer_unique_id  \\\n",
              "98777  f9e3d57a81a5390d5c19d3d6796ab7f1  a5854c79718864cb7023094de2c0f8f8   \n",
              "89647  d2fdd1d3725bccaa0900e360a985398f  d130666a33d3681209c5c752fe56ee10   \n",
              "\n",
              "       customer_zip_code_prefix   customer_city customer_state  \\\n",
              "98777                     22630  rio de janeiro             RJ   \n",
              "89647                     80620        curitiba             PR   \n",
              "\n",
              "                               order_id order_status order_purchase_timestamp  \\\n",
              "98777  987f3d9ad096993454ef3c2c4d9f7a68    delivered      2017-06-18 23:14:38   \n",
              "89647                               NaN          NaN                      NaN   \n",
              "\n",
              "         order_approved_at order_delivered_carrier_date  \\\n",
              "98777  2017-06-18 23:30:12          2017-06-30 09:51:26   \n",
              "89647                  NaN                          NaT   \n",
              "\n",
              "      order_delivered_customer_date order_estimated_delivery_date  \\\n",
              "98777           2017-07-07 20:07:40           2017-07-11 00:00:00   \n",
              "89647                           NaT                           NaN   \n",
              "\n",
              "      delivered_on_time  delivery_time                         review_id  \\\n",
              "98777           On Time            7.0  dc5f9d1bb234554a1a66a3b64a4e99ec   \n",
              "89647               NaN            NaN                               NaN   \n",
              "\n",
              "       review_score  review_comment_message review_creation_date  \\\n",
              "98777           3.0                     1.0  2017-07-08 00:00:00   \n",
              "89647           NaN                     NaN                  NaN   \n",
              "\n",
              "      review_answer_timestamp  \n",
              "98777     2017-07-12 01:31:33  \n",
              "89647                     NaN  "
            ]
          },
          "execution_count": 51,
          "metadata": {},
          "output_type": "execute_result"
        }
      ],
      "source": [
        "customer_reviews =pd.merge(\n",
        "    left=customers_df,\n",
        "    right=reviews,\n",
        "    how='left',\n",
        "    left_on='order_id',\n",
        "    right_on='order_id'\n",
        ")\n",
        "customer_reviews.sample(2)"
      ]
    },
    {
      "cell_type": "markdown",
      "metadata": {
        "id": "VMPySKCuv00G"
      },
      "source": [
        "### Explore Payments"
      ]
    },
    {
      "cell_type": "code",
      "execution_count": 52,
      "metadata": {
        "colab": {
          "base_uri": "https://localhost:8080/",
          "height": 241
        },
        "id": "jbx2dL1yv_WX",
        "outputId": "def28e8b-4a57-4cc4-834d-0ebbdde06a11"
      },
      "outputs": [
        {
          "data": {
            "text/plain": [
              "payment_type\n",
              "credit_card    74297\n",
              "boleto         19191\n",
              "voucher         3679\n",
              "debit_card      1484\n",
              "Name: order_id, dtype: int64"
            ]
          },
          "execution_count": 52,
          "metadata": {},
          "output_type": "execute_result"
        }
      ],
      "source": [
        "data['payments'].groupby(by=\"payment_type\").order_id.nunique().sort_values(ascending=False)"
      ]
    },
    {
      "cell_type": "markdown",
      "metadata": {
        "id": "7D4EaU5FwDR-"
      },
      "source": [
        "### Explore Items"
      ]
    },
    {
      "cell_type": "code",
      "execution_count": 53,
      "metadata": {
        "colab": {
          "base_uri": "https://localhost:8080/"
        },
        "id": "zxhXdSyGx8Dz",
        "outputId": "3141c92d-5cba-4bbf-813f-937bdd5cd417"
      },
      "outputs": [
        {
          "name": "stdout",
          "output_type": "stream",
          "text": [
            "\n",
            "items memiliki kolom 'seller_id'\n",
            "\n",
            "\n",
            "\n",
            "\n",
            "sellers memiliki kolom 'seller_id'\n",
            "\n",
            "\n"
          ]
        }
      ],
      "source": [
        "# Memeriksa apakah setiap DataFrame memiliki kolom 'seller_id'\n",
        "for name, df in data.items():\n",
        "    if 'seller_id' in df.columns:\n",
        "        print(f\"{name} memiliki kolom 'seller_id'\")\n",
        "    else:\n",
        "        print(\"\")"
      ]
    },
    {
      "cell_type": "code",
      "execution_count": 54,
      "metadata": {
        "colab": {
          "base_uri": "https://localhost:8080/",
          "height": 206
        },
        "id": "YJpN-hJLx_RK",
        "outputId": "7e361251-b9d7-4718-df00-ed06c98e6261"
      },
      "outputs": [
        {
          "data": {
            "text/html": [
              "<div>\n",
              "<style scoped>\n",
              "    .dataframe tbody tr th:only-of-type {\n",
              "        vertical-align: middle;\n",
              "    }\n",
              "\n",
              "    .dataframe tbody tr th {\n",
              "        vertical-align: top;\n",
              "    }\n",
              "\n",
              "    .dataframe thead th {\n",
              "        text-align: right;\n",
              "    }\n",
              "</style>\n",
              "<table border=\"1\" class=\"dataframe\">\n",
              "  <thead>\n",
              "    <tr style=\"text-align: right;\">\n",
              "      <th></th>\n",
              "      <th>seller_id</th>\n",
              "      <th>seller_zip_code_prefix</th>\n",
              "      <th>seller_city</th>\n",
              "      <th>seller_state</th>\n",
              "    </tr>\n",
              "  </thead>\n",
              "  <tbody>\n",
              "    <tr>\n",
              "      <th>928</th>\n",
              "      <td>b452cb0ae35044c4a53179c39f49fb06</td>\n",
              "      <td>18047</td>\n",
              "      <td>sorocaba</td>\n",
              "      <td>SP</td>\n",
              "    </tr>\n",
              "    <tr>\n",
              "      <th>985</th>\n",
              "      <td>59b22a78efb79a4797979612b885db36</td>\n",
              "      <td>38414</td>\n",
              "      <td>uberlandia</td>\n",
              "      <td>MG</td>\n",
              "    </tr>\n",
              "    <tr>\n",
              "      <th>507</th>\n",
              "      <td>f45122a9ab94eb4f3f8953578bc0c560</td>\n",
              "      <td>13419</td>\n",
              "      <td>piracicaba</td>\n",
              "      <td>SP</td>\n",
              "    </tr>\n",
              "    <tr>\n",
              "      <th>589</th>\n",
              "      <td>93b9a99027bd8bd6af682aff18dd19bf</td>\n",
              "      <td>7600</td>\n",
              "      <td>mairipora</td>\n",
              "      <td>SP</td>\n",
              "    </tr>\n",
              "    <tr>\n",
              "      <th>2190</th>\n",
              "      <td>c8025364abeecb115431bf95c11a747f</td>\n",
              "      <td>90630</td>\n",
              "      <td>porto alegre</td>\n",
              "      <td>RS</td>\n",
              "    </tr>\n",
              "  </tbody>\n",
              "</table>\n",
              "</div>"
            ],
            "text/plain": [
              "                             seller_id  seller_zip_code_prefix   seller_city  \\\n",
              "928   b452cb0ae35044c4a53179c39f49fb06                   18047      sorocaba   \n",
              "985   59b22a78efb79a4797979612b885db36                   38414    uberlandia   \n",
              "507   f45122a9ab94eb4f3f8953578bc0c560                   13419    piracicaba   \n",
              "589   93b9a99027bd8bd6af682aff18dd19bf                    7600     mairipora   \n",
              "2190  c8025364abeecb115431bf95c11a747f                   90630  porto alegre   \n",
              "\n",
              "     seller_state  \n",
              "928            SP  \n",
              "985            MG  \n",
              "507            SP  \n",
              "589            SP  \n",
              "2190           RS  "
            ]
          },
          "execution_count": 54,
          "metadata": {},
          "output_type": "execute_result"
        }
      ],
      "source": [
        "sellers.sample(5)"
      ]
    },
    {
      "cell_type": "code",
      "execution_count": 55,
      "metadata": {
        "colab": {
          "base_uri": "https://localhost:8080/",
          "height": 206
        },
        "id": "v7emLiqbyEWq",
        "outputId": "e0098d87-0d74-4ac2-e451-50222033e1ef"
      },
      "outputs": [
        {
          "data": {
            "text/html": [
              "<div>\n",
              "<style scoped>\n",
              "    .dataframe tbody tr th:only-of-type {\n",
              "        vertical-align: middle;\n",
              "    }\n",
              "\n",
              "    .dataframe tbody tr th {\n",
              "        vertical-align: top;\n",
              "    }\n",
              "\n",
              "    .dataframe thead th {\n",
              "        text-align: right;\n",
              "    }\n",
              "</style>\n",
              "<table border=\"1\" class=\"dataframe\">\n",
              "  <thead>\n",
              "    <tr style=\"text-align: right;\">\n",
              "      <th></th>\n",
              "      <th>order_id</th>\n",
              "      <th>order_item_id</th>\n",
              "      <th>product_id</th>\n",
              "      <th>seller_id</th>\n",
              "      <th>shipping_limit_date</th>\n",
              "      <th>price</th>\n",
              "      <th>freight_value</th>\n",
              "    </tr>\n",
              "  </thead>\n",
              "  <tbody>\n",
              "    <tr>\n",
              "      <th>650</th>\n",
              "      <td>0180ebc47853bfc5997af28f5a7e8849</td>\n",
              "      <td>1</td>\n",
              "      <td>861857117917aaa99611defcc0d514cd</td>\n",
              "      <td>e9779976487b77c6d4ac45f75ec7afe9</td>\n",
              "      <td>2017-03-22 16:29:32</td>\n",
              "      <td>162.00</td>\n",
              "      <td>11.74</td>\n",
              "    </tr>\n",
              "    <tr>\n",
              "      <th>1128</th>\n",
              "      <td>029f7a5aabaadfcdfe8c0eddb59a1069</td>\n",
              "      <td>2</td>\n",
              "      <td>0a4093a4af429dc0a9334300e5c13ae5</td>\n",
              "      <td>da8622b14eb17ae2831f4ac5b9dab84a</td>\n",
              "      <td>2018-03-09 16:29:19</td>\n",
              "      <td>29.90</td>\n",
              "      <td>8.27</td>\n",
              "    </tr>\n",
              "    <tr>\n",
              "      <th>55286</th>\n",
              "      <td>7db5f2eb8f5f54db9f9e71ba4296bcbf</td>\n",
              "      <td>1</td>\n",
              "      <td>2a2d22ae30e026f1893083c8405ca522</td>\n",
              "      <td>1a3df491d1c4f1589fc2b934ada68bf2</td>\n",
              "      <td>2017-06-07 11:10:16</td>\n",
              "      <td>134.90</td>\n",
              "      <td>29.34</td>\n",
              "    </tr>\n",
              "    <tr>\n",
              "      <th>98008</th>\n",
              "      <td>de52e5e01af9c33b04806dea37fb50d7</td>\n",
              "      <td>1</td>\n",
              "      <td>90d44d8f3025c0bcf8ef83de3fe8011e</td>\n",
              "      <td>903037660cf848a717166eb7a06d616e</td>\n",
              "      <td>2018-07-30 16:24:19</td>\n",
              "      <td>49.99</td>\n",
              "      <td>16.54</td>\n",
              "    </tr>\n",
              "    <tr>\n",
              "      <th>107695</th>\n",
              "      <td>f4b2e1f6d7efad219764d0da00936947</td>\n",
              "      <td>1</td>\n",
              "      <td>7c55ea4aea1acf1ce11440010f5aa298</td>\n",
              "      <td>955fee9216a65b617aa5c0531780ce60</td>\n",
              "      <td>2018-05-22 11:21:57</td>\n",
              "      <td>399.00</td>\n",
              "      <td>71.09</td>\n",
              "    </tr>\n",
              "  </tbody>\n",
              "</table>\n",
              "</div>"
            ],
            "text/plain": [
              "                                order_id  order_item_id  \\\n",
              "650     0180ebc47853bfc5997af28f5a7e8849              1   \n",
              "1128    029f7a5aabaadfcdfe8c0eddb59a1069              2   \n",
              "55286   7db5f2eb8f5f54db9f9e71ba4296bcbf              1   \n",
              "98008   de52e5e01af9c33b04806dea37fb50d7              1   \n",
              "107695  f4b2e1f6d7efad219764d0da00936947              1   \n",
              "\n",
              "                              product_id                         seller_id  \\\n",
              "650     861857117917aaa99611defcc0d514cd  e9779976487b77c6d4ac45f75ec7afe9   \n",
              "1128    0a4093a4af429dc0a9334300e5c13ae5  da8622b14eb17ae2831f4ac5b9dab84a   \n",
              "55286   2a2d22ae30e026f1893083c8405ca522  1a3df491d1c4f1589fc2b934ada68bf2   \n",
              "98008   90d44d8f3025c0bcf8ef83de3fe8011e  903037660cf848a717166eb7a06d616e   \n",
              "107695  7c55ea4aea1acf1ce11440010f5aa298  955fee9216a65b617aa5c0531780ce60   \n",
              "\n",
              "        shipping_limit_date   price  freight_value  \n",
              "650     2017-03-22 16:29:32  162.00          11.74  \n",
              "1128    2018-03-09 16:29:19   29.90           8.27  \n",
              "55286   2017-06-07 11:10:16  134.90          29.34  \n",
              "98008   2018-07-30 16:24:19   49.99          16.54  \n",
              "107695  2018-05-22 11:21:57  399.00          71.09  "
            ]
          },
          "execution_count": 55,
          "metadata": {},
          "output_type": "execute_result"
        }
      ],
      "source": [
        "items.sample(5)"
      ]
    },
    {
      "cell_type": "code",
      "execution_count": 56,
      "metadata": {
        "colab": {
          "base_uri": "https://localhost:8080/",
          "height": 261
        },
        "id": "RXIHYm57wSJC",
        "outputId": "cf4b87aa-fe34-4254-d026-d08c3136c4f8"
      },
      "outputs": [
        {
          "data": {
            "text/html": [
              "<div>\n",
              "<style scoped>\n",
              "    .dataframe tbody tr th:only-of-type {\n",
              "        vertical-align: middle;\n",
              "    }\n",
              "\n",
              "    .dataframe tbody tr th {\n",
              "        vertical-align: top;\n",
              "    }\n",
              "\n",
              "    .dataframe thead th {\n",
              "        text-align: right;\n",
              "    }\n",
              "</style>\n",
              "<table border=\"1\" class=\"dataframe\">\n",
              "  <thead>\n",
              "    <tr style=\"text-align: right;\">\n",
              "      <th></th>\n",
              "      <th>order_id</th>\n",
              "      <th>order_item_id</th>\n",
              "      <th>product_id</th>\n",
              "      <th>seller_id</th>\n",
              "      <th>shipping_limit_date</th>\n",
              "      <th>price</th>\n",
              "      <th>freight_value</th>\n",
              "      <th>seller_zip_code_prefix</th>\n",
              "      <th>seller_city</th>\n",
              "      <th>seller_state</th>\n",
              "    </tr>\n",
              "  </thead>\n",
              "  <tbody>\n",
              "    <tr>\n",
              "      <th>0</th>\n",
              "      <td>00010242fe8c5a6d1ba2dd792cb16214</td>\n",
              "      <td>1</td>\n",
              "      <td>4244733e06e7ecb4970a6e2683c13e61</td>\n",
              "      <td>48436dade18ac8b2bce089ec2a041202</td>\n",
              "      <td>2017-09-19 09:45:35</td>\n",
              "      <td>58.90</td>\n",
              "      <td>13.29</td>\n",
              "      <td>27277</td>\n",
              "      <td>volta redonda</td>\n",
              "      <td>SP</td>\n",
              "    </tr>\n",
              "    <tr>\n",
              "      <th>1</th>\n",
              "      <td>00018f77f2f0320c557190d7a144bdd3</td>\n",
              "      <td>1</td>\n",
              "      <td>e5f2d52b802189ee658865ca93d83a8f</td>\n",
              "      <td>dd7ddc04e1b6c2c614352b383efe2d36</td>\n",
              "      <td>2017-05-03 11:05:13</td>\n",
              "      <td>239.90</td>\n",
              "      <td>19.93</td>\n",
              "      <td>3471</td>\n",
              "      <td>sao paulo</td>\n",
              "      <td>SP</td>\n",
              "    </tr>\n",
              "    <tr>\n",
              "      <th>2</th>\n",
              "      <td>000229ec398224ef6ca0657da4fc703e</td>\n",
              "      <td>1</td>\n",
              "      <td>c777355d18b72b67abbeef9df44fd0fd</td>\n",
              "      <td>5b51032eddd242adc84c38acab88f23d</td>\n",
              "      <td>2018-01-18 14:48:30</td>\n",
              "      <td>199.00</td>\n",
              "      <td>17.87</td>\n",
              "      <td>37564</td>\n",
              "      <td>borda da mata</td>\n",
              "      <td>MG</td>\n",
              "    </tr>\n",
              "    <tr>\n",
              "      <th>3</th>\n",
              "      <td>00024acbcdf0a6daa1e931b038114c75</td>\n",
              "      <td>1</td>\n",
              "      <td>7634da152a4610f1595efa32f14722fc</td>\n",
              "      <td>9d7a1d34a5052409006425275ba1c2b4</td>\n",
              "      <td>2018-08-15 10:10:18</td>\n",
              "      <td>12.99</td>\n",
              "      <td>12.79</td>\n",
              "      <td>14403</td>\n",
              "      <td>franca</td>\n",
              "      <td>SP</td>\n",
              "    </tr>\n",
              "    <tr>\n",
              "      <th>4</th>\n",
              "      <td>00042b26cf59d7ce69dfabb4e55b4fd9</td>\n",
              "      <td>1</td>\n",
              "      <td>ac6c3623068f30de03045865e4e10089</td>\n",
              "      <td>df560393f3a51e74553ab94004ba5c87</td>\n",
              "      <td>2017-02-13 13:57:51</td>\n",
              "      <td>199.90</td>\n",
              "      <td>18.14</td>\n",
              "      <td>87900</td>\n",
              "      <td>loanda</td>\n",
              "      <td>PR</td>\n",
              "    </tr>\n",
              "  </tbody>\n",
              "</table>\n",
              "</div>"
            ],
            "text/plain": [
              "                           order_id  order_item_id  \\\n",
              "0  00010242fe8c5a6d1ba2dd792cb16214              1   \n",
              "1  00018f77f2f0320c557190d7a144bdd3              1   \n",
              "2  000229ec398224ef6ca0657da4fc703e              1   \n",
              "3  00024acbcdf0a6daa1e931b038114c75              1   \n",
              "4  00042b26cf59d7ce69dfabb4e55b4fd9              1   \n",
              "\n",
              "                         product_id                         seller_id  \\\n",
              "0  4244733e06e7ecb4970a6e2683c13e61  48436dade18ac8b2bce089ec2a041202   \n",
              "1  e5f2d52b802189ee658865ca93d83a8f  dd7ddc04e1b6c2c614352b383efe2d36   \n",
              "2  c777355d18b72b67abbeef9df44fd0fd  5b51032eddd242adc84c38acab88f23d   \n",
              "3  7634da152a4610f1595efa32f14722fc  9d7a1d34a5052409006425275ba1c2b4   \n",
              "4  ac6c3623068f30de03045865e4e10089  df560393f3a51e74553ab94004ba5c87   \n",
              "\n",
              "   shipping_limit_date   price  freight_value  seller_zip_code_prefix  \\\n",
              "0  2017-09-19 09:45:35   58.90          13.29                   27277   \n",
              "1  2017-05-03 11:05:13  239.90          19.93                    3471   \n",
              "2  2018-01-18 14:48:30  199.00          17.87                   37564   \n",
              "3  2018-08-15 10:10:18   12.99          12.79                   14403   \n",
              "4  2017-02-13 13:57:51  199.90          18.14                   87900   \n",
              "\n",
              "     seller_city seller_state  \n",
              "0  volta redonda           SP  \n",
              "1      sao paulo           SP  \n",
              "2  borda da mata           MG  \n",
              "3         franca           SP  \n",
              "4         loanda           PR  "
            ]
          },
          "execution_count": 56,
          "metadata": {},
          "output_type": "execute_result"
        }
      ],
      "source": [
        "item_seller_df = pd.merge(\n",
        "    left=data['items'],\n",
        "    right=data['sellers'],\n",
        "    how=\"left\",\n",
        "    left_on=\"seller_id\",\n",
        "    right_on=\"seller_id\"\n",
        ")\n",
        "item_seller_df.head()"
      ]
    },
    {
      "cell_type": "code",
      "execution_count": 57,
      "metadata": {
        "colab": {
          "base_uri": "https://localhost:8080/"
        },
        "id": "27s2mrUVzAFr",
        "outputId": "89a92aba-a015-42ac-a42c-767f4e6f8a8f"
      },
      "outputs": [
        {
          "name": "stdout",
          "output_type": "stream",
          "text": [
            "   seller_state  Ongkir Price Total Count\n",
            "0            AM                   1177.00\n",
            "1            BA                 277925.51\n",
            "2            CE                  19517.84\n",
            "3            DF                  94840.31\n",
            "4            ES                  46941.64\n",
            "5            GO                  64806.59\n",
            "6            MA                  36097.98\n",
            "7            MG                 977588.31\n",
            "8            MS                   8551.69\n",
            "9            MT                  17007.82\n",
            "10           PA                   1238.00\n",
            "11           PB                  16395.50\n",
            "12           PE                  91164.15\n",
            "13           PI                   2383.00\n",
            "14           PR                1232096.99\n",
            "15           RJ                 820611.59\n",
            "16           RN                   9992.60\n",
            "17           RO                   4762.20\n",
            "18           RS                 373412.08\n",
            "19           SC                 613591.65\n",
            "20           SE                   1606.20\n",
            "21           SP                8508540.28\n"
          ]
        }
      ],
      "source": [
        "# mau liat dari seller_state total harga ongkirnya berapa\n",
        "ongkir_price_counts = item_seller_df.groupby('seller_state')['price'].sum().reset_index(name='Ongkir Price Total Count')\n",
        "print (ongkir_price_counts)"
      ]
    },
    {
      "cell_type": "markdown",
      "metadata": {
        "id": "oeKUkJF_y9IW"
      },
      "source": [
        "### Explore sellers"
      ]
    },
    {
      "cell_type": "code",
      "execution_count": 58,
      "metadata": {
        "colab": {
          "base_uri": "https://localhost:8080/",
          "height": 206
        },
        "id": "CQptL1mA0Auu",
        "outputId": "d8cb5bcc-d301-4c11-ebf8-a7519bf5c439"
      },
      "outputs": [
        {
          "data": {
            "text/html": [
              "<div>\n",
              "<style scoped>\n",
              "    .dataframe tbody tr th:only-of-type {\n",
              "        vertical-align: middle;\n",
              "    }\n",
              "\n",
              "    .dataframe tbody tr th {\n",
              "        vertical-align: top;\n",
              "    }\n",
              "\n",
              "    .dataframe thead th {\n",
              "        text-align: right;\n",
              "    }\n",
              "</style>\n",
              "<table border=\"1\" class=\"dataframe\">\n",
              "  <thead>\n",
              "    <tr style=\"text-align: right;\">\n",
              "      <th></th>\n",
              "      <th>seller_id</th>\n",
              "      <th>seller_zip_code_prefix</th>\n",
              "      <th>seller_city</th>\n",
              "      <th>seller_state</th>\n",
              "    </tr>\n",
              "  </thead>\n",
              "  <tbody>\n",
              "    <tr>\n",
              "      <th>1171</th>\n",
              "      <td>dbd66278cbfe1aa1000f90a217ca4695</td>\n",
              "      <td>5588</td>\n",
              "      <td>sao paulo</td>\n",
              "      <td>SP</td>\n",
              "    </tr>\n",
              "    <tr>\n",
              "      <th>2859</th>\n",
              "      <td>5b33b527da3c5b969cc99dc435cad09a</td>\n",
              "      <td>87702</td>\n",
              "      <td>paranavai</td>\n",
              "      <td>PR</td>\n",
              "    </tr>\n",
              "    <tr>\n",
              "      <th>841</th>\n",
              "      <td>94165aea8a35c3c21499cbcae239b16c</td>\n",
              "      <td>38412</td>\n",
              "      <td>uberlandia</td>\n",
              "      <td>MG</td>\n",
              "    </tr>\n",
              "    <tr>\n",
              "      <th>2607</th>\n",
              "      <td>b586cd24c010a13916af621b0325fbba</td>\n",
              "      <td>89164</td>\n",
              "      <td>rio do sul</td>\n",
              "      <td>SC</td>\n",
              "    </tr>\n",
              "    <tr>\n",
              "      <th>1557</th>\n",
              "      <td>75fbb52eda0cbc24f479d3b2fbfa8d3e</td>\n",
              "      <td>74560</td>\n",
              "      <td>goiania</td>\n",
              "      <td>GO</td>\n",
              "    </tr>\n",
              "  </tbody>\n",
              "</table>\n",
              "</div>"
            ],
            "text/plain": [
              "                             seller_id  seller_zip_code_prefix seller_city  \\\n",
              "1171  dbd66278cbfe1aa1000f90a217ca4695                    5588   sao paulo   \n",
              "2859  5b33b527da3c5b969cc99dc435cad09a                   87702   paranavai   \n",
              "841   94165aea8a35c3c21499cbcae239b16c                   38412  uberlandia   \n",
              "2607  b586cd24c010a13916af621b0325fbba                   89164  rio do sul   \n",
              "1557  75fbb52eda0cbc24f479d3b2fbfa8d3e                   74560     goiania   \n",
              "\n",
              "     seller_state  \n",
              "1171           SP  \n",
              "2859           PR  \n",
              "841            MG  \n",
              "2607           SC  \n",
              "1557           GO  "
            ]
          },
          "execution_count": 58,
          "metadata": {},
          "output_type": "execute_result"
        }
      ],
      "source": [
        "sellers.sample(5)"
      ]
    },
    {
      "cell_type": "code",
      "execution_count": 59,
      "metadata": {
        "colab": {
          "base_uri": "https://localhost:8080/",
          "height": 429
        },
        "id": "o4EgaUhVyOZ5",
        "outputId": "4ab2b6aa-81c3-411e-a007-957ca228f05e"
      },
      "outputs": [
        {
          "data": {
            "text/plain": [
              "seller_city\n",
              "sao paulo         694\n",
              "curitiba          127\n",
              "rio de janeiro     96\n",
              "belo horizonte     68\n",
              "ribeirao preto     52\n",
              "guarulhos          50\n",
              "ibitinga           49\n",
              "santo andre        45\n",
              "campinas           41\n",
              "maringa            40\n",
              "Name: seller_id, dtype: int64"
            ]
          },
          "execution_count": 59,
          "metadata": {},
          "output_type": "execute_result"
        }
      ],
      "source": [
        "#total penjualan di kota tempat asal si penjual\n",
        "sellers.groupby(by=\"seller_city\").seller_id.nunique().sort_values(ascending=False).head(10)"
      ]
    },
    {
      "cell_type": "markdown",
      "metadata": {
        "id": "Snftn6Sl0Yr6"
      },
      "source": [
        "### Explore Products and Category"
      ]
    },
    {
      "cell_type": "code",
      "execution_count": 60,
      "metadata": {
        "colab": {
          "base_uri": "https://localhost:8080/",
          "height": 206
        },
        "id": "kyCuFTL20hph",
        "outputId": "0cc678ba-3b44-4c61-bd2e-0152333d8546"
      },
      "outputs": [
        {
          "data": {
            "text/html": [
              "<div>\n",
              "<style scoped>\n",
              "    .dataframe tbody tr th:only-of-type {\n",
              "        vertical-align: middle;\n",
              "    }\n",
              "\n",
              "    .dataframe tbody tr th {\n",
              "        vertical-align: top;\n",
              "    }\n",
              "\n",
              "    .dataframe thead th {\n",
              "        text-align: right;\n",
              "    }\n",
              "</style>\n",
              "<table border=\"1\" class=\"dataframe\">\n",
              "  <thead>\n",
              "    <tr style=\"text-align: right;\">\n",
              "      <th></th>\n",
              "      <th>product_id</th>\n",
              "      <th>product_category_name</th>\n",
              "      <th>product_photos_qty</th>\n",
              "    </tr>\n",
              "  </thead>\n",
              "  <tbody>\n",
              "    <tr>\n",
              "      <th>16311</th>\n",
              "      <td>926d11f0e2a1171fed968faf5caa8f92</td>\n",
              "      <td>ferramentas_jardim</td>\n",
              "      <td>1.0</td>\n",
              "    </tr>\n",
              "    <tr>\n",
              "      <th>7950</th>\n",
              "      <td>f89594c3583443e5e0d464e97284835d</td>\n",
              "      <td>cool_stuff</td>\n",
              "      <td>2.0</td>\n",
              "    </tr>\n",
              "    <tr>\n",
              "      <th>4171</th>\n",
              "      <td>058453fe8a9473eceee27349de3b38ac</td>\n",
              "      <td>relogios_presentes</td>\n",
              "      <td>3.0</td>\n",
              "    </tr>\n",
              "    <tr>\n",
              "      <th>24944</th>\n",
              "      <td>cd494d8236315646d34e31b09c5f86a4</td>\n",
              "      <td>beleza_saude</td>\n",
              "      <td>3.0</td>\n",
              "    </tr>\n",
              "    <tr>\n",
              "      <th>4211</th>\n",
              "      <td>3a4dfe5f744b6f8727a27241cf1d97bc</td>\n",
              "      <td>alimentos</td>\n",
              "      <td>1.0</td>\n",
              "    </tr>\n",
              "  </tbody>\n",
              "</table>\n",
              "</div>"
            ],
            "text/plain": [
              "                             product_id product_category_name  \\\n",
              "16311  926d11f0e2a1171fed968faf5caa8f92    ferramentas_jardim   \n",
              "7950   f89594c3583443e5e0d464e97284835d            cool_stuff   \n",
              "4171   058453fe8a9473eceee27349de3b38ac    relogios_presentes   \n",
              "24944  cd494d8236315646d34e31b09c5f86a4          beleza_saude   \n",
              "4211   3a4dfe5f744b6f8727a27241cf1d97bc             alimentos   \n",
              "\n",
              "       product_photos_qty  \n",
              "16311                 1.0  \n",
              "7950                  2.0  \n",
              "4171                  3.0  \n",
              "24944                 3.0  \n",
              "4211                  1.0  "
            ]
          },
          "execution_count": 60,
          "metadata": {},
          "output_type": "execute_result"
        }
      ],
      "source": [
        "products.sample(5)"
      ]
    },
    {
      "cell_type": "code",
      "execution_count": 61,
      "metadata": {
        "colab": {
          "base_uri": "https://localhost:8080/",
          "height": 206
        },
        "id": "xetSnUKo0jlC",
        "outputId": "c5f42850-d920-4c27-a2ff-386615d3a487"
      },
      "outputs": [
        {
          "data": {
            "text/html": [
              "<div>\n",
              "<style scoped>\n",
              "    .dataframe tbody tr th:only-of-type {\n",
              "        vertical-align: middle;\n",
              "    }\n",
              "\n",
              "    .dataframe tbody tr th {\n",
              "        vertical-align: top;\n",
              "    }\n",
              "\n",
              "    .dataframe thead th {\n",
              "        text-align: right;\n",
              "    }\n",
              "</style>\n",
              "<table border=\"1\" class=\"dataframe\">\n",
              "  <thead>\n",
              "    <tr style=\"text-align: right;\">\n",
              "      <th></th>\n",
              "      <th>product_category_name</th>\n",
              "      <th>product_category_name_english</th>\n",
              "    </tr>\n",
              "  </thead>\n",
              "  <tbody>\n",
              "    <tr>\n",
              "      <th>58</th>\n",
              "      <td>bebidas</td>\n",
              "      <td>drinks</td>\n",
              "    </tr>\n",
              "    <tr>\n",
              "      <th>65</th>\n",
              "      <td>dvds_blu_ray</td>\n",
              "      <td>dvds_blu_ray</td>\n",
              "    </tr>\n",
              "    <tr>\n",
              "      <th>18</th>\n",
              "      <td>eletroportateis</td>\n",
              "      <td>small_appliances</td>\n",
              "    </tr>\n",
              "    <tr>\n",
              "      <th>56</th>\n",
              "      <td>eletrodomesticos_2</td>\n",
              "      <td>home_appliances_2</td>\n",
              "    </tr>\n",
              "    <tr>\n",
              "      <th>62</th>\n",
              "      <td>casa_conforto_2</td>\n",
              "      <td>home_comfort_2</td>\n",
              "    </tr>\n",
              "  </tbody>\n",
              "</table>\n",
              "</div>"
            ],
            "text/plain": [
              "   product_category_name product_category_name_english\n",
              "58               bebidas                        drinks\n",
              "65          dvds_blu_ray                  dvds_blu_ray\n",
              "18       eletroportateis              small_appliances\n",
              "56    eletrodomesticos_2             home_appliances_2\n",
              "62       casa_conforto_2                home_comfort_2"
            ]
          },
          "execution_count": 61,
          "metadata": {},
          "output_type": "execute_result"
        }
      ],
      "source": [
        "category.sample(5)"
      ]
    },
    {
      "cell_type": "code",
      "execution_count": 62,
      "metadata": {
        "colab": {
          "base_uri": "https://localhost:8080/"
        },
        "id": "jgrt2r_w0R5y",
        "outputId": "0cc6c3f9-43b3-4209-808b-60382bbc3aad"
      },
      "outputs": [
        {
          "name": "stdout",
          "output_type": "stream",
          "text": [
            "\n",
            "\n",
            "products memiliki kolom 'product_category_name'\n",
            "\n",
            "\n",
            "\n",
            "\n",
            "\n",
            "category memiliki kolom 'product_category_name'\n"
          ]
        }
      ],
      "source": [
        "# Memeriksa apakah setiap DataFrame memiliki kolom 'product_category_name'\n",
        "for name, df in data.items():\n",
        "    if 'product_category_name' in df.columns:\n",
        "        print(f\"{name} memiliki kolom 'product_category_name'\")\n",
        "    else:\n",
        "        print(\"\")"
      ]
    },
    {
      "cell_type": "code",
      "execution_count": 63,
      "metadata": {
        "colab": {
          "base_uri": "https://localhost:8080/",
          "height": 206
        },
        "id": "mQIV-NMz03JS",
        "outputId": "10189de5-2152-4f29-cd10-ddf326036eac"
      },
      "outputs": [
        {
          "data": {
            "text/html": [
              "<div>\n",
              "<style scoped>\n",
              "    .dataframe tbody tr th:only-of-type {\n",
              "        vertical-align: middle;\n",
              "    }\n",
              "\n",
              "    .dataframe tbody tr th {\n",
              "        vertical-align: top;\n",
              "    }\n",
              "\n",
              "    .dataframe thead th {\n",
              "        text-align: right;\n",
              "    }\n",
              "</style>\n",
              "<table border=\"1\" class=\"dataframe\">\n",
              "  <thead>\n",
              "    <tr style=\"text-align: right;\">\n",
              "      <th></th>\n",
              "      <th>product_id</th>\n",
              "      <th>product_category_name</th>\n",
              "      <th>product_photos_qty</th>\n",
              "      <th>product_category_name_english</th>\n",
              "    </tr>\n",
              "  </thead>\n",
              "  <tbody>\n",
              "    <tr>\n",
              "      <th>0</th>\n",
              "      <td>1e9e8ef04dbcff4541ed26657ea517e5</td>\n",
              "      <td>perfumaria</td>\n",
              "      <td>1.0</td>\n",
              "      <td>perfumery</td>\n",
              "    </tr>\n",
              "    <tr>\n",
              "      <th>1</th>\n",
              "      <td>3aa071139cb16b67ca9e5dea641aaa2f</td>\n",
              "      <td>artes</td>\n",
              "      <td>1.0</td>\n",
              "      <td>art</td>\n",
              "    </tr>\n",
              "    <tr>\n",
              "      <th>2</th>\n",
              "      <td>96bd76ec8810374ed1b65e291975717f</td>\n",
              "      <td>esporte_lazer</td>\n",
              "      <td>1.0</td>\n",
              "      <td>sports_leisure</td>\n",
              "    </tr>\n",
              "    <tr>\n",
              "      <th>3</th>\n",
              "      <td>cef67bcfe19066a932b7673e239eb23d</td>\n",
              "      <td>bebes</td>\n",
              "      <td>1.0</td>\n",
              "      <td>baby</td>\n",
              "    </tr>\n",
              "    <tr>\n",
              "      <th>4</th>\n",
              "      <td>9dc1a7de274444849c219cff195d0b71</td>\n",
              "      <td>utilidades_domesticas</td>\n",
              "      <td>4.0</td>\n",
              "      <td>housewares</td>\n",
              "    </tr>\n",
              "  </tbody>\n",
              "</table>\n",
              "</div>"
            ],
            "text/plain": [
              "                         product_id  product_category_name  \\\n",
              "0  1e9e8ef04dbcff4541ed26657ea517e5             perfumaria   \n",
              "1  3aa071139cb16b67ca9e5dea641aaa2f                  artes   \n",
              "2  96bd76ec8810374ed1b65e291975717f          esporte_lazer   \n",
              "3  cef67bcfe19066a932b7673e239eb23d                  bebes   \n",
              "4  9dc1a7de274444849c219cff195d0b71  utilidades_domesticas   \n",
              "\n",
              "   product_photos_qty product_category_name_english  \n",
              "0                 1.0                     perfumery  \n",
              "1                 1.0                           art  \n",
              "2                 1.0                sports_leisure  \n",
              "3                 1.0                          baby  \n",
              "4                 4.0                    housewares  "
            ]
          },
          "execution_count": 63,
          "metadata": {},
          "output_type": "execute_result"
        }
      ],
      "source": [
        "# gabungkan products and category. left join karna saya ingin product_category_name_english yang bergabung ke\n",
        "# kolom data 'products'.\n",
        "product_df = pd.merge(\n",
        "    left=data['products'],\n",
        "    right=data['category'],\n",
        "    how=\"left\",\n",
        "    left_on=\"product_category_name\",\n",
        "    right_on=\"product_category_name\"\n",
        ")\n",
        "product_df.head()"
      ]
    },
    {
      "cell_type": "code",
      "execution_count": 64,
      "metadata": {
        "colab": {
          "base_uri": "https://localhost:8080/",
          "height": 429
        },
        "id": "weGG5AfSz_OW",
        "outputId": "afe84d95-0785-4a2b-b0e5-7436cc8cec2d"
      },
      "outputs": [
        {
          "data": {
            "text/plain": [
              "product_category_name_english\n",
              "bed_bath_table           3029\n",
              "sports_leisure           2867\n",
              "furniture_decor          2657\n",
              "health_beauty            2444\n",
              "housewares               2335\n",
              "auto                     1900\n",
              "computers_accessories    1639\n",
              "toys                     1411\n",
              "watches_gifts            1329\n",
              "telephony                1134\n",
              "Name: product_id, dtype: int64"
            ]
          },
          "execution_count": 64,
          "metadata": {},
          "output_type": "execute_result"
        }
      ],
      "source": [
        "product_df.groupby(by=\"product_category_name_english\").product_id.nunique().sort_values(ascending=False).head(10)"
      ]
    },
    {
      "cell_type": "code",
      "execution_count": 65,
      "metadata": {
        "colab": {
          "base_uri": "https://localhost:8080/",
          "height": 226
        },
        "id": "q2uLGGND2Qu7",
        "outputId": "d82d5b3e-4fe8-480e-df1c-8cf5b3844025"
      },
      "outputs": [
        {
          "data": {
            "text/html": [
              "<div>\n",
              "<style scoped>\n",
              "    .dataframe tbody tr th:only-of-type {\n",
              "        vertical-align: middle;\n",
              "    }\n",
              "\n",
              "    .dataframe tbody tr th {\n",
              "        vertical-align: top;\n",
              "    }\n",
              "\n",
              "    .dataframe thead th {\n",
              "        text-align: right;\n",
              "    }\n",
              "</style>\n",
              "<table border=\"1\" class=\"dataframe\">\n",
              "  <thead>\n",
              "    <tr style=\"text-align: right;\">\n",
              "      <th></th>\n",
              "      <th>product_id</th>\n",
              "      <th>product_category_name</th>\n",
              "      <th>product_photos_qty</th>\n",
              "      <th>product_category_name_english</th>\n",
              "      <th>order_id</th>\n",
              "      <th>order_item_id</th>\n",
              "      <th>seller_id</th>\n",
              "      <th>shipping_limit_date</th>\n",
              "      <th>price</th>\n",
              "      <th>freight_value</th>\n",
              "      <th>seller_zip_code_prefix</th>\n",
              "      <th>seller_city</th>\n",
              "      <th>seller_state</th>\n",
              "    </tr>\n",
              "  </thead>\n",
              "  <tbody>\n",
              "    <tr>\n",
              "      <th>0</th>\n",
              "      <td>1e9e8ef04dbcff4541ed26657ea517e5</td>\n",
              "      <td>perfumaria</td>\n",
              "      <td>1.0</td>\n",
              "      <td>perfumery</td>\n",
              "      <td>e17e4f88e31525f7deef66779844ddce</td>\n",
              "      <td>1.0</td>\n",
              "      <td>5670f4db5b62c43d542e1b2d56b0cf7c</td>\n",
              "      <td>2018-04-30 17:33:54</td>\n",
              "      <td>10.91</td>\n",
              "      <td>7.39</td>\n",
              "      <td>3694.0</td>\n",
              "      <td>sao paulo</td>\n",
              "      <td>SP</td>\n",
              "    </tr>\n",
              "    <tr>\n",
              "      <th>1</th>\n",
              "      <td>3aa071139cb16b67ca9e5dea641aaa2f</td>\n",
              "      <td>artes</td>\n",
              "      <td>1.0</td>\n",
              "      <td>art</td>\n",
              "      <td>5236307716393b7114b53ee991f36956</td>\n",
              "      <td>1.0</td>\n",
              "      <td>b561927807645834b59ef0d16ba55a24</td>\n",
              "      <td>2018-02-06 19:11:15</td>\n",
              "      <td>248.00</td>\n",
              "      <td>17.99</td>\n",
              "      <td>2955.0</td>\n",
              "      <td>sao paulo</td>\n",
              "      <td>SP</td>\n",
              "    </tr>\n",
              "    <tr>\n",
              "      <th>2</th>\n",
              "      <td>96bd76ec8810374ed1b65e291975717f</td>\n",
              "      <td>esporte_lazer</td>\n",
              "      <td>1.0</td>\n",
              "      <td>sports_leisure</td>\n",
              "      <td>01f66e58769f84129811d43eefd187fb</td>\n",
              "      <td>1.0</td>\n",
              "      <td>7b07b3c7487f0ea825fc6df75abd658b</td>\n",
              "      <td>2018-07-11 21:30:20</td>\n",
              "      <td>79.80</td>\n",
              "      <td>7.82</td>\n",
              "      <td>2016.0</td>\n",
              "      <td>sao paulo</td>\n",
              "      <td>SP</td>\n",
              "    </tr>\n",
              "    <tr>\n",
              "      <th>3</th>\n",
              "      <td>cef67bcfe19066a932b7673e239eb23d</td>\n",
              "      <td>bebes</td>\n",
              "      <td>1.0</td>\n",
              "      <td>baby</td>\n",
              "      <td>143d00a4f2dde4e0364ee1821577adb3</td>\n",
              "      <td>1.0</td>\n",
              "      <td>c510bc1718f0f2961eaa42a23330681a</td>\n",
              "      <td>2018-08-07 09:10:13</td>\n",
              "      <td>112.30</td>\n",
              "      <td>9.54</td>\n",
              "      <td>13330.0</td>\n",
              "      <td>indaiatuba</td>\n",
              "      <td>SP</td>\n",
              "    </tr>\n",
              "    <tr>\n",
              "      <th>4</th>\n",
              "      <td>9dc1a7de274444849c219cff195d0b71</td>\n",
              "      <td>utilidades_domesticas</td>\n",
              "      <td>4.0</td>\n",
              "      <td>housewares</td>\n",
              "      <td>86cafb8794cb99a9b1b77fc8e48fbbbb</td>\n",
              "      <td>1.0</td>\n",
              "      <td>0be8ff43f22e456b4e0371b2245e4d01</td>\n",
              "      <td>2018-04-17 01:30:23</td>\n",
              "      <td>37.90</td>\n",
              "      <td>8.29</td>\n",
              "      <td>4461.0</td>\n",
              "      <td>sao paulo</td>\n",
              "      <td>SP</td>\n",
              "    </tr>\n",
              "  </tbody>\n",
              "</table>\n",
              "</div>"
            ],
            "text/plain": [
              "                         product_id  product_category_name  \\\n",
              "0  1e9e8ef04dbcff4541ed26657ea517e5             perfumaria   \n",
              "1  3aa071139cb16b67ca9e5dea641aaa2f                  artes   \n",
              "2  96bd76ec8810374ed1b65e291975717f          esporte_lazer   \n",
              "3  cef67bcfe19066a932b7673e239eb23d                  bebes   \n",
              "4  9dc1a7de274444849c219cff195d0b71  utilidades_domesticas   \n",
              "\n",
              "   product_photos_qty product_category_name_english  \\\n",
              "0                 1.0                     perfumery   \n",
              "1                 1.0                           art   \n",
              "2                 1.0                sports_leisure   \n",
              "3                 1.0                          baby   \n",
              "4                 4.0                    housewares   \n",
              "\n",
              "                           order_id  order_item_id  \\\n",
              "0  e17e4f88e31525f7deef66779844ddce            1.0   \n",
              "1  5236307716393b7114b53ee991f36956            1.0   \n",
              "2  01f66e58769f84129811d43eefd187fb            1.0   \n",
              "3  143d00a4f2dde4e0364ee1821577adb3            1.0   \n",
              "4  86cafb8794cb99a9b1b77fc8e48fbbbb            1.0   \n",
              "\n",
              "                          seller_id  shipping_limit_date   price  \\\n",
              "0  5670f4db5b62c43d542e1b2d56b0cf7c  2018-04-30 17:33:54   10.91   \n",
              "1  b561927807645834b59ef0d16ba55a24  2018-02-06 19:11:15  248.00   \n",
              "2  7b07b3c7487f0ea825fc6df75abd658b  2018-07-11 21:30:20   79.80   \n",
              "3  c510bc1718f0f2961eaa42a23330681a  2018-08-07 09:10:13  112.30   \n",
              "4  0be8ff43f22e456b4e0371b2245e4d01  2018-04-17 01:30:23   37.90   \n",
              "\n",
              "   freight_value  seller_zip_code_prefix seller_city seller_state  \n",
              "0           7.39                  3694.0   sao paulo           SP  \n",
              "1          17.99                  2955.0   sao paulo           SP  \n",
              "2           7.82                  2016.0   sao paulo           SP  \n",
              "3           9.54                 13330.0  indaiatuba           SP  \n",
              "4           8.29                  4461.0   sao paulo           SP  "
            ]
          },
          "execution_count": 65,
          "metadata": {},
          "output_type": "execute_result"
        }
      ],
      "source": [
        "# Merge item_seller_df & product_df\n",
        "sellers_df = pd.merge(\n",
        "    left=product_df,\n",
        "    right=item_seller_df,\n",
        "    how=\"left\",\n",
        "    left_on=\"product_id\",\n",
        "    right_on=\"product_id\"\n",
        ")\n",
        "sellers_df.head()"
      ]
    },
    {
      "cell_type": "code",
      "execution_count": 66,
      "metadata": {
        "colab": {
          "base_uri": "https://localhost:8080/",
          "height": 487
        },
        "id": "Ci5NG8PI1oPz",
        "outputId": "2ba5acae-0edd-45df-8d9e-241b7f8e320d"
      },
      "outputs": [
        {
          "data": {
            "text/html": [
              "<div>\n",
              "<style scoped>\n",
              "    .dataframe tbody tr th:only-of-type {\n",
              "        vertical-align: middle;\n",
              "    }\n",
              "\n",
              "    .dataframe tbody tr th {\n",
              "        vertical-align: top;\n",
              "    }\n",
              "\n",
              "    .dataframe thead tr th {\n",
              "        text-align: left;\n",
              "    }\n",
              "\n",
              "    .dataframe thead tr:last-of-type th {\n",
              "        text-align: right;\n",
              "    }\n",
              "</style>\n",
              "<table border=\"1\" class=\"dataframe\">\n",
              "  <thead>\n",
              "    <tr>\n",
              "      <th></th>\n",
              "      <th>order_id</th>\n",
              "      <th colspan=\"2\" halign=\"left\">price</th>\n",
              "    </tr>\n",
              "    <tr>\n",
              "      <th></th>\n",
              "      <th>nunique</th>\n",
              "      <th>min</th>\n",
              "      <th>max</th>\n",
              "    </tr>\n",
              "    <tr>\n",
              "      <th>product_category_name_english</th>\n",
              "      <th></th>\n",
              "      <th></th>\n",
              "      <th></th>\n",
              "    </tr>\n",
              "  </thead>\n",
              "  <tbody>\n",
              "    <tr>\n",
              "      <th>agro_industry_and_commerce</th>\n",
              "      <td>177</td>\n",
              "      <td>12.99</td>\n",
              "      <td>2990.00</td>\n",
              "    </tr>\n",
              "    <tr>\n",
              "      <th>air_conditioning</th>\n",
              "      <td>246</td>\n",
              "      <td>10.90</td>\n",
              "      <td>1599.00</td>\n",
              "    </tr>\n",
              "    <tr>\n",
              "      <th>art</th>\n",
              "      <td>195</td>\n",
              "      <td>5.35</td>\n",
              "      <td>6499.00</td>\n",
              "    </tr>\n",
              "    <tr>\n",
              "      <th>arts_and_craftmanship</th>\n",
              "      <td>23</td>\n",
              "      <td>9.80</td>\n",
              "      <td>289.49</td>\n",
              "    </tr>\n",
              "    <tr>\n",
              "      <th>audio</th>\n",
              "      <td>348</td>\n",
              "      <td>14.90</td>\n",
              "      <td>598.99</td>\n",
              "    </tr>\n",
              "    <tr>\n",
              "      <th>...</th>\n",
              "      <td>...</td>\n",
              "      <td>...</td>\n",
              "      <td>...</td>\n",
              "    </tr>\n",
              "    <tr>\n",
              "      <th>stationery</th>\n",
              "      <td>2264</td>\n",
              "      <td>2.29</td>\n",
              "      <td>1693.00</td>\n",
              "    </tr>\n",
              "    <tr>\n",
              "      <th>tablets_printing_image</th>\n",
              "      <td>79</td>\n",
              "      <td>14.90</td>\n",
              "      <td>889.99</td>\n",
              "    </tr>\n",
              "    <tr>\n",
              "      <th>telephony</th>\n",
              "      <td>4093</td>\n",
              "      <td>5.00</td>\n",
              "      <td>2428.00</td>\n",
              "    </tr>\n",
              "    <tr>\n",
              "      <th>toys</th>\n",
              "      <td>3803</td>\n",
              "      <td>4.90</td>\n",
              "      <td>1699.99</td>\n",
              "    </tr>\n",
              "    <tr>\n",
              "      <th>watches_gifts</th>\n",
              "      <td>5493</td>\n",
              "      <td>8.99</td>\n",
              "      <td>3999.90</td>\n",
              "    </tr>\n",
              "  </tbody>\n",
              "</table>\n",
              "<p>71 rows × 3 columns</p>\n",
              "</div>"
            ],
            "text/plain": [
              "                              order_id  price         \n",
              "                               nunique    min      max\n",
              "product_category_name_english                         \n",
              "agro_industry_and_commerce         177  12.99  2990.00\n",
              "air_conditioning                   246  10.90  1599.00\n",
              "art                                195   5.35  6499.00\n",
              "arts_and_craftmanship               23   9.80   289.49\n",
              "audio                              348  14.90   598.99\n",
              "...                                ...    ...      ...\n",
              "stationery                        2264   2.29  1693.00\n",
              "tablets_printing_image              79  14.90   889.99\n",
              "telephony                         4093   5.00  2428.00\n",
              "toys                              3803   4.90  1699.99\n",
              "watches_gifts                     5493   8.99  3999.90\n",
              "\n",
              "[71 rows x 3 columns]"
            ]
          },
          "execution_count": 66,
          "metadata": {},
          "output_type": "execute_result"
        }
      ],
      "source": [
        "sellers_df.groupby(by=\"product_category_name_english\").agg({\n",
        "    \"order_id\": \"nunique\",\n",
        "    \"price\":  [\"min\", \"max\"]\n",
        "})"
      ]
    },
    {
      "cell_type": "markdown",
      "metadata": {
        "id": "54sWmbPD2qW2"
      },
      "source": [
        "### Explore Geo"
      ]
    },
    {
      "cell_type": "code",
      "execution_count": 67,
      "metadata": {
        "colab": {
          "base_uri": "https://localhost:8080/",
          "height": 206
        },
        "id": "nzH4gz6R2qGb",
        "outputId": "503757cc-1cc6-4666-acfe-d86366d54a4a"
      },
      "outputs": [
        {
          "data": {
            "text/html": [
              "<div>\n",
              "<style scoped>\n",
              "    .dataframe tbody tr th:only-of-type {\n",
              "        vertical-align: middle;\n",
              "    }\n",
              "\n",
              "    .dataframe tbody tr th {\n",
              "        vertical-align: top;\n",
              "    }\n",
              "\n",
              "    .dataframe thead th {\n",
              "        text-align: right;\n",
              "    }\n",
              "</style>\n",
              "<table border=\"1\" class=\"dataframe\">\n",
              "  <thead>\n",
              "    <tr style=\"text-align: right;\">\n",
              "      <th></th>\n",
              "      <th>geolocation_zip_code_prefix</th>\n",
              "      <th>geolocation_lat</th>\n",
              "      <th>geolocation_lng</th>\n",
              "      <th>geolocation_city</th>\n",
              "      <th>geolocation_state</th>\n",
              "    </tr>\n",
              "  </thead>\n",
              "  <tbody>\n",
              "    <tr>\n",
              "      <th>891461</th>\n",
              "      <td>86975</td>\n",
              "      <td>-23.520053</td>\n",
              "      <td>-51.654845</td>\n",
              "      <td>mandaguari</td>\n",
              "      <td>PR</td>\n",
              "    </tr>\n",
              "    <tr>\n",
              "      <th>775707</th>\n",
              "      <td>69040</td>\n",
              "      <td>-3.089014</td>\n",
              "      <td>-60.033327</td>\n",
              "      <td>manaus</td>\n",
              "      <td>AM</td>\n",
              "    </tr>\n",
              "    <tr>\n",
              "      <th>897486</th>\n",
              "      <td>87485</td>\n",
              "      <td>-23.381820</td>\n",
              "      <td>-53.301447</td>\n",
              "      <td>douradina</td>\n",
              "      <td>PR</td>\n",
              "    </tr>\n",
              "    <tr>\n",
              "      <th>208430</th>\n",
              "      <td>8588</td>\n",
              "      <td>-23.441837</td>\n",
              "      <td>-46.308709</td>\n",
              "      <td>itaquaquecetuba</td>\n",
              "      <td>SP</td>\n",
              "    </tr>\n",
              "    <tr>\n",
              "      <th>382914</th>\n",
              "      <td>18160</td>\n",
              "      <td>-23.647762</td>\n",
              "      <td>-47.572303</td>\n",
              "      <td>salto de pirapora</td>\n",
              "      <td>SP</td>\n",
              "    </tr>\n",
              "  </tbody>\n",
              "</table>\n",
              "</div>"
            ],
            "text/plain": [
              "        geolocation_zip_code_prefix  geolocation_lat  geolocation_lng  \\\n",
              "891461                        86975       -23.520053       -51.654845   \n",
              "775707                        69040        -3.089014       -60.033327   \n",
              "897486                        87485       -23.381820       -53.301447   \n",
              "208430                         8588       -23.441837       -46.308709   \n",
              "382914                        18160       -23.647762       -47.572303   \n",
              "\n",
              "         geolocation_city geolocation_state  \n",
              "891461         mandaguari                PR  \n",
              "775707             manaus                AM  \n",
              "897486          douradina                PR  \n",
              "208430    itaquaquecetuba                SP  \n",
              "382914  salto de pirapora                SP  "
            ]
          },
          "execution_count": 67,
          "metadata": {},
          "output_type": "execute_result"
        }
      ],
      "source": [
        "data['geo'].sample(5)"
      ]
    },
    {
      "cell_type": "code",
      "execution_count": 68,
      "metadata": {
        "colab": {
          "base_uri": "https://localhost:8080/",
          "height": 490
        },
        "id": "vAtazygv2xtL",
        "outputId": "bafcb1d6-a0c1-4a71-845c-d87847f92d02"
      },
      "outputs": [
        {
          "data": {
            "text/plain": [
              "geolocation_zip_code_prefix\n",
              "38400    779\n",
              "35500    751\n",
              "11680    727\n",
              "11740    678\n",
              "36400    627\n",
              "        ... \n",
              "58403      1\n",
              "1200       1\n",
              "1189       1\n",
              "1290       1\n",
              "1262       1\n",
              "Length: 19015, dtype: int64"
            ]
          },
          "execution_count": 68,
          "metadata": {},
          "output_type": "execute_result"
        }
      ],
      "source": [
        "data['geo'].groupby('geolocation_zip_code_prefix').size().sort_values(ascending=False)"
      ]
    },
    {
      "cell_type": "code",
      "execution_count": 69,
      "metadata": {
        "colab": {
          "base_uri": "https://localhost:8080/",
          "height": 206
        },
        "id": "BOxyViix2zY4",
        "outputId": "31e14cd8-4a5c-4070-aa54-7430fe2e703a"
      },
      "outputs": [
        {
          "data": {
            "text/html": [
              "<div>\n",
              "<style scoped>\n",
              "    .dataframe tbody tr th:only-of-type {\n",
              "        vertical-align: middle;\n",
              "    }\n",
              "\n",
              "    .dataframe tbody tr th {\n",
              "        vertical-align: top;\n",
              "    }\n",
              "\n",
              "    .dataframe thead th {\n",
              "        text-align: right;\n",
              "    }\n",
              "</style>\n",
              "<table border=\"1\" class=\"dataframe\">\n",
              "  <thead>\n",
              "    <tr style=\"text-align: right;\">\n",
              "      <th></th>\n",
              "      <th>geolocation_zip_code_prefix</th>\n",
              "      <th>geolocation_lat</th>\n",
              "      <th>geolocation_lng</th>\n",
              "      <th>geolocation_city</th>\n",
              "      <th>geolocation_state</th>\n",
              "    </tr>\n",
              "  </thead>\n",
              "  <tbody>\n",
              "    <tr>\n",
              "      <th>470805</th>\n",
              "      <td>24220</td>\n",
              "      <td>-22.905817</td>\n",
              "      <td>-43.106989</td>\n",
              "      <td>niteroi</td>\n",
              "      <td>RJ</td>\n",
              "    </tr>\n",
              "    <tr>\n",
              "      <th>470811</th>\n",
              "      <td>24220</td>\n",
              "      <td>-22.902306</td>\n",
              "      <td>-43.112545</td>\n",
              "      <td>niteroi</td>\n",
              "      <td>RJ</td>\n",
              "    </tr>\n",
              "    <tr>\n",
              "      <th>470812</th>\n",
              "      <td>24220</td>\n",
              "      <td>-22.904567</td>\n",
              "      <td>-43.110491</td>\n",
              "      <td>niteroi</td>\n",
              "      <td>RJ</td>\n",
              "    </tr>\n",
              "    <tr>\n",
              "      <th>470820</th>\n",
              "      <td>24220</td>\n",
              "      <td>-22.902575</td>\n",
              "      <td>-43.109192</td>\n",
              "      <td>niteroi</td>\n",
              "      <td>RJ</td>\n",
              "    </tr>\n",
              "    <tr>\n",
              "      <th>470821</th>\n",
              "      <td>24220</td>\n",
              "      <td>-22.907500</td>\n",
              "      <td>-43.106170</td>\n",
              "      <td>niteroi</td>\n",
              "      <td>RJ</td>\n",
              "    </tr>\n",
              "  </tbody>\n",
              "</table>\n",
              "</div>"
            ],
            "text/plain": [
              "        geolocation_zip_code_prefix  geolocation_lat  geolocation_lng  \\\n",
              "470805                        24220       -22.905817       -43.106989   \n",
              "470811                        24220       -22.902306       -43.112545   \n",
              "470812                        24220       -22.904567       -43.110491   \n",
              "470820                        24220       -22.902575       -43.109192   \n",
              "470821                        24220       -22.907500       -43.106170   \n",
              "\n",
              "       geolocation_city geolocation_state  \n",
              "470805          niteroi                RJ  \n",
              "470811          niteroi                RJ  \n",
              "470812          niteroi                RJ  \n",
              "470820          niteroi                RJ  \n",
              "470821          niteroi                RJ  "
            ]
          },
          "execution_count": 69,
          "metadata": {},
          "output_type": "execute_result"
        }
      ],
      "source": [
        "data['geo'][data['geo']['geolocation_zip_code_prefix'] == 24220].head()"
      ]
    },
    {
      "cell_type": "markdown",
      "metadata": {
        "id": "8D9t98SF3F3f"
      },
      "source": [
        "### Explore Keseluruhan"
      ]
    },
    {
      "cell_type": "code",
      "execution_count": 70,
      "metadata": {
        "colab": {
          "base_uri": "https://localhost:8080/",
          "height": 167
        },
        "id": "sby_HJH14q-i",
        "outputId": "7dce7bab-6dc8-45e4-9ee0-40793c08c783"
      },
      "outputs": [
        {
          "data": {
            "text/html": [
              "<div>\n",
              "<style scoped>\n",
              "    .dataframe tbody tr th:only-of-type {\n",
              "        vertical-align: middle;\n",
              "    }\n",
              "\n",
              "    .dataframe tbody tr th {\n",
              "        vertical-align: top;\n",
              "    }\n",
              "\n",
              "    .dataframe thead th {\n",
              "        text-align: right;\n",
              "    }\n",
              "</style>\n",
              "<table border=\"1\" class=\"dataframe\">\n",
              "  <thead>\n",
              "    <tr style=\"text-align: right;\">\n",
              "      <th></th>\n",
              "      <th>customer_id</th>\n",
              "      <th>customer_unique_id</th>\n",
              "      <th>customer_zip_code_prefix</th>\n",
              "      <th>customer_city</th>\n",
              "      <th>customer_state</th>\n",
              "      <th>order_id</th>\n",
              "      <th>order_status</th>\n",
              "      <th>order_purchase_timestamp</th>\n",
              "      <th>order_approved_at</th>\n",
              "      <th>order_delivered_carrier_date</th>\n",
              "      <th>order_delivered_customer_date</th>\n",
              "      <th>order_estimated_delivery_date</th>\n",
              "      <th>delivered_on_time</th>\n",
              "      <th>delivery_time</th>\n",
              "    </tr>\n",
              "  </thead>\n",
              "  <tbody>\n",
              "    <tr>\n",
              "      <th>73100</th>\n",
              "      <td>d19f71039cf48477275961be96df0a13</td>\n",
              "      <td>45cb645cd8d03a8704424516bf9d01d0</td>\n",
              "      <td>4019</td>\n",
              "      <td>sao paulo</td>\n",
              "      <td>SP</td>\n",
              "      <td>9c1065a9bf5514fd2349797c407c61b7</td>\n",
              "      <td>delivered</td>\n",
              "      <td>2018-03-16 10:30:59</td>\n",
              "      <td>2018-03-16 10:48:57</td>\n",
              "      <td>2018-03-19 13:05:39</td>\n",
              "      <td>2018-03-20 22:28:45</td>\n",
              "      <td>2018-03-28 00:00:00</td>\n",
              "      <td>On Time</td>\n",
              "      <td>1.0</td>\n",
              "    </tr>\n",
              "    <tr>\n",
              "      <th>68188</th>\n",
              "      <td>bf632bfc93eda6f702cb9607513e2b6d</td>\n",
              "      <td>6d918e72195a40d8547c89b04a079860</td>\n",
              "      <td>37470</td>\n",
              "      <td>sao lourenco</td>\n",
              "      <td>MG</td>\n",
              "      <td>394bd8c3711009590ecf308602f1dfeb</td>\n",
              "      <td>delivered</td>\n",
              "      <td>2017-07-12 15:34:23</td>\n",
              "      <td>2017-07-14 02:25:33</td>\n",
              "      <td>2017-07-14 20:03:01</td>\n",
              "      <td>2017-07-25 19:19:51</td>\n",
              "      <td>2017-08-03 00:00:00</td>\n",
              "      <td>On Time</td>\n",
              "      <td>11.0</td>\n",
              "    </tr>\n",
              "  </tbody>\n",
              "</table>\n",
              "</div>"
            ],
            "text/plain": [
              "                            customer_id                customer_unique_id  \\\n",
              "73100  d19f71039cf48477275961be96df0a13  45cb645cd8d03a8704424516bf9d01d0   \n",
              "68188  bf632bfc93eda6f702cb9607513e2b6d  6d918e72195a40d8547c89b04a079860   \n",
              "\n",
              "       customer_zip_code_prefix customer_city customer_state  \\\n",
              "73100                      4019     sao paulo             SP   \n",
              "68188                     37470  sao lourenco             MG   \n",
              "\n",
              "                               order_id order_status order_purchase_timestamp  \\\n",
              "73100  9c1065a9bf5514fd2349797c407c61b7    delivered      2018-03-16 10:30:59   \n",
              "68188  394bd8c3711009590ecf308602f1dfeb    delivered      2017-07-12 15:34:23   \n",
              "\n",
              "         order_approved_at order_delivered_carrier_date  \\\n",
              "73100  2018-03-16 10:48:57          2018-03-19 13:05:39   \n",
              "68188  2017-07-14 02:25:33          2017-07-14 20:03:01   \n",
              "\n",
              "      order_delivered_customer_date order_estimated_delivery_date  \\\n",
              "73100           2018-03-20 22:28:45           2018-03-28 00:00:00   \n",
              "68188           2017-07-25 19:19:51           2017-08-03 00:00:00   \n",
              "\n",
              "      delivered_on_time  delivery_time  \n",
              "73100           On Time            1.0  \n",
              "68188           On Time           11.0  "
            ]
          },
          "execution_count": 70,
          "metadata": {},
          "output_type": "execute_result"
        }
      ],
      "source": [
        "customers_df.sample(2)"
      ]
    },
    {
      "cell_type": "code",
      "execution_count": 71,
      "metadata": {
        "colab": {
          "base_uri": "https://localhost:8080/",
          "height": 167
        },
        "id": "ceF5HjBy39nS",
        "outputId": "d051b8ed-db13-4cec-9472-9d0faaab2a2a"
      },
      "outputs": [
        {
          "data": {
            "text/html": [
              "<div>\n",
              "<style scoped>\n",
              "    .dataframe tbody tr th:only-of-type {\n",
              "        vertical-align: middle;\n",
              "    }\n",
              "\n",
              "    .dataframe tbody tr th {\n",
              "        vertical-align: top;\n",
              "    }\n",
              "\n",
              "    .dataframe thead th {\n",
              "        text-align: right;\n",
              "    }\n",
              "</style>\n",
              "<table border=\"1\" class=\"dataframe\">\n",
              "  <thead>\n",
              "    <tr style=\"text-align: right;\">\n",
              "      <th></th>\n",
              "      <th>customer_id</th>\n",
              "      <th>customer_unique_id</th>\n",
              "      <th>customer_zip_code_prefix</th>\n",
              "      <th>customer_city</th>\n",
              "      <th>customer_state</th>\n",
              "      <th>order_id</th>\n",
              "      <th>order_status</th>\n",
              "      <th>order_purchase_timestamp</th>\n",
              "      <th>order_approved_at</th>\n",
              "      <th>order_delivered_carrier_date</th>\n",
              "      <th>order_delivered_customer_date</th>\n",
              "      <th>order_estimated_delivery_date</th>\n",
              "      <th>delivered_on_time</th>\n",
              "      <th>delivery_time</th>\n",
              "    </tr>\n",
              "  </thead>\n",
              "  <tbody>\n",
              "    <tr>\n",
              "      <th>0</th>\n",
              "      <td>06b8999e2fba1a1fbc88172c00ba8bc7</td>\n",
              "      <td>861eff4711a542e4b93843c6dd7febb0</td>\n",
              "      <td>14409</td>\n",
              "      <td>franca</td>\n",
              "      <td>SP</td>\n",
              "      <td>00e7ee1b050b8499577073aeb2a297a1</td>\n",
              "      <td>delivered</td>\n",
              "      <td>2017-05-16 15:05:35</td>\n",
              "      <td>2017-05-16 15:22:12</td>\n",
              "      <td>2017-05-23 10:47:57</td>\n",
              "      <td>2017-05-25 10:35:35</td>\n",
              "      <td>2017-06-05 00:00:00</td>\n",
              "      <td>On Time</td>\n",
              "      <td>2.0</td>\n",
              "    </tr>\n",
              "    <tr>\n",
              "      <th>1</th>\n",
              "      <td>18955e83d337fd6b2def6b18a428ac77</td>\n",
              "      <td>290c77bc529b7ac935b93aa66c333dc3</td>\n",
              "      <td>9790</td>\n",
              "      <td>sao bernardo do campo</td>\n",
              "      <td>SP</td>\n",
              "      <td>29150127e6685892b6eab3eec79f59c7</td>\n",
              "      <td>delivered</td>\n",
              "      <td>2018-01-12 20:48:24</td>\n",
              "      <td>2018-01-12 20:58:32</td>\n",
              "      <td>2018-01-15 17:14:59</td>\n",
              "      <td>2018-01-29 12:41:19</td>\n",
              "      <td>2018-02-06 00:00:00</td>\n",
              "      <td>On Time</td>\n",
              "      <td>14.0</td>\n",
              "    </tr>\n",
              "  </tbody>\n",
              "</table>\n",
              "</div>"
            ],
            "text/plain": [
              "                        customer_id                customer_unique_id  \\\n",
              "0  06b8999e2fba1a1fbc88172c00ba8bc7  861eff4711a542e4b93843c6dd7febb0   \n",
              "1  18955e83d337fd6b2def6b18a428ac77  290c77bc529b7ac935b93aa66c333dc3   \n",
              "\n",
              "   customer_zip_code_prefix          customer_city customer_state  \\\n",
              "0                     14409                 franca             SP   \n",
              "1                      9790  sao bernardo do campo             SP   \n",
              "\n",
              "                           order_id order_status order_purchase_timestamp  \\\n",
              "0  00e7ee1b050b8499577073aeb2a297a1    delivered      2017-05-16 15:05:35   \n",
              "1  29150127e6685892b6eab3eec79f59c7    delivered      2018-01-12 20:48:24   \n",
              "\n",
              "     order_approved_at order_delivered_carrier_date  \\\n",
              "0  2017-05-16 15:22:12          2017-05-23 10:47:57   \n",
              "1  2018-01-12 20:58:32          2018-01-15 17:14:59   \n",
              "\n",
              "  order_delivered_customer_date order_estimated_delivery_date  \\\n",
              "0           2017-05-25 10:35:35           2017-06-05 00:00:00   \n",
              "1           2018-01-29 12:41:19           2018-02-06 00:00:00   \n",
              "\n",
              "  delivered_on_time  delivery_time  \n",
              "0           On Time            2.0  \n",
              "1           On Time           14.0  "
            ]
          },
          "execution_count": 71,
          "metadata": {},
          "output_type": "execute_result"
        }
      ],
      "source": [
        "customers_df = pd.merge(\n",
        "    left=customers,\n",
        "    right=orders,\n",
        "    how=\"left\",\n",
        "    left_on=\"customer_id\",\n",
        "    right_on=\"customer_id\"\n",
        ")\n",
        "customers_df.head(2)"
      ]
    },
    {
      "cell_type": "code",
      "execution_count": 72,
      "metadata": {
        "colab": {
          "base_uri": "https://localhost:8080/",
          "height": 313
        },
        "id": "roCWwnvqLvGP",
        "outputId": "5b088d4a-5da2-4353-bcee-6467ec35bf64"
      },
      "outputs": [
        {
          "data": {
            "text/html": [
              "<div>\n",
              "<style scoped>\n",
              "    .dataframe tbody tr th:only-of-type {\n",
              "        vertical-align: middle;\n",
              "    }\n",
              "\n",
              "    .dataframe tbody tr th {\n",
              "        vertical-align: top;\n",
              "    }\n",
              "\n",
              "    .dataframe thead th {\n",
              "        text-align: right;\n",
              "    }\n",
              "</style>\n",
              "<table border=\"1\" class=\"dataframe\">\n",
              "  <thead>\n",
              "    <tr style=\"text-align: right;\">\n",
              "      <th></th>\n",
              "      <th>customer_id</th>\n",
              "      <th>customer_unique_id</th>\n",
              "      <th>customer_zip_code_prefix</th>\n",
              "      <th>customer_city</th>\n",
              "      <th>customer_state</th>\n",
              "      <th>order_id</th>\n",
              "      <th>order_status</th>\n",
              "      <th>order_purchase_timestamp</th>\n",
              "      <th>order_approved_at</th>\n",
              "      <th>order_delivered_carrier_date</th>\n",
              "      <th>order_delivered_customer_date</th>\n",
              "      <th>order_estimated_delivery_date</th>\n",
              "      <th>delivered_on_time</th>\n",
              "      <th>delivery_time</th>\n",
              "      <th>payment_sequential</th>\n",
              "      <th>payment_type</th>\n",
              "      <th>payment_installments</th>\n",
              "      <th>payment_value</th>\n",
              "    </tr>\n",
              "  </thead>\n",
              "  <tbody>\n",
              "    <tr>\n",
              "      <th>0</th>\n",
              "      <td>06b8999e2fba1a1fbc88172c00ba8bc7</td>\n",
              "      <td>861eff4711a542e4b93843c6dd7febb0</td>\n",
              "      <td>14409</td>\n",
              "      <td>franca</td>\n",
              "      <td>SP</td>\n",
              "      <td>00e7ee1b050b8499577073aeb2a297a1</td>\n",
              "      <td>delivered</td>\n",
              "      <td>2017-05-16 15:05:35</td>\n",
              "      <td>2017-05-16 15:22:12</td>\n",
              "      <td>2017-05-23 10:47:57</td>\n",
              "      <td>2017-05-25 10:35:35</td>\n",
              "      <td>2017-06-05 00:00:00</td>\n",
              "      <td>On Time</td>\n",
              "      <td>2.0</td>\n",
              "      <td>1.0</td>\n",
              "      <td>credit_card</td>\n",
              "      <td>2.0</td>\n",
              "      <td>146.87</td>\n",
              "    </tr>\n",
              "    <tr>\n",
              "      <th>1</th>\n",
              "      <td>18955e83d337fd6b2def6b18a428ac77</td>\n",
              "      <td>290c77bc529b7ac935b93aa66c333dc3</td>\n",
              "      <td>9790</td>\n",
              "      <td>sao bernardo do campo</td>\n",
              "      <td>SP</td>\n",
              "      <td>29150127e6685892b6eab3eec79f59c7</td>\n",
              "      <td>delivered</td>\n",
              "      <td>2018-01-12 20:48:24</td>\n",
              "      <td>2018-01-12 20:58:32</td>\n",
              "      <td>2018-01-15 17:14:59</td>\n",
              "      <td>2018-01-29 12:41:19</td>\n",
              "      <td>2018-02-06 00:00:00</td>\n",
              "      <td>On Time</td>\n",
              "      <td>14.0</td>\n",
              "      <td>1.0</td>\n",
              "      <td>credit_card</td>\n",
              "      <td>8.0</td>\n",
              "      <td>335.48</td>\n",
              "    </tr>\n",
              "    <tr>\n",
              "      <th>2</th>\n",
              "      <td>4e7b3e00288586ebd08712fdd0374a03</td>\n",
              "      <td>060e732b5b29e8181a18229c7b0b2b5e</td>\n",
              "      <td>1151</td>\n",
              "      <td>sao paulo</td>\n",
              "      <td>SP</td>\n",
              "      <td>b2059ed67ce144a36e2aa97d2c9e9ad2</td>\n",
              "      <td>delivered</td>\n",
              "      <td>2018-05-19 16:07:45</td>\n",
              "      <td>2018-05-20 16:19:10</td>\n",
              "      <td>2018-06-11 14:31:00</td>\n",
              "      <td>2018-06-14 17:58:51</td>\n",
              "      <td>2018-06-13 00:00:00</td>\n",
              "      <td>Late</td>\n",
              "      <td>3.0</td>\n",
              "      <td>1.0</td>\n",
              "      <td>credit_card</td>\n",
              "      <td>7.0</td>\n",
              "      <td>157.73</td>\n",
              "    </tr>\n",
              "    <tr>\n",
              "      <th>3</th>\n",
              "      <td>b2b6027bc5c5109e529d4dc6358b12c3</td>\n",
              "      <td>259dac757896d24d7702b9acbbff3f3c</td>\n",
              "      <td>8775</td>\n",
              "      <td>mogi das cruzes</td>\n",
              "      <td>SP</td>\n",
              "      <td>951670f92359f4fe4a63112aa7306eba</td>\n",
              "      <td>delivered</td>\n",
              "      <td>2018-03-13 16:06:38</td>\n",
              "      <td>2018-03-13 17:29:19</td>\n",
              "      <td>2018-03-27 23:22:42</td>\n",
              "      <td>2018-03-28 16:04:25</td>\n",
              "      <td>2018-04-10 00:00:00</td>\n",
              "      <td>On Time</td>\n",
              "      <td>1.0</td>\n",
              "      <td>1.0</td>\n",
              "      <td>credit_card</td>\n",
              "      <td>1.0</td>\n",
              "      <td>173.30</td>\n",
              "    </tr>\n",
              "    <tr>\n",
              "      <th>4</th>\n",
              "      <td>4f2d8ab171c80ec8364f7c12e35b23ad</td>\n",
              "      <td>345ecd01c38d18a9036ed96c73b8d066</td>\n",
              "      <td>13056</td>\n",
              "      <td>campinas</td>\n",
              "      <td>SP</td>\n",
              "      <td>6b7d50bd145f6fc7f33cebabd7e49d0f</td>\n",
              "      <td>delivered</td>\n",
              "      <td>2018-07-29 09:51:30</td>\n",
              "      <td>2018-07-29 10:10:09</td>\n",
              "      <td>2018-07-30 15:16:00</td>\n",
              "      <td>2018-08-09 20:55:48</td>\n",
              "      <td>2018-08-15 00:00:00</td>\n",
              "      <td>On Time</td>\n",
              "      <td>10.0</td>\n",
              "      <td>1.0</td>\n",
              "      <td>credit_card</td>\n",
              "      <td>8.0</td>\n",
              "      <td>252.25</td>\n",
              "    </tr>\n",
              "  </tbody>\n",
              "</table>\n",
              "</div>"
            ],
            "text/plain": [
              "                        customer_id                customer_unique_id  \\\n",
              "0  06b8999e2fba1a1fbc88172c00ba8bc7  861eff4711a542e4b93843c6dd7febb0   \n",
              "1  18955e83d337fd6b2def6b18a428ac77  290c77bc529b7ac935b93aa66c333dc3   \n",
              "2  4e7b3e00288586ebd08712fdd0374a03  060e732b5b29e8181a18229c7b0b2b5e   \n",
              "3  b2b6027bc5c5109e529d4dc6358b12c3  259dac757896d24d7702b9acbbff3f3c   \n",
              "4  4f2d8ab171c80ec8364f7c12e35b23ad  345ecd01c38d18a9036ed96c73b8d066   \n",
              "\n",
              "   customer_zip_code_prefix          customer_city customer_state  \\\n",
              "0                     14409                 franca             SP   \n",
              "1                      9790  sao bernardo do campo             SP   \n",
              "2                      1151              sao paulo             SP   \n",
              "3                      8775        mogi das cruzes             SP   \n",
              "4                     13056               campinas             SP   \n",
              "\n",
              "                           order_id order_status order_purchase_timestamp  \\\n",
              "0  00e7ee1b050b8499577073aeb2a297a1    delivered      2017-05-16 15:05:35   \n",
              "1  29150127e6685892b6eab3eec79f59c7    delivered      2018-01-12 20:48:24   \n",
              "2  b2059ed67ce144a36e2aa97d2c9e9ad2    delivered      2018-05-19 16:07:45   \n",
              "3  951670f92359f4fe4a63112aa7306eba    delivered      2018-03-13 16:06:38   \n",
              "4  6b7d50bd145f6fc7f33cebabd7e49d0f    delivered      2018-07-29 09:51:30   \n",
              "\n",
              "     order_approved_at order_delivered_carrier_date  \\\n",
              "0  2017-05-16 15:22:12          2017-05-23 10:47:57   \n",
              "1  2018-01-12 20:58:32          2018-01-15 17:14:59   \n",
              "2  2018-05-20 16:19:10          2018-06-11 14:31:00   \n",
              "3  2018-03-13 17:29:19          2018-03-27 23:22:42   \n",
              "4  2018-07-29 10:10:09          2018-07-30 15:16:00   \n",
              "\n",
              "  order_delivered_customer_date order_estimated_delivery_date  \\\n",
              "0           2017-05-25 10:35:35           2017-06-05 00:00:00   \n",
              "1           2018-01-29 12:41:19           2018-02-06 00:00:00   \n",
              "2           2018-06-14 17:58:51           2018-06-13 00:00:00   \n",
              "3           2018-03-28 16:04:25           2018-04-10 00:00:00   \n",
              "4           2018-08-09 20:55:48           2018-08-15 00:00:00   \n",
              "\n",
              "  delivered_on_time  delivery_time  payment_sequential payment_type  \\\n",
              "0           On Time            2.0                 1.0  credit_card   \n",
              "1           On Time           14.0                 1.0  credit_card   \n",
              "2              Late            3.0                 1.0  credit_card   \n",
              "3           On Time            1.0                 1.0  credit_card   \n",
              "4           On Time           10.0                 1.0  credit_card   \n",
              "\n",
              "   payment_installments  payment_value  \n",
              "0                   2.0         146.87  \n",
              "1                   8.0         335.48  \n",
              "2                   7.0         157.73  \n",
              "3                   1.0         173.30  \n",
              "4                   8.0         252.25  "
            ]
          },
          "execution_count": 72,
          "metadata": {},
          "output_type": "execute_result"
        }
      ],
      "source": [
        "M1=pd.merge(\n",
        "    left=customers_df,\n",
        "    right=payments,\n",
        "    how='left',\n",
        "    left_on='order_id',\n",
        "    right_on='order_id'\n",
        ")\n",
        "M1.head()"
      ]
    },
    {
      "cell_type": "code",
      "execution_count": 73,
      "metadata": {
        "colab": {
          "base_uri": "https://localhost:8080/",
          "height": 206
        },
        "id": "FOlsPMjDM1aW",
        "outputId": "d35e61e6-2e21-4662-d557-805fabc57921"
      },
      "outputs": [
        {
          "data": {
            "text/html": [
              "<div>\n",
              "<style scoped>\n",
              "    .dataframe tbody tr th:only-of-type {\n",
              "        vertical-align: middle;\n",
              "    }\n",
              "\n",
              "    .dataframe tbody tr th {\n",
              "        vertical-align: top;\n",
              "    }\n",
              "\n",
              "    .dataframe thead th {\n",
              "        text-align: right;\n",
              "    }\n",
              "</style>\n",
              "<table border=\"1\" class=\"dataframe\">\n",
              "  <thead>\n",
              "    <tr style=\"text-align: right;\">\n",
              "      <th></th>\n",
              "      <th>product_id</th>\n",
              "      <th>product_category_name</th>\n",
              "      <th>product_photos_qty</th>\n",
              "      <th>product_category_name_english</th>\n",
              "    </tr>\n",
              "  </thead>\n",
              "  <tbody>\n",
              "    <tr>\n",
              "      <th>0</th>\n",
              "      <td>1e9e8ef04dbcff4541ed26657ea517e5</td>\n",
              "      <td>perfumaria</td>\n",
              "      <td>1.0</td>\n",
              "      <td>perfumery</td>\n",
              "    </tr>\n",
              "    <tr>\n",
              "      <th>1</th>\n",
              "      <td>3aa071139cb16b67ca9e5dea641aaa2f</td>\n",
              "      <td>artes</td>\n",
              "      <td>1.0</td>\n",
              "      <td>art</td>\n",
              "    </tr>\n",
              "    <tr>\n",
              "      <th>2</th>\n",
              "      <td>96bd76ec8810374ed1b65e291975717f</td>\n",
              "      <td>esporte_lazer</td>\n",
              "      <td>1.0</td>\n",
              "      <td>sports_leisure</td>\n",
              "    </tr>\n",
              "    <tr>\n",
              "      <th>3</th>\n",
              "      <td>cef67bcfe19066a932b7673e239eb23d</td>\n",
              "      <td>bebes</td>\n",
              "      <td>1.0</td>\n",
              "      <td>baby</td>\n",
              "    </tr>\n",
              "    <tr>\n",
              "      <th>4</th>\n",
              "      <td>9dc1a7de274444849c219cff195d0b71</td>\n",
              "      <td>utilidades_domesticas</td>\n",
              "      <td>4.0</td>\n",
              "      <td>housewares</td>\n",
              "    </tr>\n",
              "  </tbody>\n",
              "</table>\n",
              "</div>"
            ],
            "text/plain": [
              "                         product_id  product_category_name  \\\n",
              "0  1e9e8ef04dbcff4541ed26657ea517e5             perfumaria   \n",
              "1  3aa071139cb16b67ca9e5dea641aaa2f                  artes   \n",
              "2  96bd76ec8810374ed1b65e291975717f          esporte_lazer   \n",
              "3  cef67bcfe19066a932b7673e239eb23d                  bebes   \n",
              "4  9dc1a7de274444849c219cff195d0b71  utilidades_domesticas   \n",
              "\n",
              "   product_photos_qty product_category_name_english  \n",
              "0                 1.0                     perfumery  \n",
              "1                 1.0                           art  \n",
              "2                 1.0                sports_leisure  \n",
              "3                 1.0                          baby  \n",
              "4                 4.0                    housewares  "
            ]
          },
          "execution_count": 73,
          "metadata": {},
          "output_type": "execute_result"
        }
      ],
      "source": [
        "product_df = pd.merge(\n",
        "    left=data['products'],\n",
        "    right=data['category'],\n",
        "    how=\"left\",\n",
        "    left_on=\"product_category_name\",\n",
        "    right_on=\"product_category_name\"\n",
        ")\n",
        "product_df.head()"
      ]
    },
    {
      "cell_type": "code",
      "execution_count": 74,
      "metadata": {
        "colab": {
          "base_uri": "https://localhost:8080/",
          "height": 343
        },
        "id": "YRX5ZBxCLu-Q",
        "outputId": "52a5eeca-9a97-4cfc-ca48-8a1b58616311"
      },
      "outputs": [
        {
          "data": {
            "text/html": [
              "<div>\n",
              "<style scoped>\n",
              "    .dataframe tbody tr th:only-of-type {\n",
              "        vertical-align: middle;\n",
              "    }\n",
              "\n",
              "    .dataframe tbody tr th {\n",
              "        vertical-align: top;\n",
              "    }\n",
              "\n",
              "    .dataframe thead th {\n",
              "        text-align: right;\n",
              "    }\n",
              "</style>\n",
              "<table border=\"1\" class=\"dataframe\">\n",
              "  <thead>\n",
              "    <tr style=\"text-align: right;\">\n",
              "      <th></th>\n",
              "      <th>customer_id</th>\n",
              "      <th>customer_unique_id</th>\n",
              "      <th>customer_zip_code_prefix</th>\n",
              "      <th>customer_city</th>\n",
              "      <th>customer_state</th>\n",
              "      <th>order_id</th>\n",
              "      <th>order_status</th>\n",
              "      <th>order_purchase_timestamp</th>\n",
              "      <th>order_approved_at</th>\n",
              "      <th>order_delivered_carrier_date</th>\n",
              "      <th>...</th>\n",
              "      <th>payment_sequential</th>\n",
              "      <th>payment_type</th>\n",
              "      <th>payment_installments</th>\n",
              "      <th>payment_value</th>\n",
              "      <th>order_item_id</th>\n",
              "      <th>product_id</th>\n",
              "      <th>seller_id</th>\n",
              "      <th>shipping_limit_date</th>\n",
              "      <th>price</th>\n",
              "      <th>freight_value</th>\n",
              "    </tr>\n",
              "  </thead>\n",
              "  <tbody>\n",
              "    <tr>\n",
              "      <th>0</th>\n",
              "      <td>06b8999e2fba1a1fbc88172c00ba8bc7</td>\n",
              "      <td>861eff4711a542e4b93843c6dd7febb0</td>\n",
              "      <td>14409</td>\n",
              "      <td>franca</td>\n",
              "      <td>SP</td>\n",
              "      <td>00e7ee1b050b8499577073aeb2a297a1</td>\n",
              "      <td>delivered</td>\n",
              "      <td>2017-05-16 15:05:35</td>\n",
              "      <td>2017-05-16 15:22:12</td>\n",
              "      <td>2017-05-23 10:47:57</td>\n",
              "      <td>...</td>\n",
              "      <td>1.0</td>\n",
              "      <td>credit_card</td>\n",
              "      <td>2.0</td>\n",
              "      <td>146.87</td>\n",
              "      <td>1.0</td>\n",
              "      <td>a9516a079e37a9c9c36b9b78b10169e8</td>\n",
              "      <td>7c67e1448b00f6e969d365cea6b010ab</td>\n",
              "      <td>2017-05-22 15:22:12</td>\n",
              "      <td>124.99</td>\n",
              "      <td>21.88</td>\n",
              "    </tr>\n",
              "    <tr>\n",
              "      <th>1</th>\n",
              "      <td>18955e83d337fd6b2def6b18a428ac77</td>\n",
              "      <td>290c77bc529b7ac935b93aa66c333dc3</td>\n",
              "      <td>9790</td>\n",
              "      <td>sao bernardo do campo</td>\n",
              "      <td>SP</td>\n",
              "      <td>29150127e6685892b6eab3eec79f59c7</td>\n",
              "      <td>delivered</td>\n",
              "      <td>2018-01-12 20:48:24</td>\n",
              "      <td>2018-01-12 20:58:32</td>\n",
              "      <td>2018-01-15 17:14:59</td>\n",
              "      <td>...</td>\n",
              "      <td>1.0</td>\n",
              "      <td>credit_card</td>\n",
              "      <td>8.0</td>\n",
              "      <td>335.48</td>\n",
              "      <td>1.0</td>\n",
              "      <td>4aa6014eceb682077f9dc4bffebc05b0</td>\n",
              "      <td>b8bc237ba3788b23da09c0f1f3a3288c</td>\n",
              "      <td>2018-01-18 20:58:32</td>\n",
              "      <td>289.00</td>\n",
              "      <td>46.48</td>\n",
              "    </tr>\n",
              "    <tr>\n",
              "      <th>2</th>\n",
              "      <td>4e7b3e00288586ebd08712fdd0374a03</td>\n",
              "      <td>060e732b5b29e8181a18229c7b0b2b5e</td>\n",
              "      <td>1151</td>\n",
              "      <td>sao paulo</td>\n",
              "      <td>SP</td>\n",
              "      <td>b2059ed67ce144a36e2aa97d2c9e9ad2</td>\n",
              "      <td>delivered</td>\n",
              "      <td>2018-05-19 16:07:45</td>\n",
              "      <td>2018-05-20 16:19:10</td>\n",
              "      <td>2018-06-11 14:31:00</td>\n",
              "      <td>...</td>\n",
              "      <td>1.0</td>\n",
              "      <td>credit_card</td>\n",
              "      <td>7.0</td>\n",
              "      <td>157.73</td>\n",
              "      <td>1.0</td>\n",
              "      <td>bd07b66896d6f1494f5b86251848ced7</td>\n",
              "      <td>7c67e1448b00f6e969d365cea6b010ab</td>\n",
              "      <td>2018-06-05 16:19:10</td>\n",
              "      <td>139.94</td>\n",
              "      <td>17.79</td>\n",
              "    </tr>\n",
              "    <tr>\n",
              "      <th>3</th>\n",
              "      <td>b2b6027bc5c5109e529d4dc6358b12c3</td>\n",
              "      <td>259dac757896d24d7702b9acbbff3f3c</td>\n",
              "      <td>8775</td>\n",
              "      <td>mogi das cruzes</td>\n",
              "      <td>SP</td>\n",
              "      <td>951670f92359f4fe4a63112aa7306eba</td>\n",
              "      <td>delivered</td>\n",
              "      <td>2018-03-13 16:06:38</td>\n",
              "      <td>2018-03-13 17:29:19</td>\n",
              "      <td>2018-03-27 23:22:42</td>\n",
              "      <td>...</td>\n",
              "      <td>1.0</td>\n",
              "      <td>credit_card</td>\n",
              "      <td>1.0</td>\n",
              "      <td>173.30</td>\n",
              "      <td>1.0</td>\n",
              "      <td>a5647c44af977b148e0a3a4751a09e2e</td>\n",
              "      <td>7c67e1448b00f6e969d365cea6b010ab</td>\n",
              "      <td>2018-03-27 16:31:16</td>\n",
              "      <td>149.94</td>\n",
              "      <td>23.36</td>\n",
              "    </tr>\n",
              "    <tr>\n",
              "      <th>4</th>\n",
              "      <td>4f2d8ab171c80ec8364f7c12e35b23ad</td>\n",
              "      <td>345ecd01c38d18a9036ed96c73b8d066</td>\n",
              "      <td>13056</td>\n",
              "      <td>campinas</td>\n",
              "      <td>SP</td>\n",
              "      <td>6b7d50bd145f6fc7f33cebabd7e49d0f</td>\n",
              "      <td>delivered</td>\n",
              "      <td>2018-07-29 09:51:30</td>\n",
              "      <td>2018-07-29 10:10:09</td>\n",
              "      <td>2018-07-30 15:16:00</td>\n",
              "      <td>...</td>\n",
              "      <td>1.0</td>\n",
              "      <td>credit_card</td>\n",
              "      <td>8.0</td>\n",
              "      <td>252.25</td>\n",
              "      <td>1.0</td>\n",
              "      <td>9391a573abe00141c56e38d84d7d5b3b</td>\n",
              "      <td>4a3ca9315b744ce9f8e9374361493884</td>\n",
              "      <td>2018-07-31 10:10:09</td>\n",
              "      <td>230.00</td>\n",
              "      <td>22.25</td>\n",
              "    </tr>\n",
              "  </tbody>\n",
              "</table>\n",
              "<p>5 rows × 24 columns</p>\n",
              "</div>"
            ],
            "text/plain": [
              "                        customer_id                customer_unique_id  \\\n",
              "0  06b8999e2fba1a1fbc88172c00ba8bc7  861eff4711a542e4b93843c6dd7febb0   \n",
              "1  18955e83d337fd6b2def6b18a428ac77  290c77bc529b7ac935b93aa66c333dc3   \n",
              "2  4e7b3e00288586ebd08712fdd0374a03  060e732b5b29e8181a18229c7b0b2b5e   \n",
              "3  b2b6027bc5c5109e529d4dc6358b12c3  259dac757896d24d7702b9acbbff3f3c   \n",
              "4  4f2d8ab171c80ec8364f7c12e35b23ad  345ecd01c38d18a9036ed96c73b8d066   \n",
              "\n",
              "   customer_zip_code_prefix          customer_city customer_state  \\\n",
              "0                     14409                 franca             SP   \n",
              "1                      9790  sao bernardo do campo             SP   \n",
              "2                      1151              sao paulo             SP   \n",
              "3                      8775        mogi das cruzes             SP   \n",
              "4                     13056               campinas             SP   \n",
              "\n",
              "                           order_id order_status order_purchase_timestamp  \\\n",
              "0  00e7ee1b050b8499577073aeb2a297a1    delivered      2017-05-16 15:05:35   \n",
              "1  29150127e6685892b6eab3eec79f59c7    delivered      2018-01-12 20:48:24   \n",
              "2  b2059ed67ce144a36e2aa97d2c9e9ad2    delivered      2018-05-19 16:07:45   \n",
              "3  951670f92359f4fe4a63112aa7306eba    delivered      2018-03-13 16:06:38   \n",
              "4  6b7d50bd145f6fc7f33cebabd7e49d0f    delivered      2018-07-29 09:51:30   \n",
              "\n",
              "     order_approved_at order_delivered_carrier_date  ... payment_sequential  \\\n",
              "0  2017-05-16 15:22:12          2017-05-23 10:47:57  ...                1.0   \n",
              "1  2018-01-12 20:58:32          2018-01-15 17:14:59  ...                1.0   \n",
              "2  2018-05-20 16:19:10          2018-06-11 14:31:00  ...                1.0   \n",
              "3  2018-03-13 17:29:19          2018-03-27 23:22:42  ...                1.0   \n",
              "4  2018-07-29 10:10:09          2018-07-30 15:16:00  ...                1.0   \n",
              "\n",
              "  payment_type payment_installments  payment_value  order_item_id  \\\n",
              "0  credit_card                  2.0         146.87            1.0   \n",
              "1  credit_card                  8.0         335.48            1.0   \n",
              "2  credit_card                  7.0         157.73            1.0   \n",
              "3  credit_card                  1.0         173.30            1.0   \n",
              "4  credit_card                  8.0         252.25            1.0   \n",
              "\n",
              "                         product_id                         seller_id  \\\n",
              "0  a9516a079e37a9c9c36b9b78b10169e8  7c67e1448b00f6e969d365cea6b010ab   \n",
              "1  4aa6014eceb682077f9dc4bffebc05b0  b8bc237ba3788b23da09c0f1f3a3288c   \n",
              "2  bd07b66896d6f1494f5b86251848ced7  7c67e1448b00f6e969d365cea6b010ab   \n",
              "3  a5647c44af977b148e0a3a4751a09e2e  7c67e1448b00f6e969d365cea6b010ab   \n",
              "4  9391a573abe00141c56e38d84d7d5b3b  4a3ca9315b744ce9f8e9374361493884   \n",
              "\n",
              "   shipping_limit_date   price freight_value  \n",
              "0  2017-05-22 15:22:12  124.99         21.88  \n",
              "1  2018-01-18 20:58:32  289.00         46.48  \n",
              "2  2018-06-05 16:19:10  139.94         17.79  \n",
              "3  2018-03-27 16:31:16  149.94         23.36  \n",
              "4  2018-07-31 10:10:09  230.00         22.25  \n",
              "\n",
              "[5 rows x 24 columns]"
            ]
          },
          "execution_count": 74,
          "metadata": {},
          "output_type": "execute_result"
        }
      ],
      "source": [
        "M2=pd.merge(\n",
        "    left=M1,\n",
        "    right=items,\n",
        "    how='left',\n",
        "    left_on='order_id',\n",
        "    right_on='order_id'\n",
        ")\n",
        "M2.head()"
      ]
    },
    {
      "cell_type": "code",
      "execution_count": 75,
      "metadata": {
        "colab": {
          "base_uri": "https://localhost:8080/",
          "height": 343
        },
        "id": "bfYCIJt-Lrvw",
        "outputId": "cf6a38d9-c9ed-4131-ca98-2cb127cc077f"
      },
      "outputs": [
        {
          "data": {
            "text/html": [
              "<div>\n",
              "<style scoped>\n",
              "    .dataframe tbody tr th:only-of-type {\n",
              "        vertical-align: middle;\n",
              "    }\n",
              "\n",
              "    .dataframe tbody tr th {\n",
              "        vertical-align: top;\n",
              "    }\n",
              "\n",
              "    .dataframe thead th {\n",
              "        text-align: right;\n",
              "    }\n",
              "</style>\n",
              "<table border=\"1\" class=\"dataframe\">\n",
              "  <thead>\n",
              "    <tr style=\"text-align: right;\">\n",
              "      <th></th>\n",
              "      <th>customer_id</th>\n",
              "      <th>customer_unique_id</th>\n",
              "      <th>customer_zip_code_prefix</th>\n",
              "      <th>customer_city</th>\n",
              "      <th>customer_state</th>\n",
              "      <th>order_id</th>\n",
              "      <th>order_status</th>\n",
              "      <th>order_purchase_timestamp</th>\n",
              "      <th>order_approved_at</th>\n",
              "      <th>order_delivered_carrier_date</th>\n",
              "      <th>...</th>\n",
              "      <th>payment_value</th>\n",
              "      <th>order_item_id</th>\n",
              "      <th>product_id</th>\n",
              "      <th>seller_id</th>\n",
              "      <th>shipping_limit_date</th>\n",
              "      <th>price</th>\n",
              "      <th>freight_value</th>\n",
              "      <th>seller_zip_code_prefix</th>\n",
              "      <th>seller_city</th>\n",
              "      <th>seller_state</th>\n",
              "    </tr>\n",
              "  </thead>\n",
              "  <tbody>\n",
              "    <tr>\n",
              "      <th>0</th>\n",
              "      <td>06b8999e2fba1a1fbc88172c00ba8bc7</td>\n",
              "      <td>861eff4711a542e4b93843c6dd7febb0</td>\n",
              "      <td>14409</td>\n",
              "      <td>franca</td>\n",
              "      <td>SP</td>\n",
              "      <td>00e7ee1b050b8499577073aeb2a297a1</td>\n",
              "      <td>delivered</td>\n",
              "      <td>2017-05-16 15:05:35</td>\n",
              "      <td>2017-05-16 15:22:12</td>\n",
              "      <td>2017-05-23 10:47:57</td>\n",
              "      <td>...</td>\n",
              "      <td>146.87</td>\n",
              "      <td>1.0</td>\n",
              "      <td>a9516a079e37a9c9c36b9b78b10169e8</td>\n",
              "      <td>7c67e1448b00f6e969d365cea6b010ab</td>\n",
              "      <td>2017-05-22 15:22:12</td>\n",
              "      <td>124.99</td>\n",
              "      <td>21.88</td>\n",
              "      <td>8577.0</td>\n",
              "      <td>itaquaquecetuba</td>\n",
              "      <td>SP</td>\n",
              "    </tr>\n",
              "    <tr>\n",
              "      <th>1</th>\n",
              "      <td>18955e83d337fd6b2def6b18a428ac77</td>\n",
              "      <td>290c77bc529b7ac935b93aa66c333dc3</td>\n",
              "      <td>9790</td>\n",
              "      <td>sao bernardo do campo</td>\n",
              "      <td>SP</td>\n",
              "      <td>29150127e6685892b6eab3eec79f59c7</td>\n",
              "      <td>delivered</td>\n",
              "      <td>2018-01-12 20:48:24</td>\n",
              "      <td>2018-01-12 20:58:32</td>\n",
              "      <td>2018-01-15 17:14:59</td>\n",
              "      <td>...</td>\n",
              "      <td>335.48</td>\n",
              "      <td>1.0</td>\n",
              "      <td>4aa6014eceb682077f9dc4bffebc05b0</td>\n",
              "      <td>b8bc237ba3788b23da09c0f1f3a3288c</td>\n",
              "      <td>2018-01-18 20:58:32</td>\n",
              "      <td>289.00</td>\n",
              "      <td>46.48</td>\n",
              "      <td>88303.0</td>\n",
              "      <td>itajai</td>\n",
              "      <td>SC</td>\n",
              "    </tr>\n",
              "    <tr>\n",
              "      <th>2</th>\n",
              "      <td>4e7b3e00288586ebd08712fdd0374a03</td>\n",
              "      <td>060e732b5b29e8181a18229c7b0b2b5e</td>\n",
              "      <td>1151</td>\n",
              "      <td>sao paulo</td>\n",
              "      <td>SP</td>\n",
              "      <td>b2059ed67ce144a36e2aa97d2c9e9ad2</td>\n",
              "      <td>delivered</td>\n",
              "      <td>2018-05-19 16:07:45</td>\n",
              "      <td>2018-05-20 16:19:10</td>\n",
              "      <td>2018-06-11 14:31:00</td>\n",
              "      <td>...</td>\n",
              "      <td>157.73</td>\n",
              "      <td>1.0</td>\n",
              "      <td>bd07b66896d6f1494f5b86251848ced7</td>\n",
              "      <td>7c67e1448b00f6e969d365cea6b010ab</td>\n",
              "      <td>2018-06-05 16:19:10</td>\n",
              "      <td>139.94</td>\n",
              "      <td>17.79</td>\n",
              "      <td>8577.0</td>\n",
              "      <td>itaquaquecetuba</td>\n",
              "      <td>SP</td>\n",
              "    </tr>\n",
              "    <tr>\n",
              "      <th>3</th>\n",
              "      <td>b2b6027bc5c5109e529d4dc6358b12c3</td>\n",
              "      <td>259dac757896d24d7702b9acbbff3f3c</td>\n",
              "      <td>8775</td>\n",
              "      <td>mogi das cruzes</td>\n",
              "      <td>SP</td>\n",
              "      <td>951670f92359f4fe4a63112aa7306eba</td>\n",
              "      <td>delivered</td>\n",
              "      <td>2018-03-13 16:06:38</td>\n",
              "      <td>2018-03-13 17:29:19</td>\n",
              "      <td>2018-03-27 23:22:42</td>\n",
              "      <td>...</td>\n",
              "      <td>173.30</td>\n",
              "      <td>1.0</td>\n",
              "      <td>a5647c44af977b148e0a3a4751a09e2e</td>\n",
              "      <td>7c67e1448b00f6e969d365cea6b010ab</td>\n",
              "      <td>2018-03-27 16:31:16</td>\n",
              "      <td>149.94</td>\n",
              "      <td>23.36</td>\n",
              "      <td>8577.0</td>\n",
              "      <td>itaquaquecetuba</td>\n",
              "      <td>SP</td>\n",
              "    </tr>\n",
              "    <tr>\n",
              "      <th>4</th>\n",
              "      <td>4f2d8ab171c80ec8364f7c12e35b23ad</td>\n",
              "      <td>345ecd01c38d18a9036ed96c73b8d066</td>\n",
              "      <td>13056</td>\n",
              "      <td>campinas</td>\n",
              "      <td>SP</td>\n",
              "      <td>6b7d50bd145f6fc7f33cebabd7e49d0f</td>\n",
              "      <td>delivered</td>\n",
              "      <td>2018-07-29 09:51:30</td>\n",
              "      <td>2018-07-29 10:10:09</td>\n",
              "      <td>2018-07-30 15:16:00</td>\n",
              "      <td>...</td>\n",
              "      <td>252.25</td>\n",
              "      <td>1.0</td>\n",
              "      <td>9391a573abe00141c56e38d84d7d5b3b</td>\n",
              "      <td>4a3ca9315b744ce9f8e9374361493884</td>\n",
              "      <td>2018-07-31 10:10:09</td>\n",
              "      <td>230.00</td>\n",
              "      <td>22.25</td>\n",
              "      <td>14940.0</td>\n",
              "      <td>ibitinga</td>\n",
              "      <td>SP</td>\n",
              "    </tr>\n",
              "  </tbody>\n",
              "</table>\n",
              "<p>5 rows × 27 columns</p>\n",
              "</div>"
            ],
            "text/plain": [
              "                        customer_id                customer_unique_id  \\\n",
              "0  06b8999e2fba1a1fbc88172c00ba8bc7  861eff4711a542e4b93843c6dd7febb0   \n",
              "1  18955e83d337fd6b2def6b18a428ac77  290c77bc529b7ac935b93aa66c333dc3   \n",
              "2  4e7b3e00288586ebd08712fdd0374a03  060e732b5b29e8181a18229c7b0b2b5e   \n",
              "3  b2b6027bc5c5109e529d4dc6358b12c3  259dac757896d24d7702b9acbbff3f3c   \n",
              "4  4f2d8ab171c80ec8364f7c12e35b23ad  345ecd01c38d18a9036ed96c73b8d066   \n",
              "\n",
              "   customer_zip_code_prefix          customer_city customer_state  \\\n",
              "0                     14409                 franca             SP   \n",
              "1                      9790  sao bernardo do campo             SP   \n",
              "2                      1151              sao paulo             SP   \n",
              "3                      8775        mogi das cruzes             SP   \n",
              "4                     13056               campinas             SP   \n",
              "\n",
              "                           order_id order_status order_purchase_timestamp  \\\n",
              "0  00e7ee1b050b8499577073aeb2a297a1    delivered      2017-05-16 15:05:35   \n",
              "1  29150127e6685892b6eab3eec79f59c7    delivered      2018-01-12 20:48:24   \n",
              "2  b2059ed67ce144a36e2aa97d2c9e9ad2    delivered      2018-05-19 16:07:45   \n",
              "3  951670f92359f4fe4a63112aa7306eba    delivered      2018-03-13 16:06:38   \n",
              "4  6b7d50bd145f6fc7f33cebabd7e49d0f    delivered      2018-07-29 09:51:30   \n",
              "\n",
              "     order_approved_at order_delivered_carrier_date  ... payment_value  \\\n",
              "0  2017-05-16 15:22:12          2017-05-23 10:47:57  ...        146.87   \n",
              "1  2018-01-12 20:58:32          2018-01-15 17:14:59  ...        335.48   \n",
              "2  2018-05-20 16:19:10          2018-06-11 14:31:00  ...        157.73   \n",
              "3  2018-03-13 17:29:19          2018-03-27 23:22:42  ...        173.30   \n",
              "4  2018-07-29 10:10:09          2018-07-30 15:16:00  ...        252.25   \n",
              "\n",
              "  order_item_id                        product_id  \\\n",
              "0           1.0  a9516a079e37a9c9c36b9b78b10169e8   \n",
              "1           1.0  4aa6014eceb682077f9dc4bffebc05b0   \n",
              "2           1.0  bd07b66896d6f1494f5b86251848ced7   \n",
              "3           1.0  a5647c44af977b148e0a3a4751a09e2e   \n",
              "4           1.0  9391a573abe00141c56e38d84d7d5b3b   \n",
              "\n",
              "                          seller_id  shipping_limit_date   price  \\\n",
              "0  7c67e1448b00f6e969d365cea6b010ab  2017-05-22 15:22:12  124.99   \n",
              "1  b8bc237ba3788b23da09c0f1f3a3288c  2018-01-18 20:58:32  289.00   \n",
              "2  7c67e1448b00f6e969d365cea6b010ab  2018-06-05 16:19:10  139.94   \n",
              "3  7c67e1448b00f6e969d365cea6b010ab  2018-03-27 16:31:16  149.94   \n",
              "4  4a3ca9315b744ce9f8e9374361493884  2018-07-31 10:10:09  230.00   \n",
              "\n",
              "   freight_value  seller_zip_code_prefix      seller_city seller_state  \n",
              "0          21.88                  8577.0  itaquaquecetuba           SP  \n",
              "1          46.48                 88303.0           itajai           SC  \n",
              "2          17.79                  8577.0  itaquaquecetuba           SP  \n",
              "3          23.36                  8577.0  itaquaquecetuba           SP  \n",
              "4          22.25                 14940.0         ibitinga           SP  \n",
              "\n",
              "[5 rows x 27 columns]"
            ]
          },
          "execution_count": 75,
          "metadata": {},
          "output_type": "execute_result"
        }
      ],
      "source": [
        "M3=pd.merge(\n",
        "    left=M2,\n",
        "    right=sellers,\n",
        "    how='left',\n",
        "    left_on='seller_id',\n",
        "    right_on='seller_id'\n",
        ")\n",
        "M3.head()"
      ]
    },
    {
      "cell_type": "code",
      "execution_count": 76,
      "metadata": {
        "colab": {
          "base_uri": "https://localhost:8080/",
          "height": 617
        },
        "id": "r8zye0XJLnO_",
        "outputId": "7b09f926-d9b9-46f6-9af4-1266356b581e"
      },
      "outputs": [
        {
          "data": {
            "text/html": [
              "<div>\n",
              "<style scoped>\n",
              "    .dataframe tbody tr th:only-of-type {\n",
              "        vertical-align: middle;\n",
              "    }\n",
              "\n",
              "    .dataframe tbody tr th {\n",
              "        vertical-align: top;\n",
              "    }\n",
              "\n",
              "    .dataframe thead th {\n",
              "        text-align: right;\n",
              "    }\n",
              "</style>\n",
              "<table border=\"1\" class=\"dataframe\">\n",
              "  <thead>\n",
              "    <tr style=\"text-align: right;\">\n",
              "      <th></th>\n",
              "      <th>customer_id</th>\n",
              "      <th>customer_unique_id</th>\n",
              "      <th>customer_zip_code_prefix</th>\n",
              "      <th>customer_city</th>\n",
              "      <th>customer_state</th>\n",
              "      <th>order_id</th>\n",
              "      <th>order_status</th>\n",
              "      <th>order_purchase_timestamp</th>\n",
              "      <th>order_approved_at</th>\n",
              "      <th>order_delivered_carrier_date</th>\n",
              "      <th>...</th>\n",
              "      <th>price</th>\n",
              "      <th>freight_value</th>\n",
              "      <th>seller_zip_code_prefix</th>\n",
              "      <th>seller_city</th>\n",
              "      <th>seller_state</th>\n",
              "      <th>review_id</th>\n",
              "      <th>review_score</th>\n",
              "      <th>review_comment_message</th>\n",
              "      <th>review_creation_date</th>\n",
              "      <th>review_answer_timestamp</th>\n",
              "    </tr>\n",
              "  </thead>\n",
              "  <tbody>\n",
              "    <tr>\n",
              "      <th>0</th>\n",
              "      <td>06b8999e2fba1a1fbc88172c00ba8bc7</td>\n",
              "      <td>861eff4711a542e4b93843c6dd7febb0</td>\n",
              "      <td>14409</td>\n",
              "      <td>franca</td>\n",
              "      <td>SP</td>\n",
              "      <td>00e7ee1b050b8499577073aeb2a297a1</td>\n",
              "      <td>delivered</td>\n",
              "      <td>2017-05-16 15:05:35</td>\n",
              "      <td>2017-05-16 15:22:12</td>\n",
              "      <td>2017-05-23 10:47:57</td>\n",
              "      <td>...</td>\n",
              "      <td>124.99</td>\n",
              "      <td>21.88</td>\n",
              "      <td>8577.0</td>\n",
              "      <td>itaquaquecetuba</td>\n",
              "      <td>SP</td>\n",
              "      <td>88b8b52d46df026a9d1ad2136a59b30b</td>\n",
              "      <td>4.0</td>\n",
              "      <td>0.0</td>\n",
              "      <td>2017-05-26 00:00:00</td>\n",
              "      <td>2017-05-30 22:34:40</td>\n",
              "    </tr>\n",
              "    <tr>\n",
              "      <th>1</th>\n",
              "      <td>18955e83d337fd6b2def6b18a428ac77</td>\n",
              "      <td>290c77bc529b7ac935b93aa66c333dc3</td>\n",
              "      <td>9790</td>\n",
              "      <td>sao bernardo do campo</td>\n",
              "      <td>SP</td>\n",
              "      <td>29150127e6685892b6eab3eec79f59c7</td>\n",
              "      <td>delivered</td>\n",
              "      <td>2018-01-12 20:48:24</td>\n",
              "      <td>2018-01-12 20:58:32</td>\n",
              "      <td>2018-01-15 17:14:59</td>\n",
              "      <td>...</td>\n",
              "      <td>289.00</td>\n",
              "      <td>46.48</td>\n",
              "      <td>88303.0</td>\n",
              "      <td>itajai</td>\n",
              "      <td>SC</td>\n",
              "      <td>02fc48a9efa3e3d0f1a8ea26507eeec3</td>\n",
              "      <td>5.0</td>\n",
              "      <td>0.0</td>\n",
              "      <td>2018-01-30 00:00:00</td>\n",
              "      <td>2018-02-10 22:43:29</td>\n",
              "    </tr>\n",
              "    <tr>\n",
              "      <th>2</th>\n",
              "      <td>4e7b3e00288586ebd08712fdd0374a03</td>\n",
              "      <td>060e732b5b29e8181a18229c7b0b2b5e</td>\n",
              "      <td>1151</td>\n",
              "      <td>sao paulo</td>\n",
              "      <td>SP</td>\n",
              "      <td>b2059ed67ce144a36e2aa97d2c9e9ad2</td>\n",
              "      <td>delivered</td>\n",
              "      <td>2018-05-19 16:07:45</td>\n",
              "      <td>2018-05-20 16:19:10</td>\n",
              "      <td>2018-06-11 14:31:00</td>\n",
              "      <td>...</td>\n",
              "      <td>139.94</td>\n",
              "      <td>17.79</td>\n",
              "      <td>8577.0</td>\n",
              "      <td>itaquaquecetuba</td>\n",
              "      <td>SP</td>\n",
              "      <td>5ad6695d76ee186dc473c42706984d87</td>\n",
              "      <td>5.0</td>\n",
              "      <td>0.0</td>\n",
              "      <td>2018-06-15 00:00:00</td>\n",
              "      <td>2018-06-15 12:10:59</td>\n",
              "    </tr>\n",
              "    <tr>\n",
              "      <th>3</th>\n",
              "      <td>b2b6027bc5c5109e529d4dc6358b12c3</td>\n",
              "      <td>259dac757896d24d7702b9acbbff3f3c</td>\n",
              "      <td>8775</td>\n",
              "      <td>mogi das cruzes</td>\n",
              "      <td>SP</td>\n",
              "      <td>951670f92359f4fe4a63112aa7306eba</td>\n",
              "      <td>delivered</td>\n",
              "      <td>2018-03-13 16:06:38</td>\n",
              "      <td>2018-03-13 17:29:19</td>\n",
              "      <td>2018-03-27 23:22:42</td>\n",
              "      <td>...</td>\n",
              "      <td>149.94</td>\n",
              "      <td>23.36</td>\n",
              "      <td>8577.0</td>\n",
              "      <td>itaquaquecetuba</td>\n",
              "      <td>SP</td>\n",
              "      <td>059a801bb31f6aab2266e672cab87bc5</td>\n",
              "      <td>5.0</td>\n",
              "      <td>0.0</td>\n",
              "      <td>2018-03-29 00:00:00</td>\n",
              "      <td>2018-04-02 18:36:47</td>\n",
              "    </tr>\n",
              "    <tr>\n",
              "      <th>4</th>\n",
              "      <td>4f2d8ab171c80ec8364f7c12e35b23ad</td>\n",
              "      <td>345ecd01c38d18a9036ed96c73b8d066</td>\n",
              "      <td>13056</td>\n",
              "      <td>campinas</td>\n",
              "      <td>SP</td>\n",
              "      <td>6b7d50bd145f6fc7f33cebabd7e49d0f</td>\n",
              "      <td>delivered</td>\n",
              "      <td>2018-07-29 09:51:30</td>\n",
              "      <td>2018-07-29 10:10:09</td>\n",
              "      <td>2018-07-30 15:16:00</td>\n",
              "      <td>...</td>\n",
              "      <td>230.00</td>\n",
              "      <td>22.25</td>\n",
              "      <td>14940.0</td>\n",
              "      <td>ibitinga</td>\n",
              "      <td>SP</td>\n",
              "      <td>8490879d58d6c5d7773f2739a03f089a</td>\n",
              "      <td>5.0</td>\n",
              "      <td>1.0</td>\n",
              "      <td>2018-08-10 00:00:00</td>\n",
              "      <td>2018-08-17 01:59:52</td>\n",
              "    </tr>\n",
              "    <tr>\n",
              "      <th>...</th>\n",
              "      <td>...</td>\n",
              "      <td>...</td>\n",
              "      <td>...</td>\n",
              "      <td>...</td>\n",
              "      <td>...</td>\n",
              "      <td>...</td>\n",
              "      <td>...</td>\n",
              "      <td>...</td>\n",
              "      <td>...</td>\n",
              "      <td>...</td>\n",
              "      <td>...</td>\n",
              "      <td>...</td>\n",
              "      <td>...</td>\n",
              "      <td>...</td>\n",
              "      <td>...</td>\n",
              "      <td>...</td>\n",
              "      <td>...</td>\n",
              "      <td>...</td>\n",
              "      <td>...</td>\n",
              "      <td>...</td>\n",
              "      <td>...</td>\n",
              "    </tr>\n",
              "    <tr>\n",
              "      <th>118681</th>\n",
              "      <td>17ddf5dd5d51696bb3d7c6291687be6f</td>\n",
              "      <td>1a29b476fee25c95fbafc67c5ac95cf8</td>\n",
              "      <td>3937</td>\n",
              "      <td>sao paulo</td>\n",
              "      <td>SP</td>\n",
              "      <td>6760e20addcf0121e9d58f2f1ff14298</td>\n",
              "      <td>delivered</td>\n",
              "      <td>2018-04-07 15:48:17</td>\n",
              "      <td>2018-04-07 16:08:45</td>\n",
              "      <td>2018-04-11 02:08:36</td>\n",
              "      <td>...</td>\n",
              "      <td>74.90</td>\n",
              "      <td>13.88</td>\n",
              "      <td>17400.0</td>\n",
              "      <td>garca</td>\n",
              "      <td>SP</td>\n",
              "      <td>36e2cdbaa9f639b57c53b37ac798fee8</td>\n",
              "      <td>4.0</td>\n",
              "      <td>0.0</td>\n",
              "      <td>2018-04-14 00:00:00</td>\n",
              "      <td>2018-04-28 11:15:04</td>\n",
              "    </tr>\n",
              "    <tr>\n",
              "      <th>118682</th>\n",
              "      <td>e7b71a9017aa05c9a7fd292d714858e8</td>\n",
              "      <td>d52a67c98be1cf6a5c84435bd38d095d</td>\n",
              "      <td>6764</td>\n",
              "      <td>taboao da serra</td>\n",
              "      <td>SP</td>\n",
              "      <td>9ec0c8947d973db4f4e8dcf1fbfa8f1b</td>\n",
              "      <td>delivered</td>\n",
              "      <td>2018-04-04 08:20:22</td>\n",
              "      <td>2018-04-04 08:35:12</td>\n",
              "      <td>2018-04-05 18:42:35</td>\n",
              "      <td>...</td>\n",
              "      <td>114.90</td>\n",
              "      <td>14.16</td>\n",
              "      <td>14802.0</td>\n",
              "      <td>araraquara</td>\n",
              "      <td>SP</td>\n",
              "      <td>b273b431c3aedb4eed18643309652940</td>\n",
              "      <td>5.0</td>\n",
              "      <td>0.0</td>\n",
              "      <td>2018-04-12 00:00:00</td>\n",
              "      <td>2018-04-16 10:36:05</td>\n",
              "    </tr>\n",
              "    <tr>\n",
              "      <th>118683</th>\n",
              "      <td>5e28dfe12db7fb50a4b2f691faecea5e</td>\n",
              "      <td>e9f50caf99f032f0bf3c55141f019d99</td>\n",
              "      <td>60115</td>\n",
              "      <td>fortaleza</td>\n",
              "      <td>CE</td>\n",
              "      <td>fed4434add09a6f332ea398efd656a5c</td>\n",
              "      <td>delivered</td>\n",
              "      <td>2018-04-08 20:11:50</td>\n",
              "      <td>2018-04-08 20:30:03</td>\n",
              "      <td>2018-04-09 17:52:17</td>\n",
              "      <td>...</td>\n",
              "      <td>37.00</td>\n",
              "      <td>19.04</td>\n",
              "      <td>3304.0</td>\n",
              "      <td>sao paulo</td>\n",
              "      <td>SP</td>\n",
              "      <td>fa4f16891e6b2edd1354668d07f5648b</td>\n",
              "      <td>1.0</td>\n",
              "      <td>1.0</td>\n",
              "      <td>2018-05-04 00:00:00</td>\n",
              "      <td>2018-05-08 01:41:07</td>\n",
              "    </tr>\n",
              "    <tr>\n",
              "      <th>118684</th>\n",
              "      <td>56b18e2166679b8a959d72dd06da27f9</td>\n",
              "      <td>73c2643a0a458b49f58cea58833b192e</td>\n",
              "      <td>92120</td>\n",
              "      <td>canoas</td>\n",
              "      <td>RS</td>\n",
              "      <td>e31ec91cea1ecf97797787471f98a8c2</td>\n",
              "      <td>delivered</td>\n",
              "      <td>2017-11-03 21:08:33</td>\n",
              "      <td>2017-11-03 21:31:20</td>\n",
              "      <td>2017-11-06 18:24:41</td>\n",
              "      <td>...</td>\n",
              "      <td>689.00</td>\n",
              "      <td>22.07</td>\n",
              "      <td>14840.0</td>\n",
              "      <td>guariba</td>\n",
              "      <td>SP</td>\n",
              "      <td>0bcdc9e450ea500811a8d39ee993cd47</td>\n",
              "      <td>5.0</td>\n",
              "      <td>0.0</td>\n",
              "      <td>2017-11-17 00:00:00</td>\n",
              "      <td>2017-11-19 23:34:18</td>\n",
              "    </tr>\n",
              "    <tr>\n",
              "      <th>118685</th>\n",
              "      <td>274fa6071e5e17fe303b9748641082c8</td>\n",
              "      <td>84732c5050c01db9b23e19ba39899398</td>\n",
              "      <td>6703</td>\n",
              "      <td>cotia</td>\n",
              "      <td>SP</td>\n",
              "      <td>28db69209a75e59f20ccbb5c36a20b90</td>\n",
              "      <td>delivered</td>\n",
              "      <td>2017-12-19 14:27:23</td>\n",
              "      <td>2017-12-19 18:50:39</td>\n",
              "      <td>2017-12-21 19:17:21</td>\n",
              "      <td>...</td>\n",
              "      <td>13.99</td>\n",
              "      <td>7.78</td>\n",
              "      <td>3804.0</td>\n",
              "      <td>sao paulo</td>\n",
              "      <td>SP</td>\n",
              "      <td>d95d701d062d2bb88041768a63aa750d</td>\n",
              "      <td>5.0</td>\n",
              "      <td>1.0</td>\n",
              "      <td>2017-12-27 00:00:00</td>\n",
              "      <td>2017-12-27 23:21:06</td>\n",
              "    </tr>\n",
              "  </tbody>\n",
              "</table>\n",
              "<p>118686 rows × 32 columns</p>\n",
              "</div>"
            ],
            "text/plain": [
              "                             customer_id                customer_unique_id  \\\n",
              "0       06b8999e2fba1a1fbc88172c00ba8bc7  861eff4711a542e4b93843c6dd7febb0   \n",
              "1       18955e83d337fd6b2def6b18a428ac77  290c77bc529b7ac935b93aa66c333dc3   \n",
              "2       4e7b3e00288586ebd08712fdd0374a03  060e732b5b29e8181a18229c7b0b2b5e   \n",
              "3       b2b6027bc5c5109e529d4dc6358b12c3  259dac757896d24d7702b9acbbff3f3c   \n",
              "4       4f2d8ab171c80ec8364f7c12e35b23ad  345ecd01c38d18a9036ed96c73b8d066   \n",
              "...                                  ...                               ...   \n",
              "118681  17ddf5dd5d51696bb3d7c6291687be6f  1a29b476fee25c95fbafc67c5ac95cf8   \n",
              "118682  e7b71a9017aa05c9a7fd292d714858e8  d52a67c98be1cf6a5c84435bd38d095d   \n",
              "118683  5e28dfe12db7fb50a4b2f691faecea5e  e9f50caf99f032f0bf3c55141f019d99   \n",
              "118684  56b18e2166679b8a959d72dd06da27f9  73c2643a0a458b49f58cea58833b192e   \n",
              "118685  274fa6071e5e17fe303b9748641082c8  84732c5050c01db9b23e19ba39899398   \n",
              "\n",
              "        customer_zip_code_prefix          customer_city customer_state  \\\n",
              "0                          14409                 franca             SP   \n",
              "1                           9790  sao bernardo do campo             SP   \n",
              "2                           1151              sao paulo             SP   \n",
              "3                           8775        mogi das cruzes             SP   \n",
              "4                          13056               campinas             SP   \n",
              "...                          ...                    ...            ...   \n",
              "118681                      3937              sao paulo             SP   \n",
              "118682                      6764        taboao da serra             SP   \n",
              "118683                     60115              fortaleza             CE   \n",
              "118684                     92120                 canoas             RS   \n",
              "118685                      6703                  cotia             SP   \n",
              "\n",
              "                                order_id order_status  \\\n",
              "0       00e7ee1b050b8499577073aeb2a297a1    delivered   \n",
              "1       29150127e6685892b6eab3eec79f59c7    delivered   \n",
              "2       b2059ed67ce144a36e2aa97d2c9e9ad2    delivered   \n",
              "3       951670f92359f4fe4a63112aa7306eba    delivered   \n",
              "4       6b7d50bd145f6fc7f33cebabd7e49d0f    delivered   \n",
              "...                                  ...          ...   \n",
              "118681  6760e20addcf0121e9d58f2f1ff14298    delivered   \n",
              "118682  9ec0c8947d973db4f4e8dcf1fbfa8f1b    delivered   \n",
              "118683  fed4434add09a6f332ea398efd656a5c    delivered   \n",
              "118684  e31ec91cea1ecf97797787471f98a8c2    delivered   \n",
              "118685  28db69209a75e59f20ccbb5c36a20b90    delivered   \n",
              "\n",
              "       order_purchase_timestamp    order_approved_at  \\\n",
              "0           2017-05-16 15:05:35  2017-05-16 15:22:12   \n",
              "1           2018-01-12 20:48:24  2018-01-12 20:58:32   \n",
              "2           2018-05-19 16:07:45  2018-05-20 16:19:10   \n",
              "3           2018-03-13 16:06:38  2018-03-13 17:29:19   \n",
              "4           2018-07-29 09:51:30  2018-07-29 10:10:09   \n",
              "...                         ...                  ...   \n",
              "118681      2018-04-07 15:48:17  2018-04-07 16:08:45   \n",
              "118682      2018-04-04 08:20:22  2018-04-04 08:35:12   \n",
              "118683      2018-04-08 20:11:50  2018-04-08 20:30:03   \n",
              "118684      2017-11-03 21:08:33  2017-11-03 21:31:20   \n",
              "118685      2017-12-19 14:27:23  2017-12-19 18:50:39   \n",
              "\n",
              "       order_delivered_carrier_date  ...   price freight_value  \\\n",
              "0               2017-05-23 10:47:57  ...  124.99         21.88   \n",
              "1               2018-01-15 17:14:59  ...  289.00         46.48   \n",
              "2               2018-06-11 14:31:00  ...  139.94         17.79   \n",
              "3               2018-03-27 23:22:42  ...  149.94         23.36   \n",
              "4               2018-07-30 15:16:00  ...  230.00         22.25   \n",
              "...                             ...  ...     ...           ...   \n",
              "118681          2018-04-11 02:08:36  ...   74.90         13.88   \n",
              "118682          2018-04-05 18:42:35  ...  114.90         14.16   \n",
              "118683          2018-04-09 17:52:17  ...   37.00         19.04   \n",
              "118684          2017-11-06 18:24:41  ...  689.00         22.07   \n",
              "118685          2017-12-21 19:17:21  ...   13.99          7.78   \n",
              "\n",
              "       seller_zip_code_prefix      seller_city  seller_state  \\\n",
              "0                      8577.0  itaquaquecetuba            SP   \n",
              "1                     88303.0           itajai            SC   \n",
              "2                      8577.0  itaquaquecetuba            SP   \n",
              "3                      8577.0  itaquaquecetuba            SP   \n",
              "4                     14940.0         ibitinga            SP   \n",
              "...                       ...              ...           ...   \n",
              "118681                17400.0            garca            SP   \n",
              "118682                14802.0       araraquara            SP   \n",
              "118683                 3304.0        sao paulo            SP   \n",
              "118684                14840.0          guariba            SP   \n",
              "118685                 3804.0        sao paulo            SP   \n",
              "\n",
              "                               review_id  review_score  \\\n",
              "0       88b8b52d46df026a9d1ad2136a59b30b           4.0   \n",
              "1       02fc48a9efa3e3d0f1a8ea26507eeec3           5.0   \n",
              "2       5ad6695d76ee186dc473c42706984d87           5.0   \n",
              "3       059a801bb31f6aab2266e672cab87bc5           5.0   \n",
              "4       8490879d58d6c5d7773f2739a03f089a           5.0   \n",
              "...                                  ...           ...   \n",
              "118681  36e2cdbaa9f639b57c53b37ac798fee8           4.0   \n",
              "118682  b273b431c3aedb4eed18643309652940           5.0   \n",
              "118683  fa4f16891e6b2edd1354668d07f5648b           1.0   \n",
              "118684  0bcdc9e450ea500811a8d39ee993cd47           5.0   \n",
              "118685  d95d701d062d2bb88041768a63aa750d           5.0   \n",
              "\n",
              "        review_comment_message  review_creation_date review_answer_timestamp  \n",
              "0                          0.0   2017-05-26 00:00:00     2017-05-30 22:34:40  \n",
              "1                          0.0   2018-01-30 00:00:00     2018-02-10 22:43:29  \n",
              "2                          0.0   2018-06-15 00:00:00     2018-06-15 12:10:59  \n",
              "3                          0.0   2018-03-29 00:00:00     2018-04-02 18:36:47  \n",
              "4                          1.0   2018-08-10 00:00:00     2018-08-17 01:59:52  \n",
              "...                        ...                   ...                     ...  \n",
              "118681                     0.0   2018-04-14 00:00:00     2018-04-28 11:15:04  \n",
              "118682                     0.0   2018-04-12 00:00:00     2018-04-16 10:36:05  \n",
              "118683                     1.0   2018-05-04 00:00:00     2018-05-08 01:41:07  \n",
              "118684                     0.0   2017-11-17 00:00:00     2017-11-19 23:34:18  \n",
              "118685                     1.0   2017-12-27 00:00:00     2017-12-27 23:21:06  \n",
              "\n",
              "[118686 rows x 32 columns]"
            ]
          },
          "execution_count": 76,
          "metadata": {},
          "output_type": "execute_result"
        }
      ],
      "source": [
        "all_data=pd.merge(\n",
        "    left=M3,\n",
        "    right=reviews,\n",
        "    how='left',\n",
        "    left_on='order_id',\n",
        "    right_on='order_id'\n",
        ")\n",
        "all_data"
      ]
    },
    {
      "cell_type": "markdown",
      "metadata": {
        "id": "3GpXIf4v8sI0"
      },
      "source": [
        "# RFM"
      ]
    },
    {
      "cell_type": "code",
      "execution_count": 77,
      "metadata": {
        "colab": {
          "base_uri": "https://localhost:8080/"
        },
        "id": "oLiQeVFmGlMa",
        "outputId": "cdea8b89-672a-4c31-f131-e533111dc494"
      },
      "outputs": [
        {
          "data": {
            "text/plain": [
              "Timestamp('2018-08-29 15:00:37')"
            ]
          },
          "execution_count": 77,
          "metadata": {},
          "output_type": "execute_result"
        }
      ],
      "source": [
        "all_data['order_purchase_timestamp'] = pd.to_datetime(all_data['order_purchase_timestamp'])\n",
        "all_data['order_purchase_timestamp'].max()"
      ]
    },
    {
      "cell_type": "code",
      "execution_count": 78,
      "metadata": {
        "colab": {
          "base_uri": "https://localhost:8080/"
        },
        "id": "SfZ5uDikInsY",
        "outputId": "c65e0a8d-d463-4aa6-e4e4-4368f547b754"
      },
      "outputs": [
        {
          "data": {
            "text/plain": [
              "Timestamp('2016-09-15 12:16:38')"
            ]
          },
          "execution_count": 78,
          "metadata": {},
          "output_type": "execute_result"
        }
      ],
      "source": [
        "all_data['order_purchase_timestamp'].min()"
      ]
    },
    {
      "cell_type": "code",
      "execution_count": 79,
      "metadata": {
        "colab": {
          "base_uri": "https://localhost:8080/"
        },
        "id": "FmYO_cn9I1KG",
        "outputId": "40471b4f-4177-4529-ee70-bb556feaf4d0"
      },
      "outputs": [
        {
          "data": {
            "text/plain": [
              "Timestamp('2018-08-29 15:00:37')"
            ]
          },
          "execution_count": 79,
          "metadata": {},
          "output_type": "execute_result"
        }
      ],
      "source": [
        "all_data['order_purchase_timestamp'].max()"
      ]
    },
    {
      "cell_type": "code",
      "execution_count": 80,
      "metadata": {
        "id": "L87WsxGWKNSl"
      },
      "outputs": [],
      "source": [
        "now = pd.to_datetime('2018-10-30 00:00:00')"
      ]
    },
    {
      "cell_type": "code",
      "execution_count": 81,
      "metadata": {
        "id": "vHHOMHKkKd_Z"
      },
      "outputs": [],
      "source": [
        "all_data['order_purchase_timestamp'] = pd.to_datetime(all_data['order_purchase_timestamp'])\n",
        "\n",
        "# Group by 'customer_id' and calculate Recency, Frequency, and Monetary\n",
        "recency = (now - all_data.groupby('customer_id')['order_purchase_timestamp'].max()).dt.days\n",
        "frequency = all_data.groupby('customer_id')['order_id'].count()\n",
        "monetary = all_data.groupby('customer_id')['price'].sum()\n",
        "\n",
        "# Create a new DataFrame with the calculated metrics\n",
        "rfm = pd.DataFrame({\n",
        "    'customer_id': recency.index,\n",
        "    'Recency': recency.values,\n",
        "    'Frequency': frequency.values,\n",
        "    'Monetary': monetary.values\n",
        "})"
      ]
    },
    {
      "cell_type": "code",
      "execution_count": 82,
      "metadata": {
        "id": "IB8ARXZcJ_dC"
      },
      "outputs": [],
      "source": [
        "col_list = ['customer_id','Recency','Frequency','Monetary']\n",
        "rfm.columns = col_list"
      ]
    },
    {
      "cell_type": "code",
      "execution_count": 83,
      "metadata": {
        "colab": {
          "base_uri": "https://localhost:8080/",
          "height": 424
        },
        "id": "o2mFlyyCKpYj",
        "outputId": "0fda21ce-ef68-4ed4-beee-4f9b0c66b3f7"
      },
      "outputs": [
        {
          "data": {
            "text/html": [
              "<div>\n",
              "<style scoped>\n",
              "    .dataframe tbody tr th:only-of-type {\n",
              "        vertical-align: middle;\n",
              "    }\n",
              "\n",
              "    .dataframe tbody tr th {\n",
              "        vertical-align: top;\n",
              "    }\n",
              "\n",
              "    .dataframe thead th {\n",
              "        text-align: right;\n",
              "    }\n",
              "</style>\n",
              "<table border=\"1\" class=\"dataframe\">\n",
              "  <thead>\n",
              "    <tr style=\"text-align: right;\">\n",
              "      <th></th>\n",
              "      <th>customer_id</th>\n",
              "      <th>Recency</th>\n",
              "      <th>Frequency</th>\n",
              "      <th>Monetary</th>\n",
              "    </tr>\n",
              "  </thead>\n",
              "  <tbody>\n",
              "    <tr>\n",
              "      <th>8546</th>\n",
              "      <td>1617b1357756262bfa56ab541c47bc16</td>\n",
              "      <td>395.0</td>\n",
              "      <td>8</td>\n",
              "      <td>13440.00</td>\n",
              "    </tr>\n",
              "    <tr>\n",
              "      <th>86603</th>\n",
              "      <td>de832e8dbb1f588a47013e53feaa67cc</td>\n",
              "      <td>518.0</td>\n",
              "      <td>15</td>\n",
              "      <td>10856.10</td>\n",
              "    </tr>\n",
              "    <tr>\n",
              "      <th>38590</th>\n",
              "      <td>63b964e79dee32a3587651701a2b8dbf</td>\n",
              "      <td>257.0</td>\n",
              "      <td>24</td>\n",
              "      <td>9888.00</td>\n",
              "    </tr>\n",
              "    <tr>\n",
              "      <th>43009</th>\n",
              "      <td>6f241d5bbb142b6f764387c8c270645a</td>\n",
              "      <td>172.0</td>\n",
              "      <td>7</td>\n",
              "      <td>9520.14</td>\n",
              "    </tr>\n",
              "    <tr>\n",
              "      <th>56788</th>\n",
              "      <td>926b6a6fb8b6081e00b335edaf578d35</td>\n",
              "      <td>559.0</td>\n",
              "      <td>2</td>\n",
              "      <td>7998.00</td>\n",
              "    </tr>\n",
              "    <tr>\n",
              "      <th>...</th>\n",
              "      <td>...</td>\n",
              "      <td>...</td>\n",
              "      <td>...</td>\n",
              "      <td>...</td>\n",
              "    </tr>\n",
              "    <tr>\n",
              "      <th>24465</th>\n",
              "      <td>3f0bb4c1fae52dfe92ff27372d2b0d67</td>\n",
              "      <td>NaN</td>\n",
              "      <td>0</td>\n",
              "      <td>0.00</td>\n",
              "    </tr>\n",
              "    <tr>\n",
              "      <th>24240</th>\n",
              "      <td>3e6754e591ff3568ccc5bf69a649918c</td>\n",
              "      <td>NaN</td>\n",
              "      <td>0</td>\n",
              "      <td>0.00</td>\n",
              "    </tr>\n",
              "    <tr>\n",
              "      <th>73256</th>\n",
              "      <td>bbdbc21c0d067bd705b5aaff781709c9</td>\n",
              "      <td>NaN</td>\n",
              "      <td>0</td>\n",
              "      <td>0.00</td>\n",
              "    </tr>\n",
              "    <tr>\n",
              "      <th>93</th>\n",
              "      <td>003cb2c7ce25d8af8556fb456f903546</td>\n",
              "      <td>NaN</td>\n",
              "      <td>0</td>\n",
              "      <td>0.00</td>\n",
              "    </tr>\n",
              "    <tr>\n",
              "      <th>31</th>\n",
              "      <td>001574cd5824c0b1ea90dd4f4ba6d5b8</td>\n",
              "      <td>NaN</td>\n",
              "      <td>0</td>\n",
              "      <td>0.00</td>\n",
              "    </tr>\n",
              "  </tbody>\n",
              "</table>\n",
              "<p>99441 rows × 4 columns</p>\n",
              "</div>"
            ],
            "text/plain": [
              "                            customer_id  Recency  Frequency  Monetary\n",
              "8546   1617b1357756262bfa56ab541c47bc16    395.0          8  13440.00\n",
              "86603  de832e8dbb1f588a47013e53feaa67cc    518.0         15  10856.10\n",
              "38590  63b964e79dee32a3587651701a2b8dbf    257.0         24   9888.00\n",
              "43009  6f241d5bbb142b6f764387c8c270645a    172.0          7   9520.14\n",
              "56788  926b6a6fb8b6081e00b335edaf578d35    559.0          2   7998.00\n",
              "...                                 ...      ...        ...       ...\n",
              "24465  3f0bb4c1fae52dfe92ff27372d2b0d67      NaN          0      0.00\n",
              "24240  3e6754e591ff3568ccc5bf69a649918c      NaN          0      0.00\n",
              "73256  bbdbc21c0d067bd705b5aaff781709c9      NaN          0      0.00\n",
              "93     003cb2c7ce25d8af8556fb456f903546      NaN          0      0.00\n",
              "31     001574cd5824c0b1ea90dd4f4ba6d5b8      NaN          0      0.00\n",
              "\n",
              "[99441 rows x 4 columns]"
            ]
          },
          "execution_count": 83,
          "metadata": {},
          "output_type": "execute_result"
        }
      ],
      "source": [
        "# jumlah uang terbanyak yang dibabiskan oleh customer\n",
        "rfm.sort_values(by='Monetary',ascending=False)"
      ]
    },
    {
      "cell_type": "code",
      "execution_count": 84,
      "metadata": {
        "colab": {
          "base_uri": "https://localhost:8080/",
          "height": 424
        },
        "id": "OnxLxwd4KyUu",
        "outputId": "7c767aed-865a-4972-96ad-d23a4058fdeb"
      },
      "outputs": [
        {
          "data": {
            "text/html": [
              "<div>\n",
              "<style scoped>\n",
              "    .dataframe tbody tr th:only-of-type {\n",
              "        vertical-align: middle;\n",
              "    }\n",
              "\n",
              "    .dataframe tbody tr th {\n",
              "        vertical-align: top;\n",
              "    }\n",
              "\n",
              "    .dataframe thead th {\n",
              "        text-align: right;\n",
              "    }\n",
              "</style>\n",
              "<table border=\"1\" class=\"dataframe\">\n",
              "  <thead>\n",
              "    <tr style=\"text-align: right;\">\n",
              "      <th></th>\n",
              "      <th>customer_id</th>\n",
              "      <th>Recency</th>\n",
              "      <th>Frequency</th>\n",
              "      <th>Monetary</th>\n",
              "    </tr>\n",
              "  </thead>\n",
              "  <tbody>\n",
              "    <tr>\n",
              "      <th>15183</th>\n",
              "      <td>270c23a11d024a44c896d1894b261a83</td>\n",
              "      <td>447.0</td>\n",
              "      <td>63</td>\n",
              "      <td>2305.38</td>\n",
              "    </tr>\n",
              "    <tr>\n",
              "      <th>7586</th>\n",
              "      <td>13aa59158da63ba0e93ec6ac2c07aacb</td>\n",
              "      <td>401.0</td>\n",
              "      <td>38</td>\n",
              "      <td>3039.62</td>\n",
              "    </tr>\n",
              "    <tr>\n",
              "      <th>56942</th>\n",
              "      <td>92cd3ec6e2d643d4ebd0e3d6238f69e2</td>\n",
              "      <td>509.0</td>\n",
              "      <td>26</td>\n",
              "      <td>1299.74</td>\n",
              "    </tr>\n",
              "    <tr>\n",
              "      <th>16961</th>\n",
              "      <td>2ba91e12e5e4c9f56b82b86d9031d329</td>\n",
              "      <td>338.0</td>\n",
              "      <td>24</td>\n",
              "      <td>2397.60</td>\n",
              "    </tr>\n",
              "    <tr>\n",
              "      <th>38590</th>\n",
              "      <td>63b964e79dee32a3587651701a2b8dbf</td>\n",
              "      <td>257.0</td>\n",
              "      <td>24</td>\n",
              "      <td>9888.00</td>\n",
              "    </tr>\n",
              "    <tr>\n",
              "      <th>...</th>\n",
              "      <td>...</td>\n",
              "      <td>...</td>\n",
              "      <td>...</td>\n",
              "      <td>...</td>\n",
              "    </tr>\n",
              "    <tr>\n",
              "      <th>96113</th>\n",
              "      <td>f742b8152818738cf8ed12cff171bad5</td>\n",
              "      <td>NaN</td>\n",
              "      <td>0</td>\n",
              "      <td>0.00</td>\n",
              "    </tr>\n",
              "    <tr>\n",
              "      <th>96175</th>\n",
              "      <td>f76cd756cb7b70b6f769c529728596ce</td>\n",
              "      <td>NaN</td>\n",
              "      <td>0</td>\n",
              "      <td>0.00</td>\n",
              "    </tr>\n",
              "    <tr>\n",
              "      <th>96174</th>\n",
              "      <td>f76bd438480c183ffb510bad040f3bd9</td>\n",
              "      <td>NaN</td>\n",
              "      <td>0</td>\n",
              "      <td>0.00</td>\n",
              "    </tr>\n",
              "    <tr>\n",
              "      <th>96163</th>\n",
              "      <td>f76262103d732ab3dc351f36b1cf976c</td>\n",
              "      <td>NaN</td>\n",
              "      <td>0</td>\n",
              "      <td>0.00</td>\n",
              "    </tr>\n",
              "    <tr>\n",
              "      <th>96183</th>\n",
              "      <td>f773ad68c6d12ab39621c0c4ee7085ac</td>\n",
              "      <td>NaN</td>\n",
              "      <td>0</td>\n",
              "      <td>0.00</td>\n",
              "    </tr>\n",
              "  </tbody>\n",
              "</table>\n",
              "<p>99441 rows × 4 columns</p>\n",
              "</div>"
            ],
            "text/plain": [
              "                            customer_id  Recency  Frequency  Monetary\n",
              "15183  270c23a11d024a44c896d1894b261a83    447.0         63   2305.38\n",
              "7586   13aa59158da63ba0e93ec6ac2c07aacb    401.0         38   3039.62\n",
              "56942  92cd3ec6e2d643d4ebd0e3d6238f69e2    509.0         26   1299.74\n",
              "16961  2ba91e12e5e4c9f56b82b86d9031d329    338.0         24   2397.60\n",
              "38590  63b964e79dee32a3587651701a2b8dbf    257.0         24   9888.00\n",
              "...                                 ...      ...        ...       ...\n",
              "96113  f742b8152818738cf8ed12cff171bad5      NaN          0      0.00\n",
              "96175  f76cd756cb7b70b6f769c529728596ce      NaN          0      0.00\n",
              "96174  f76bd438480c183ffb510bad040f3bd9      NaN          0      0.00\n",
              "96163  f76262103d732ab3dc351f36b1cf976c      NaN          0      0.00\n",
              "96183  f773ad68c6d12ab39621c0c4ee7085ac      NaN          0      0.00\n",
              "\n",
              "[99441 rows x 4 columns]"
            ]
          },
          "execution_count": 84,
          "metadata": {},
          "output_type": "execute_result"
        }
      ],
      "source": [
        "#customer dengan jumlah pembelian belanja terbanyak\n",
        "rfm.sort_values(by='Frequency',ascending=False)"
      ]
    },
    {
      "cell_type": "code",
      "execution_count": 85,
      "metadata": {
        "colab": {
          "base_uri": "https://localhost:8080/",
          "height": 424
        },
        "id": "k-DI4uXJLXKX",
        "outputId": "d5b189a1-9c98-4c21-d462-2d315e9fe59b"
      },
      "outputs": [
        {
          "data": {
            "text/html": [
              "<div>\n",
              "<style scoped>\n",
              "    .dataframe tbody tr th:only-of-type {\n",
              "        vertical-align: middle;\n",
              "    }\n",
              "\n",
              "    .dataframe tbody tr th {\n",
              "        vertical-align: top;\n",
              "    }\n",
              "\n",
              "    .dataframe thead th {\n",
              "        text-align: right;\n",
              "    }\n",
              "</style>\n",
              "<table border=\"1\" class=\"dataframe\">\n",
              "  <thead>\n",
              "    <tr style=\"text-align: right;\">\n",
              "      <th></th>\n",
              "      <th>customer_id</th>\n",
              "      <th>Recency</th>\n",
              "      <th>Frequency</th>\n",
              "      <th>Monetary</th>\n",
              "    </tr>\n",
              "  </thead>\n",
              "  <tbody>\n",
              "    <tr>\n",
              "      <th>52277</th>\n",
              "      <td>86dc2ffce2dfff336de2f386a786e574</td>\n",
              "      <td>774.0</td>\n",
              "      <td>3</td>\n",
              "      <td>134.97</td>\n",
              "    </tr>\n",
              "    <tr>\n",
              "      <th>72024</th>\n",
              "      <td>b8cf418e97ae795672d326288dfab7a7</td>\n",
              "      <td>756.0</td>\n",
              "      <td>1</td>\n",
              "      <td>119.90</td>\n",
              "    </tr>\n",
              "    <tr>\n",
              "      <th>49183</th>\n",
              "      <td>7ec40b22510fdbea1b08921dd39e63d8</td>\n",
              "      <td>756.0</td>\n",
              "      <td>1</td>\n",
              "      <td>21.90</td>\n",
              "    </tr>\n",
              "    <tr>\n",
              "      <th>89911</th>\n",
              "      <td>e6f959bf384d1d53b6d68826699bba12</td>\n",
              "      <td>756.0</td>\n",
              "      <td>1</td>\n",
              "      <td>128.90</td>\n",
              "    </tr>\n",
              "    <tr>\n",
              "      <th>46540</th>\n",
              "      <td>7812fcebfc5e8065d31e1bb5f0017dae</td>\n",
              "      <td>756.0</td>\n",
              "      <td>1</td>\n",
              "      <td>29.99</td>\n",
              "    </tr>\n",
              "    <tr>\n",
              "      <th>...</th>\n",
              "      <td>...</td>\n",
              "      <td>...</td>\n",
              "      <td>...</td>\n",
              "      <td>...</td>\n",
              "    </tr>\n",
              "    <tr>\n",
              "      <th>99317</th>\n",
              "      <td>ffaded93e5a1fce06363cfb6905676a1</td>\n",
              "      <td>NaN</td>\n",
              "      <td>0</td>\n",
              "      <td>0.00</td>\n",
              "    </tr>\n",
              "    <tr>\n",
              "      <th>99333</th>\n",
              "      <td>ffb81db92e7ac00ecfac978f673be8a6</td>\n",
              "      <td>NaN</td>\n",
              "      <td>0</td>\n",
              "      <td>0.00</td>\n",
              "    </tr>\n",
              "    <tr>\n",
              "      <th>99405</th>\n",
              "      <td>ffe7ffb7c7ae0d42808f387578426b3b</td>\n",
              "      <td>NaN</td>\n",
              "      <td>0</td>\n",
              "      <td>0.00</td>\n",
              "    </tr>\n",
              "    <tr>\n",
              "      <th>99434</th>\n",
              "      <td>fffc22669ca576ae3f654ea64c8f36be</td>\n",
              "      <td>NaN</td>\n",
              "      <td>0</td>\n",
              "      <td>0.00</td>\n",
              "    </tr>\n",
              "    <tr>\n",
              "      <th>99440</th>\n",
              "      <td>ffffe8b65bbe3087b653a978c870db99</td>\n",
              "      <td>NaN</td>\n",
              "      <td>0</td>\n",
              "      <td>0.00</td>\n",
              "    </tr>\n",
              "  </tbody>\n",
              "</table>\n",
              "<p>99441 rows × 4 columns</p>\n",
              "</div>"
            ],
            "text/plain": [
              "                            customer_id  Recency  Frequency  Monetary\n",
              "52277  86dc2ffce2dfff336de2f386a786e574    774.0          3    134.97\n",
              "72024  b8cf418e97ae795672d326288dfab7a7    756.0          1    119.90\n",
              "49183  7ec40b22510fdbea1b08921dd39e63d8    756.0          1     21.90\n",
              "89911  e6f959bf384d1d53b6d68826699bba12    756.0          1    128.90\n",
              "46540  7812fcebfc5e8065d31e1bb5f0017dae    756.0          1     29.99\n",
              "...                                 ...      ...        ...       ...\n",
              "99317  ffaded93e5a1fce06363cfb6905676a1      NaN          0      0.00\n",
              "99333  ffb81db92e7ac00ecfac978f673be8a6      NaN          0      0.00\n",
              "99405  ffe7ffb7c7ae0d42808f387578426b3b      NaN          0      0.00\n",
              "99434  fffc22669ca576ae3f654ea64c8f36be      NaN          0      0.00\n",
              "99440  ffffe8b65bbe3087b653a978c870db99      NaN          0      0.00\n",
              "\n",
              "[99441 rows x 4 columns]"
            ]
          },
          "execution_count": 85,
          "metadata": {},
          "output_type": "execute_result"
        }
      ],
      "source": [
        "# Customer terakhir yang melakukan pembelian\n",
        "rfm.sort_values(by='Recency',ascending=False)"
      ]
    },
    {
      "cell_type": "markdown",
      "metadata": {
        "id": "zRUEX9zl9C8N"
      },
      "source": [
        "# Visualisasi"
      ]
    },
    {
      "cell_type": "markdown",
      "metadata": {
        "id": "HOIhWr7F9Mh5"
      },
      "source": [
        "### 1. Produk apa yang paling banyak dan sedikit yang terjual?"
      ]
    },
    {
      "cell_type": "code",
      "execution_count": 86,
      "metadata": {
        "colab": {
          "base_uri": "https://localhost:8080/",
          "height": 81
        },
        "id": "m81rDToy_Gw2",
        "outputId": "9b329ea9-051c-4cb9-dac3-42e79a0517e5"
      },
      "outputs": [
        {
          "data": {
            "text/html": [
              "<div>\n",
              "<style scoped>\n",
              "    .dataframe tbody tr th:only-of-type {\n",
              "        vertical-align: middle;\n",
              "    }\n",
              "\n",
              "    .dataframe tbody tr th {\n",
              "        vertical-align: top;\n",
              "    }\n",
              "\n",
              "    .dataframe thead th {\n",
              "        text-align: right;\n",
              "    }\n",
              "</style>\n",
              "<table border=\"1\" class=\"dataframe\">\n",
              "  <thead>\n",
              "    <tr style=\"text-align: right;\">\n",
              "      <th></th>\n",
              "      <th>product_category_name</th>\n",
              "      <th>product_category_name_english</th>\n",
              "    </tr>\n",
              "  </thead>\n",
              "  <tbody>\n",
              "    <tr>\n",
              "      <th>64</th>\n",
              "      <td>cds_dvds_musicais</td>\n",
              "      <td>cds_dvds_musicals</td>\n",
              "    </tr>\n",
              "  </tbody>\n",
              "</table>\n",
              "</div>"
            ],
            "text/plain": [
              "   product_category_name product_category_name_english\n",
              "64     cds_dvds_musicais             cds_dvds_musicals"
            ]
          },
          "execution_count": 86,
          "metadata": {},
          "output_type": "execute_result"
        }
      ],
      "source": [
        "category.sample()"
      ]
    },
    {
      "cell_type": "code",
      "execution_count": 87,
      "metadata": {
        "colab": {
          "base_uri": "https://localhost:8080/",
          "height": 81
        },
        "id": "_FxhkasL_Ie3",
        "outputId": "2c532327-da2e-44f0-dfdb-0c2a60bb298b"
      },
      "outputs": [
        {
          "data": {
            "text/html": [
              "<div>\n",
              "<style scoped>\n",
              "    .dataframe tbody tr th:only-of-type {\n",
              "        vertical-align: middle;\n",
              "    }\n",
              "\n",
              "    .dataframe tbody tr th {\n",
              "        vertical-align: top;\n",
              "    }\n",
              "\n",
              "    .dataframe thead th {\n",
              "        text-align: right;\n",
              "    }\n",
              "</style>\n",
              "<table border=\"1\" class=\"dataframe\">\n",
              "  <thead>\n",
              "    <tr style=\"text-align: right;\">\n",
              "      <th></th>\n",
              "      <th>product_id</th>\n",
              "      <th>product_category_name</th>\n",
              "      <th>product_photos_qty</th>\n",
              "    </tr>\n",
              "  </thead>\n",
              "  <tbody>\n",
              "    <tr>\n",
              "      <th>30449</th>\n",
              "      <td>ce045b0fd0fb3300b45effc7fb45012d</td>\n",
              "      <td>relogios_presentes</td>\n",
              "      <td>4.0</td>\n",
              "    </tr>\n",
              "  </tbody>\n",
              "</table>\n",
              "</div>"
            ],
            "text/plain": [
              "                             product_id product_category_name  \\\n",
              "30449  ce045b0fd0fb3300b45effc7fb45012d    relogios_presentes   \n",
              "\n",
              "       product_photos_qty  \n",
              "30449                 4.0  "
            ]
          },
          "execution_count": 87,
          "metadata": {},
          "output_type": "execute_result"
        }
      ],
      "source": [
        "products.sample()"
      ]
    },
    {
      "cell_type": "code",
      "execution_count": 88,
      "metadata": {
        "id": "vr3qTlcz9fSn"
      },
      "outputs": [],
      "source": [
        "category_products = pd.merge(\n",
        "    left=products,\n",
        "    right=category,\n",
        "    how=\"left\",\n",
        "    left_on=\"product_category_name\",\n",
        "    right_on=\"product_category_name\"\n",
        ")"
      ]
    },
    {
      "cell_type": "code",
      "execution_count": 89,
      "metadata": {
        "colab": {
          "base_uri": "https://localhost:8080/",
          "height": 424
        },
        "id": "nReFvrwu9Ycz",
        "outputId": "a8b98cc7-7ad2-45e3-daed-79d676908e43"
      },
      "outputs": [
        {
          "data": {
            "text/html": [
              "<div>\n",
              "<style scoped>\n",
              "    .dataframe tbody tr th:only-of-type {\n",
              "        vertical-align: middle;\n",
              "    }\n",
              "\n",
              "    .dataframe tbody tr th {\n",
              "        vertical-align: top;\n",
              "    }\n",
              "\n",
              "    .dataframe thead th {\n",
              "        text-align: right;\n",
              "    }\n",
              "</style>\n",
              "<table border=\"1\" class=\"dataframe\">\n",
              "  <thead>\n",
              "    <tr style=\"text-align: right;\">\n",
              "      <th></th>\n",
              "      <th>product_category_name_english</th>\n",
              "      <th>product_id</th>\n",
              "    </tr>\n",
              "  </thead>\n",
              "  <tbody>\n",
              "    <tr>\n",
              "      <th>7</th>\n",
              "      <td>bed_bath_table</td>\n",
              "      <td>3029</td>\n",
              "    </tr>\n",
              "    <tr>\n",
              "      <th>65</th>\n",
              "      <td>sports_leisure</td>\n",
              "      <td>2867</td>\n",
              "    </tr>\n",
              "    <tr>\n",
              "      <th>39</th>\n",
              "      <td>furniture_decor</td>\n",
              "      <td>2657</td>\n",
              "    </tr>\n",
              "    <tr>\n",
              "      <th>43</th>\n",
              "      <td>health_beauty</td>\n",
              "      <td>2444</td>\n",
              "    </tr>\n",
              "    <tr>\n",
              "      <th>49</th>\n",
              "      <td>housewares</td>\n",
              "      <td>2335</td>\n",
              "    </tr>\n",
              "    <tr>\n",
              "      <th>...</th>\n",
              "      <td>...</td>\n",
              "      <td>...</td>\n",
              "    </tr>\n",
              "    <tr>\n",
              "      <th>67</th>\n",
              "      <td>tablets_printing_image</td>\n",
              "      <td>9</td>\n",
              "    </tr>\n",
              "    <tr>\n",
              "      <th>46</th>\n",
              "      <td>home_comfort_2</td>\n",
              "      <td>5</td>\n",
              "    </tr>\n",
              "    <tr>\n",
              "      <th>29</th>\n",
              "      <td>fashion_childrens_clothes</td>\n",
              "      <td>5</td>\n",
              "    </tr>\n",
              "    <tr>\n",
              "      <th>61</th>\n",
              "      <td>security_and_services</td>\n",
              "      <td>2</td>\n",
              "    </tr>\n",
              "    <tr>\n",
              "      <th>11</th>\n",
              "      <td>cds_dvds_musicals</td>\n",
              "      <td>1</td>\n",
              "    </tr>\n",
              "  </tbody>\n",
              "</table>\n",
              "<p>71 rows × 2 columns</p>\n",
              "</div>"
            ],
            "text/plain": [
              "   product_category_name_english  product_id\n",
              "7                 bed_bath_table        3029\n",
              "65                sports_leisure        2867\n",
              "39               furniture_decor        2657\n",
              "43                 health_beauty        2444\n",
              "49                    housewares        2335\n",
              "..                           ...         ...\n",
              "67        tablets_printing_image           9\n",
              "46                home_comfort_2           5\n",
              "29     fashion_childrens_clothes           5\n",
              "61         security_and_services           2\n",
              "11             cds_dvds_musicals           1\n",
              "\n",
              "[71 rows x 2 columns]"
            ]
          },
          "execution_count": 89,
          "metadata": {},
          "output_type": "execute_result"
        }
      ],
      "source": [
        "product_id_counts = category_products.groupby('product_category_name_english')['product_id'].count().reset_index()\n",
        "sorted_df = product_id_counts.sort_values(by='product_id', ascending=False)\n",
        "\n",
        "sorted_df"
      ]
    },
    {
      "cell_type": "code",
      "execution_count": 90,
      "metadata": {
        "colab": {
          "base_uri": "https://localhost:8080/",
          "height": 899
        },
        "id": "roD5FXir9FLT",
        "outputId": "a6f0ff49-84a3-49ab-a95c-24b94eacbbae"
      },
      "outputs": [
        {
          "name": "stderr",
          "output_type": "stream",
          "text": [
            "C:\\Users\\Anonymus\\AppData\\Local\\Temp\\ipykernel_18732\\1127009799.py:6: FutureWarning: \n",
            "\n",
            "Passing `palette` without assigning `hue` is deprecated and will be removed in v0.14.0. Assign the `y` variable to `hue` and set `legend=False` for the same effect.\n",
            "\n",
            "  sns.barplot(x=\"product_id\", y=\"product_category_name_english\", data=sorted_df.head(5), palette=colors, ax=ax[0])\n",
            "C:\\Users\\Anonymus\\AppData\\Local\\Temp\\ipykernel_18732\\1127009799.py:12: FutureWarning: \n",
            "\n",
            "Passing `palette` without assigning `hue` is deprecated and will be removed in v0.14.0. Assign the `y` variable to `hue` and set `legend=False` for the same effect.\n",
            "\n",
            "  sns.barplot(x=\"product_id\", y=\"product_category_name_english\", data=sorted_df.sort_values(by=\"product_id\", ascending=True).head(5), palette=colors, ax=ax[1])\n"
          ]
        },
        {
          "data": {
            "image/png": "[encoded data removed]",
            "text/plain": [
              "<Figure size 2400x600 with 2 Axes>"
            ]
          },
          "metadata": {},
          "output_type": "display_data"
        }
      ],
      "source": [
        "import seaborn as sns\n",
        "fig, ax = plt.subplots(nrows=1, ncols=2, figsize=(24, 6))\n",
        "\n",
        "colors = [\"#72BCD4\", \"#D3D3D3\", \"#D3D3D3\", \"#D3D3D3\", \"#D3D3D3\"]\n",
        "\n",
        "sns.barplot(x=\"product_id\", y=\"product_category_name_english\", data=sorted_df.head(5), palette=colors, ax=ax[0])\n",
        "ax[0].set_ylabel(None)\n",
        "ax[0].set_xlabel(None)\n",
        "ax[0].set_title(\"products with the highest sales\", loc=\"center\", fontsize=18)\n",
        "ax[0].tick_params(axis ='y', labelsize=15)\n",
        "\n",
        "sns.barplot(x=\"product_id\", y=\"product_category_name_english\", data=sorted_df.sort_values(by=\"product_id\", ascending=True).head(5), palette=colors, ax=ax[1])\n",
        "ax[1].set_ylabel(None)\n",
        "ax[1].set_xlabel(None)\n",
        "ax[1].invert_xaxis()\n",
        "ax[1].yaxis.set_label_position(\"right\")\n",
        "ax[1].yaxis.tick_right()\n",
        "ax[1].set_title(\"products with the lowest sales\", loc=\"center\", fontsize=18)\n",
        "ax[1].tick_params(axis='y', labelsize=15)\n",
        "\n",
        "plt.suptitle(\"most and least sold products\", fontsize=20)\n",
        "plt.show()"
      ]
    },
    {
      "cell_type": "code",
      "execution_count": 91,
      "metadata": {
        "colab": {
          "base_uri": "https://localhost:8080/",
          "height": 196
        },
        "id": "r4p0g4VG-Agv",
        "outputId": "c6047b83-7911-490d-8cb8-2e035681b7b5"
      },
      "outputs": [
        {
          "data": {
            "text/html": [
              "<div>\n",
              "<style scoped>\n",
              "    .dataframe tbody tr th:only-of-type {\n",
              "        vertical-align: middle;\n",
              "    }\n",
              "\n",
              "    .dataframe tbody tr th {\n",
              "        vertical-align: top;\n",
              "    }\n",
              "\n",
              "    .dataframe thead th {\n",
              "        text-align: right;\n",
              "    }\n",
              "</style>\n",
              "<table border=\"1\" class=\"dataframe\">\n",
              "  <thead>\n",
              "    <tr style=\"text-align: right;\">\n",
              "      <th></th>\n",
              "      <th>customer_id</th>\n",
              "      <th>customer_unique_id</th>\n",
              "      <th>customer_zip_code_prefix</th>\n",
              "      <th>customer_city</th>\n",
              "      <th>customer_state</th>\n",
              "      <th>order_id</th>\n",
              "      <th>order_status</th>\n",
              "      <th>order_purchase_timestamp</th>\n",
              "      <th>order_approved_at</th>\n",
              "      <th>order_delivered_carrier_date</th>\n",
              "      <th>...</th>\n",
              "      <th>price</th>\n",
              "      <th>freight_value</th>\n",
              "      <th>seller_zip_code_prefix</th>\n",
              "      <th>seller_city</th>\n",
              "      <th>seller_state</th>\n",
              "      <th>review_id</th>\n",
              "      <th>review_score</th>\n",
              "      <th>review_comment_message</th>\n",
              "      <th>review_creation_date</th>\n",
              "      <th>review_answer_timestamp</th>\n",
              "    </tr>\n",
              "  </thead>\n",
              "  <tbody>\n",
              "    <tr>\n",
              "      <th>25869</th>\n",
              "      <td>ab98d2da5363a55f4c3fac106aa2ab8f</td>\n",
              "      <td>f38532d296d5be924fdb891e14e34c75</td>\n",
              "      <td>78058</td>\n",
              "      <td>cuiaba</td>\n",
              "      <td>MT</td>\n",
              "      <td>NaN</td>\n",
              "      <td>NaN</td>\n",
              "      <td>NaT</td>\n",
              "      <td>NaN</td>\n",
              "      <td>NaT</td>\n",
              "      <td>...</td>\n",
              "      <td>NaN</td>\n",
              "      <td>NaN</td>\n",
              "      <td>NaN</td>\n",
              "      <td>NaN</td>\n",
              "      <td>NaN</td>\n",
              "      <td>NaN</td>\n",
              "      <td>NaN</td>\n",
              "      <td>NaN</td>\n",
              "      <td>NaN</td>\n",
              "      <td>NaN</td>\n",
              "    </tr>\n",
              "    <tr>\n",
              "      <th>10622</th>\n",
              "      <td>df4058431c8103750dddc04b0b6583f2</td>\n",
              "      <td>26f17bce4c85dfa04d493059fe609cd5</td>\n",
              "      <td>22261</td>\n",
              "      <td>rio de janeiro</td>\n",
              "      <td>RJ</td>\n",
              "      <td>df71ba0f02310921da0a5e4f708916a5</td>\n",
              "      <td>delivered</td>\n",
              "      <td>2018-07-28 21:37:46</td>\n",
              "      <td>2018-07-28 21:50:15</td>\n",
              "      <td>2018-07-30 12:46:00</td>\n",
              "      <td>...</td>\n",
              "      <td>56.0</td>\n",
              "      <td>20.56</td>\n",
              "      <td>14940.0</td>\n",
              "      <td>ibitinga</td>\n",
              "      <td>SP</td>\n",
              "      <td>32119be8f4888547172ab9519e3a96a1</td>\n",
              "      <td>5.0</td>\n",
              "      <td>1.0</td>\n",
              "      <td>2018-08-04 00:00:00</td>\n",
              "      <td>2018-08-07 13:00:29</td>\n",
              "    </tr>\n",
              "  </tbody>\n",
              "</table>\n",
              "<p>2 rows × 32 columns</p>\n",
              "</div>"
            ],
            "text/plain": [
              "                            customer_id                customer_unique_id  \\\n",
              "25869  ab98d2da5363a55f4c3fac106aa2ab8f  f38532d296d5be924fdb891e14e34c75   \n",
              "10622  df4058431c8103750dddc04b0b6583f2  26f17bce4c85dfa04d493059fe609cd5   \n",
              "\n",
              "       customer_zip_code_prefix   customer_city customer_state  \\\n",
              "25869                     78058          cuiaba             MT   \n",
              "10622                     22261  rio de janeiro             RJ   \n",
              "\n",
              "                               order_id order_status order_purchase_timestamp  \\\n",
              "25869                               NaN          NaN                      NaT   \n",
              "10622  df71ba0f02310921da0a5e4f708916a5    delivered      2018-07-28 21:37:46   \n",
              "\n",
              "         order_approved_at order_delivered_carrier_date  ... price  \\\n",
              "25869                  NaN                          NaT  ...   NaN   \n",
              "10622  2018-07-28 21:50:15          2018-07-30 12:46:00  ...  56.0   \n",
              "\n",
              "      freight_value seller_zip_code_prefix  seller_city  seller_state  \\\n",
              "25869           NaN                    NaN          NaN           NaN   \n",
              "10622         20.56                14940.0     ibitinga            SP   \n",
              "\n",
              "                              review_id  review_score  review_comment_message  \\\n",
              "25869                               NaN           NaN                     NaN   \n",
              "10622  32119be8f4888547172ab9519e3a96a1           5.0                     1.0   \n",
              "\n",
              "       review_creation_date review_answer_timestamp  \n",
              "25869                   NaN                     NaN  \n",
              "10622   2018-08-04 00:00:00     2018-08-07 13:00:29  \n",
              "\n",
              "[2 rows x 32 columns]"
            ]
          },
          "execution_count": 91,
          "metadata": {},
          "output_type": "execute_result"
        }
      ],
      "source": [
        "all_data.sample(2)"
      ]
    },
    {
      "cell_type": "markdown",
      "metadata": {
        "id": "yRXoDLSNANB3"
      },
      "source": [
        "### Wilayah yang paling sering melakukan transaksi"
      ]
    },
    {
      "cell_type": "code",
      "execution_count": 92,
      "metadata": {
        "id": "zH7Xc3BsAcRo"
      },
      "outputs": [],
      "source": [
        "other_state_geolocation = data['geo'].groupby(['geolocation_zip_code_prefix'])['geolocation_state'].nunique().reset_index(name='count')\n",
        "other_state_geolocation[other_state_geolocation['count']>= 2].shape\n",
        "max_state = data['geo'].groupby(['geolocation_zip_code_prefix','geolocation_state']).size().reset_index(name='count').drop_duplicates(subset = 'geolocation_zip_code_prefix').drop('count',axis=1)"
      ]
    },
    {
      "cell_type": "code",
      "execution_count": 93,
      "metadata": {
        "id": "YPu7dgVUAfEa"
      },
      "outputs": [],
      "source": [
        "geolocation_silver = data['geo'].groupby(['geolocation_zip_code_prefix','geolocation_city','geolocation_state'])[['geolocation_lat','geolocation_lng']].median().reset_index()\n",
        "geolocation_silver = geolocation_silver.merge(max_state,on=['geolocation_zip_code_prefix','geolocation_state'],how='inner')"
      ]
    },
    {
      "cell_type": "code",
      "execution_count": 94,
      "metadata": {
        "id": "BD5ZMXAEAgEu"
      },
      "outputs": [],
      "source": [
        "customers_silver = customers_df.merge(geolocation_silver,left_on='customer_zip_code_prefix',right_on='geolocation_zip_code_prefix',how='inner')\n"
      ]
    },
    {
      "cell_type": "code",
      "execution_count": 95,
      "metadata": {
        "colab": {
          "base_uri": "https://localhost:8080/",
          "height": 313
        },
        "id": "C48tfw4vAiCv",
        "outputId": "eb0f4aa6-e7f6-4084-84d2-4979b0c8e62f"
      },
      "outputs": [
        {
          "data": {
            "text/html": [
              "<div>\n",
              "<style scoped>\n",
              "    .dataframe tbody tr th:only-of-type {\n",
              "        vertical-align: middle;\n",
              "    }\n",
              "\n",
              "    .dataframe tbody tr th {\n",
              "        vertical-align: top;\n",
              "    }\n",
              "\n",
              "    .dataframe thead th {\n",
              "        text-align: right;\n",
              "    }\n",
              "</style>\n",
              "<table border=\"1\" class=\"dataframe\">\n",
              "  <thead>\n",
              "    <tr style=\"text-align: right;\">\n",
              "      <th></th>\n",
              "      <th>customer_id</th>\n",
              "      <th>customer_unique_id</th>\n",
              "      <th>customer_zip_code_prefix</th>\n",
              "      <th>customer_city</th>\n",
              "      <th>customer_state</th>\n",
              "      <th>order_id</th>\n",
              "      <th>order_status</th>\n",
              "      <th>order_purchase_timestamp</th>\n",
              "      <th>order_approved_at</th>\n",
              "      <th>order_delivered_carrier_date</th>\n",
              "      <th>order_delivered_customer_date</th>\n",
              "      <th>order_estimated_delivery_date</th>\n",
              "      <th>delivered_on_time</th>\n",
              "      <th>delivery_time</th>\n",
              "      <th>geolocation_zip_code_prefix</th>\n",
              "      <th>geolocation_city</th>\n",
              "      <th>geolocation_state</th>\n",
              "      <th>geolocation_lat</th>\n",
              "      <th>geolocation_lng</th>\n",
              "    </tr>\n",
              "  </thead>\n",
              "  <tbody>\n",
              "    <tr>\n",
              "      <th>0</th>\n",
              "      <td>06b8999e2fba1a1fbc88172c00ba8bc7</td>\n",
              "      <td>861eff4711a542e4b93843c6dd7febb0</td>\n",
              "      <td>14409</td>\n",
              "      <td>franca</td>\n",
              "      <td>SP</td>\n",
              "      <td>00e7ee1b050b8499577073aeb2a297a1</td>\n",
              "      <td>delivered</td>\n",
              "      <td>2017-05-16 15:05:35</td>\n",
              "      <td>2017-05-16 15:22:12</td>\n",
              "      <td>2017-05-23 10:47:57</td>\n",
              "      <td>2017-05-25 10:35:35</td>\n",
              "      <td>2017-06-05 00:00:00</td>\n",
              "      <td>On Time</td>\n",
              "      <td>2.0</td>\n",
              "      <td>14409</td>\n",
              "      <td>franca</td>\n",
              "      <td>SP</td>\n",
              "      <td>-20.502307</td>\n",
              "      <td>-47.396740</td>\n",
              "    </tr>\n",
              "    <tr>\n",
              "      <th>1</th>\n",
              "      <td>18955e83d337fd6b2def6b18a428ac77</td>\n",
              "      <td>290c77bc529b7ac935b93aa66c333dc3</td>\n",
              "      <td>9790</td>\n",
              "      <td>sao bernardo do campo</td>\n",
              "      <td>SP</td>\n",
              "      <td>29150127e6685892b6eab3eec79f59c7</td>\n",
              "      <td>delivered</td>\n",
              "      <td>2018-01-12 20:48:24</td>\n",
              "      <td>2018-01-12 20:58:32</td>\n",
              "      <td>2018-01-15 17:14:59</td>\n",
              "      <td>2018-01-29 12:41:19</td>\n",
              "      <td>2018-02-06 00:00:00</td>\n",
              "      <td>On Time</td>\n",
              "      <td>14.0</td>\n",
              "      <td>9790</td>\n",
              "      <td>sao bernardo do campo</td>\n",
              "      <td>SP</td>\n",
              "      <td>-23.731211</td>\n",
              "      <td>-46.541206</td>\n",
              "    </tr>\n",
              "    <tr>\n",
              "      <th>2</th>\n",
              "      <td>18955e83d337fd6b2def6b18a428ac77</td>\n",
              "      <td>290c77bc529b7ac935b93aa66c333dc3</td>\n",
              "      <td>9790</td>\n",
              "      <td>sao bernardo do campo</td>\n",
              "      <td>SP</td>\n",
              "      <td>29150127e6685892b6eab3eec79f59c7</td>\n",
              "      <td>delivered</td>\n",
              "      <td>2018-01-12 20:48:24</td>\n",
              "      <td>2018-01-12 20:58:32</td>\n",
              "      <td>2018-01-15 17:14:59</td>\n",
              "      <td>2018-01-29 12:41:19</td>\n",
              "      <td>2018-02-06 00:00:00</td>\n",
              "      <td>On Time</td>\n",
              "      <td>14.0</td>\n",
              "      <td>9790</td>\n",
              "      <td>são bernardo do campo</td>\n",
              "      <td>SP</td>\n",
              "      <td>-23.727018</td>\n",
              "      <td>-46.543192</td>\n",
              "    </tr>\n",
              "    <tr>\n",
              "      <th>3</th>\n",
              "      <td>4e7b3e00288586ebd08712fdd0374a03</td>\n",
              "      <td>060e732b5b29e8181a18229c7b0b2b5e</td>\n",
              "      <td>1151</td>\n",
              "      <td>sao paulo</td>\n",
              "      <td>SP</td>\n",
              "      <td>b2059ed67ce144a36e2aa97d2c9e9ad2</td>\n",
              "      <td>delivered</td>\n",
              "      <td>2018-05-19 16:07:45</td>\n",
              "      <td>2018-05-20 16:19:10</td>\n",
              "      <td>2018-06-11 14:31:00</td>\n",
              "      <td>2018-06-14 17:58:51</td>\n",
              "      <td>2018-06-13 00:00:00</td>\n",
              "      <td>Late</td>\n",
              "      <td>3.0</td>\n",
              "      <td>1151</td>\n",
              "      <td>sao paulo</td>\n",
              "      <td>SP</td>\n",
              "      <td>-23.531294</td>\n",
              "      <td>-46.657039</td>\n",
              "    </tr>\n",
              "    <tr>\n",
              "      <th>4</th>\n",
              "      <td>4e7b3e00288586ebd08712fdd0374a03</td>\n",
              "      <td>060e732b5b29e8181a18229c7b0b2b5e</td>\n",
              "      <td>1151</td>\n",
              "      <td>sao paulo</td>\n",
              "      <td>SP</td>\n",
              "      <td>b2059ed67ce144a36e2aa97d2c9e9ad2</td>\n",
              "      <td>delivered</td>\n",
              "      <td>2018-05-19 16:07:45</td>\n",
              "      <td>2018-05-20 16:19:10</td>\n",
              "      <td>2018-06-11 14:31:00</td>\n",
              "      <td>2018-06-14 17:58:51</td>\n",
              "      <td>2018-06-13 00:00:00</td>\n",
              "      <td>Late</td>\n",
              "      <td>3.0</td>\n",
              "      <td>1151</td>\n",
              "      <td>são paulo</td>\n",
              "      <td>SP</td>\n",
              "      <td>-23.531294</td>\n",
              "      <td>-46.656866</td>\n",
              "    </tr>\n",
              "  </tbody>\n",
              "</table>\n",
              "</div>"
            ],
            "text/plain": [
              "                        customer_id                customer_unique_id  \\\n",
              "0  06b8999e2fba1a1fbc88172c00ba8bc7  861eff4711a542e4b93843c6dd7febb0   \n",
              "1  18955e83d337fd6b2def6b18a428ac77  290c77bc529b7ac935b93aa66c333dc3   \n",
              "2  18955e83d337fd6b2def6b18a428ac77  290c77bc529b7ac935b93aa66c333dc3   \n",
              "3  4e7b3e00288586ebd08712fdd0374a03  060e732b5b29e8181a18229c7b0b2b5e   \n",
              "4  4e7b3e00288586ebd08712fdd0374a03  060e732b5b29e8181a18229c7b0b2b5e   \n",
              "\n",
              "   customer_zip_code_prefix          customer_city customer_state  \\\n",
              "0                     14409                 franca             SP   \n",
              "1                      9790  sao bernardo do campo             SP   \n",
              "2                      9790  sao bernardo do campo             SP   \n",
              "3                      1151              sao paulo             SP   \n",
              "4                      1151              sao paulo             SP   \n",
              "\n",
              "                           order_id order_status order_purchase_timestamp  \\\n",
              "0  00e7ee1b050b8499577073aeb2a297a1    delivered      2017-05-16 15:05:35   \n",
              "1  29150127e6685892b6eab3eec79f59c7    delivered      2018-01-12 20:48:24   \n",
              "2  29150127e6685892b6eab3eec79f59c7    delivered      2018-01-12 20:48:24   \n",
              "3  b2059ed67ce144a36e2aa97d2c9e9ad2    delivered      2018-05-19 16:07:45   \n",
              "4  b2059ed67ce144a36e2aa97d2c9e9ad2    delivered      2018-05-19 16:07:45   \n",
              "\n",
              "     order_approved_at order_delivered_carrier_date  \\\n",
              "0  2017-05-16 15:22:12          2017-05-23 10:47:57   \n",
              "1  2018-01-12 20:58:32          2018-01-15 17:14:59   \n",
              "2  2018-01-12 20:58:32          2018-01-15 17:14:59   \n",
              "3  2018-05-20 16:19:10          2018-06-11 14:31:00   \n",
              "4  2018-05-20 16:19:10          2018-06-11 14:31:00   \n",
              "\n",
              "  order_delivered_customer_date order_estimated_delivery_date  \\\n",
              "0           2017-05-25 10:35:35           2017-06-05 00:00:00   \n",
              "1           2018-01-29 12:41:19           2018-02-06 00:00:00   \n",
              "2           2018-01-29 12:41:19           2018-02-06 00:00:00   \n",
              "3           2018-06-14 17:58:51           2018-06-13 00:00:00   \n",
              "4           2018-06-14 17:58:51           2018-06-13 00:00:00   \n",
              "\n",
              "  delivered_on_time  delivery_time  geolocation_zip_code_prefix  \\\n",
              "0           On Time            2.0                        14409   \n",
              "1           On Time           14.0                         9790   \n",
              "2           On Time           14.0                         9790   \n",
              "3              Late            3.0                         1151   \n",
              "4              Late            3.0                         1151   \n",
              "\n",
              "        geolocation_city geolocation_state  geolocation_lat  geolocation_lng  \n",
              "0                 franca                SP       -20.502307       -47.396740  \n",
              "1  sao bernardo do campo                SP       -23.731211       -46.541206  \n",
              "2  são bernardo do campo                SP       -23.727018       -46.543192  \n",
              "3              sao paulo                SP       -23.531294       -46.657039  \n",
              "4              são paulo                SP       -23.531294       -46.656866  "
            ]
          },
          "execution_count": 95,
          "metadata": {},
          "output_type": "execute_result"
        }
      ],
      "source": [
        "customers_silver.head(5)"
      ]
    },
    {
      "cell_type": "code",
      "execution_count": 96,
      "metadata": {
        "id": "9i2UhT95AmFX"
      },
      "outputs": [],
      "source": [
        "customers_silver = customers_silver.drop_duplicates('order_id')"
      ]
    },
    {
      "cell_type": "code",
      "execution_count": 97,
      "metadata": {
        "id": "4yWC864RBBrc"
      },
      "outputs": [],
      "source": [
        "def plot_brazil_map(data):\n",
        "    # Load the Brazil map image\n",
        "    brazil = mpimg.imread(urllib.request.urlopen('https://i.pinimg.com/originals/3a/0c/e1/3a0ce18b3c842748c255bc0aa445ad41.jpg'), 'jpg')\n",
        "\n",
        "    # Create a scatter plot on the map\n",
        "    ax = data.plot(kind=\"scatter\",\n",
        "                   x=\"geolocation_lng\",\n",
        "                   y=\"geolocation_lat\",\n",
        "                   figsize=(10, 10),\n",
        "                   alpha=0.3,\n",
        "                   s=0.3,\n",
        "                   c='blue')  # Change the color to blue\n",
        "\n",
        "    plt.axis('off')  # Turn off the axis\n",
        "    plt.imshow(brazil, extent=[-73.98283055, -33.8, -33.75116944, 5.4])  # Display the Brazil map\n",
        "    plt.show()  # Show the plot"
      ]
    },
    {
      "cell_type": "code",
      "execution_count": 98,
      "metadata": {
        "colab": {
          "base_uri": "https://localhost:8080/",
          "height": 792
        },
        "id": "H5sNFA9lBKuo",
        "outputId": "e57c661c-9144-408c-f8c2-f497ae0174ca"
      },
      "outputs": [
        {
          "data": {
            "image/png": "[encoded data removed]",
            "text/plain": [
              "<Figure size 1000x1000 with 1 Axes>"
            ]
          },
          "metadata": {},
          "output_type": "display_data"
        }
      ],
      "source": [
        "plot_brazil_map(customers_silver.drop_duplicates(subset='customer_unique_id'))"
      ]
    },
    {
      "cell_type": "markdown",
      "metadata": {
        "id": "jy2MjH5EAA6I"
      },
      "source": [
        "### Bagaimana tingkatan review yang diberikan oleh pelanggan?"
      ]
    },
    {
      "cell_type": "code",
      "execution_count": 99,
      "metadata": {
        "colab": {
          "base_uri": "https://localhost:8080/",
          "height": 781
        },
        "id": "JCcSr4Uj9o9f",
        "outputId": "a77468f2-0f9a-4bb3-8b6d-b2859bbf4908"
      },
      "outputs": [
        {
          "name": "stderr",
          "output_type": "stream",
          "text": [
            "C:\\Users\\Anonymus\\AppData\\Local\\Temp\\ipykernel_18732\\3657188930.py:8: FutureWarning: \n",
            "\n",
            "Passing `palette` without assigning `hue` is deprecated and will be removed in v0.14.0. Assign the `x` variable to `hue` and set `legend=False` for the same effect.\n",
            "\n",
            "  sns.barplot(x=rating_service.index,\n"
          ]
        },
        {
          "data": {
            "image/png": "[encoded data removed]",
            "text/plain": [
              "<Figure size 1000x500 with 1 Axes>"
            ]
          },
          "metadata": {},
          "output_type": "display_data"
        }
      ],
      "source": [
        "rating_service = reviews['review_score'].value_counts().sort_values(ascending=False)\n",
        "\n",
        "max_score = rating_service.idxmax()\n",
        "\n",
        "sns.set(style=\"darkgrid\")\n",
        "\n",
        "plt.figure(figsize=(10, 5))\n",
        "sns.barplot(x=rating_service.index,\n",
        "            y=rating_service.values,\n",
        "            order=rating_service.index,\n",
        "            palette=[\"#72BCD4\" if score == max_score else \"#D3D3D3\" for score in rating_service.index]\n",
        "            )\n",
        "\n",
        "plt.title(\"Rating customers for service\", fontsize=15)\n",
        "plt.xlabel(\"Rating\")\n",
        "plt.ylabel(\"Customer\")\n",
        "plt.xticks(fontsize=12)\n",
        "plt.show()"
      ]
    },
    {
      "cell_type": "markdown",
      "metadata": {
        "id": "lOJrQjkzCQLL"
      },
      "source": [
        "# Kesimpulan"
      ]
    },
    {
      "cell_type": "markdown",
      "metadata": {
        "id": "w-By73LzCW7i"
      },
      "source": [
        "1. Berdasarkan rangkaian step visualisasi yang telah dilakukan sebelumnya, **bed_bath_table** adalah barang yang **paling banyak terjual**. Sedangkan barang yang paling sedikit terjual adalah produk security_and_services\n",
        "\n",
        "\n",
        "2. Dilihat dari map visualization sebelumnya, kebanyakan transaksi dilakukan di negara bagian tenggara, dan selatan.\n",
        "\n",
        "\n",
        "3. Sebagian pelanggan menunjukkan tingkat kepuasan yang memuaskan, yang dapat dibuktikan melalui data histogram di atas. Sebagian besar pelanggan memberikan rating sempurna, yaitu nilai 5, dengan rata-rata yang dibulatkan berada di angka 4.\n",
        "\n",
        "\n",
        "4. Dari analisis RFM yang telah dilakukan sebelumnya, dapat diketahui bahwa Jumlah pembelian tersebar dalam sekali transasksi sebesar 21 produk.Customer terakhir yang melakukan pembelian terakhir 774 hari yang lalu (dengan asumsi waktu sekarang 2018-10-30).Jumlah uang terbanyak yang dibabiskan oleh customer  terbesar 13440.00"
      ]
    }
  ],
  "metadata": {
    "colab": {
      "provenance": [],
      "toc_visible": true
    },
    "kernelspec": {
      "display_name": "libraries",
      "language": "python",
      "name": "python3"
    },
    "language_info": {
      "codemirror_mode": {
        "name": "ipython",
        "version": 3
      },
      "file_extension": ".py",
      "mimetype": "text/x-python",
      "name": "python",
      "nbconvert_exporter": "python",
      "pygments_lexer": "ipython3",
      "version": "3.12.7"
    }
  },
  "nbformat": 4,
  "nbformat_minor": 0
}
